{
  "cells": [
    {
      "cell_type": "markdown",
      "metadata": {
        "id": "HeYlsxIq5CqK"
      },
      "source": [
        "## Environment Set up"
      ]
    },
    {
      "cell_type": "markdown",
      "metadata": {
        "id": "AudSyK3x59MP"
      },
      "source": [
        "### Colab to Delete"
      ]
    },
    {
      "cell_type": "code",
      "execution_count": null,
      "metadata": {
        "id": "HjlGsmAkMmyo"
      },
      "outputs": [],
      "source": [
        "# Put your input and output paths here:\n",
        "\n",
        "inputPath = ''\n",
        "outputPath = ''"
      ]
    },
    {
      "cell_type": "code",
      "execution_count": null,
      "metadata": {
        "colab": {
          "base_uri": "https://localhost:8080/"
        },
        "id": "ScoeJ8vI6DLz",
        "outputId": "8aa89ac1-c436-45b6-a147-04f587ed5286"
      },
      "outputs": [],
      "source": [
        "# Uncomment this if running on Google Colab to install Latex:\n",
        "\n",
        "# !git clone https://github.com/latex3/latex2e.git\n",
        "\n",
        "# !apt-get update\n",
        "# !sudo apt-get install texlive-full "
      ]
    },
    {
      "cell_type": "code",
      "execution_count": null,
      "metadata": {
        "colab": {
          "base_uri": "https://localhost:8080/"
        },
        "id": "Nnn9mt1R6LqO",
        "outputId": "be6498a2-b362-4943-d6e3-a35b923a6266"
      },
      "outputs": [],
      "source": [
        "# Uncomment this if running on Google Colab to install Latex:\n",
        "\n",
        "# !pip install latex\n",
        "# import latex"
      ]
    },
    {
      "cell_type": "markdown",
      "metadata": {
        "id": "1HUZ5lv35GD-"
      },
      "source": [
        "### Global Settings"
      ]
    },
    {
      "cell_type": "code",
      "execution_count": 2,
      "metadata": {
        "id": "7rZmT9BY5M1m"
      },
      "outputs": [],
      "source": [
        "import json\n",
        "import pandas as pd\n",
        "import matplotlib.pyplot as plt\n",
        "import datetime\n",
        "import numpy as np\n",
        "\n",
        "# Latex Configuration\n",
        "import matplotlib.font_manager as font_manager\n",
        "from matplotlib.lines import Line2D\n",
        "import matplotlib.pyplot as plt\n",
        "import matplotlib.ticker as ticker\n",
        "import matplotlib.pyplot as plt\n",
        "import matplotlib as mpl\n",
        "import seaborn as sns\n",
        "import os\n",
        "from collections import defaultdict\n",
        "\n",
        "from scipy.stats import chi2_contingency\n",
        "\n",
        "params = {\n",
        "    \"axes.titlesize\" : 25,\n",
        "    'axes.labelsize': 20,\n",
        "    'font.size': 15,\n",
        "    'legend.fontsize': 20,\n",
        "    'xtick.labelsize': 15,\n",
        "    'ytick.labelsize': 20,\n",
        "    'font.family': 'serif',\n",
        "    'text.usetex': True\n",
        "}\n",
        "\n",
        "mpl.rcParams.update(params)"
      ]
    },
    {
      "cell_type": "code",
      "execution_count": 3,
      "metadata": {
        "id": "CrNbxDzL4MqX"
      },
      "outputs": [],
      "source": [
        "TIMEFORMAT = \"%Y-%m-%d %H:%M:%S\""
      ]
    },
    {
      "cell_type": "code",
      "execution_count": 4,
      "metadata": {
        "id": "FtyHiah_4MqX"
      },
      "outputs": [],
      "source": [
        "Q_emergence = datetime.date(2017, 10, 28)\n",
        "Q_ban = datetime.date(2018, 9, 12)"
      ]
    },
    {
      "cell_type": "code",
      "execution_count": 5,
      "metadata": {
        "id": "XQTR5QED4MqY"
      },
      "outputs": [],
      "source": [
        "time_delta = Q_ban - Q_emergence"
      ]
    },
    {
      "cell_type": "code",
      "execution_count": 6,
      "metadata": {
        "colab": {
          "base_uri": "https://localhost:8080/"
        },
        "id": "ylLLUoic4MqZ",
        "outputId": "be863cfd-8abf-458a-d868-a1dcb2a3e067"
      },
      "outputs": [
        {
          "data": {
            "text/plain": [
              "datetime.timedelta(days=319)"
            ]
          },
          "execution_count": 6,
          "metadata": {},
          "output_type": "execute_result"
        }
      ],
      "source": [
        "time_delta"
      ]
    },
    {
      "cell_type": "code",
      "execution_count": 7,
      "metadata": {
        "id": "nk7OatIp4Mqa"
      },
      "outputs": [],
      "source": [
        "colors = [\n",
        "    \"#72a555\",\n",
        "    \"#ab62c0\",\n",
        "    \"#c57c3c\",\n",
        "    \"#638ccc\",\n",
        "    \"#ca5670\"\n",
        "]"
      ]
    },
    {
      "cell_type": "markdown",
      "metadata": {
        "id": "W3428jc67E3L"
      },
      "source": [
        "## Import and Format Input Files"
      ]
    },
    {
      "cell_type": "markdown",
      "metadata": {
        "id": "buJ2C6OV7I3p"
      },
      "source": [
        "### Reddit submissions"
      ]
    },
    {
      "cell_type": "code",
      "execution_count": 8,
      "metadata": {
        "colab": {
          "base_uri": "https://localhost:8080/"
        },
        "id": "KNOfdss-4Mqa",
        "outputId": "7d3462cd-ef44-4b9a-a550-3fa24676df74"
      },
      "outputs": [
        {
          "name": "stderr",
          "output_type": "stream",
          "text": [
            "/usr/local/lib/python3.7/dist-packages/IPython/core/interactiveshell.py:2882: DtypeWarning: Columns (6) have mixed types.Specify dtype option on import or set low_memory=False.\n",
            "  exec(code_obj, self.user_global_ns, self.user_ns)\n"
          ]
        },
        {
          "data": {
            "text/plain": [
              "(2099875, 12)"
            ]
          },
          "execution_count": 8,
          "metadata": {},
          "output_type": "execute_result"
        }
      ],
      "source": [
        "sub_df = pd.read_csv(inputPath + \"Hashed_Q_Submissions_Raw_Combined.csv\", lineterminator='\\n')\n",
        "sub_df = sub_df.drop(columns=[\"upvote_ratio\"]).drop_duplicates()\n",
        "sub_df.shape"
      ]
    },
    {
      "cell_type": "code",
      "execution_count": 9,
      "metadata": {
        "colab": {
          "base_uri": "https://localhost:8080/"
        },
        "id": "qBrd5eAG4Mqb",
        "outputId": "441bac1c-b517-4b95-9e9c-a3ad22be5b96"
      },
      "outputs": [
        {
          "data": {
            "text/plain": [
              "Index(['subreddit', 'id', 'score', 'numReplies', 'author', 'title', 'text',\n",
              "       'is_self', 'domain', 'url', 'permalink', 'date_created'],\n",
              "      dtype='object')"
            ]
          },
          "execution_count": 9,
          "metadata": {},
          "output_type": "execute_result"
        }
      ],
      "source": [
        "sub_df.columns"
      ]
    },
    {
      "cell_type": "code",
      "execution_count": 10,
      "metadata": {
        "id": "h9bxWH6j4Mqc"
      },
      "outputs": [],
      "source": [
        "sub_df['date_created'] = pd.to_datetime(sub_df['date_created'])"
      ]
    },
    {
      "cell_type": "code",
      "execution_count": 11,
      "metadata": {
        "id": "O1fbvxTP4Mqd"
      },
      "outputs": [],
      "source": [
        "sub_df['type'] = 'submission'"
      ]
    },
    {
      "cell_type": "markdown",
      "metadata": {
        "id": "fs8ypJ9j8OHO"
      },
      "source": [
        "### Reddit Comments"
      ]
    },
    {
      "cell_type": "code",
      "execution_count": 12,
      "metadata": {
        "colab": {
          "base_uri": "https://localhost:8080/"
        },
        "id": "jMSQqz8B4Mqe",
        "outputId": "7e6a4e9e-0d7d-4778-aa74-07f9dc317d58"
      },
      "outputs": [
        {
          "name": "stdout",
          "output_type": "stream",
          "text": [
            "Before dropping duplicated ID: 10832349\n",
            "After dropping duplicated ID: 10831922\n"
          ]
        }
      ],
      "source": [
        "comments_df = pd.read_csv(inputPath + \"Hashed_Q_Comments_Raw_Combined.csv\", lineterminator='\\n')\n",
        "print(\"Before dropping duplicated ID:\", len(comments_df))\n",
        "comments_df = comments_df.drop(columns=[\"score\"]).drop_duplicates()\n",
        "print(\"After dropping duplicated ID:\", len(comments_df))"
      ]
    },
    {
      "cell_type": "code",
      "execution_count": 13,
      "metadata": {
        "colab": {
          "base_uri": "https://localhost:8080/"
        },
        "id": "6X6bWIPg4Mqe",
        "outputId": "8e8e8647-f64e-428c-c003-49553ae0acf1"
      },
      "outputs": [
        {
          "data": {
            "text/plain": [
              "Index(['id', 'link_id', 'parent_id', 'author', 'subreddit', 'body',\n",
              "       'date_created'],\n",
              "      dtype='object')"
            ]
          },
          "execution_count": 13,
          "metadata": {},
          "output_type": "execute_result"
        }
      ],
      "source": [
        "comments_df.columns"
      ]
    },
    {
      "cell_type": "code",
      "execution_count": 14,
      "metadata": {
        "id": "Xapxyf9T4Mqf"
      },
      "outputs": [],
      "source": [
        "comments_df['date_created'] = pd.to_datetime(comments_df['date_created'])"
      ]
    },
    {
      "cell_type": "code",
      "execution_count": 15,
      "metadata": {
        "colab": {
          "base_uri": "https://localhost:8080/"
        },
        "id": "3kmqPChS4Mqg",
        "outputId": "1cf077e0-90e5-4e93-b3ef-349b702ea645"
      },
      "outputs": [
        {
          "data": {
            "text/plain": [
              "10831922"
            ]
          },
          "execution_count": 15,
          "metadata": {},
          "output_type": "execute_result"
        }
      ],
      "source": [
        "len(comments_df[~pd.isnull(comments_df['id'])])"
      ]
    },
    {
      "cell_type": "code",
      "execution_count": 16,
      "metadata": {
        "id": "a1rGnoa44Mqh"
      },
      "outputs": [],
      "source": [
        "comments_df['type'] = 'comment'"
      ]
    },
    {
      "cell_type": "markdown",
      "metadata": {
        "id": "uBTerNpQ8i6o"
      },
      "source": [
        "### Combined submission and comment activity"
      ]
    },
    {
      "cell_type": "code",
      "execution_count": 17,
      "metadata": {
        "id": "wtuRvUOQ4Mqh"
      },
      "outputs": [],
      "source": [
        "all_df = pd.concat([sub_df, comments_df])"
      ]
    },
    {
      "cell_type": "code",
      "execution_count": 18,
      "metadata": {
        "colab": {
          "base_uri": "https://localhost:8080/"
        },
        "id": "k1SfEai_4Mqi",
        "outputId": "cdd75fe5-868a-4ea3-8934-c20257a73d97"
      },
      "outputs": [
        {
          "name": "stdout",
          "output_type": "stream",
          "text": [
            "(12931797, 16) 13182 authors 63697 subreddits\n"
          ]
        }
      ],
      "source": [
        "print(all_df.shape, all_df.author.nunique(), 'authors', all_df.subreddit.nunique(), 'subreddits')"
      ]
    },
    {
      "cell_type": "code",
      "execution_count": 19,
      "metadata": {
        "colab": {
          "base_uri": "https://localhost:8080/",
          "height": 381
        },
        "id": "9xsuFBFnD6AN",
        "outputId": "41d31219-76ae-4a9a-e653-3202909fc724"
      },
      "outputs": [
        {
          "data": {
            "text/html": [
              "\n",
              "  <div id=\"df-c79082be-1d10-4d59-b850-17835f192ef6\">\n",
              "    <div class=\"colab-df-container\">\n",
              "      <div>\n",
              "<style scoped>\n",
              "    .dataframe tbody tr th:only-of-type {\n",
              "        vertical-align: middle;\n",
              "    }\n",
              "\n",
              "    .dataframe tbody tr th {\n",
              "        vertical-align: top;\n",
              "    }\n",
              "\n",
              "    .dataframe thead th {\n",
              "        text-align: right;\n",
              "    }\n",
              "</style>\n",
              "<table border=\"1\" class=\"dataframe\">\n",
              "  <thead>\n",
              "    <tr style=\"text-align: right;\">\n",
              "      <th></th>\n",
              "      <th>subreddit</th>\n",
              "      <th>id</th>\n",
              "      <th>score</th>\n",
              "      <th>numReplies</th>\n",
              "      <th>author</th>\n",
              "      <th>title</th>\n",
              "      <th>text</th>\n",
              "      <th>is_self</th>\n",
              "      <th>domain</th>\n",
              "      <th>url</th>\n",
              "      <th>permalink</th>\n",
              "      <th>date_created</th>\n",
              "      <th>type</th>\n",
              "      <th>link_id</th>\n",
              "      <th>parent_id</th>\n",
              "      <th>body</th>\n",
              "    </tr>\n",
              "  </thead>\n",
              "  <tbody>\n",
              "    <tr>\n",
              "      <th>0</th>\n",
              "      <td>greatawakening</td>\n",
              "      <td>8xuv4i</td>\n",
              "      <td>1.0</td>\n",
              "      <td>14.0</td>\n",
              "      <td>879f283b831c13474e219e88663d95b0763cca9b</td>\n",
              "      <td>I’ve been writing “Trump Lives Here” on my $20...</td>\n",
              "      <td>NaN</td>\n",
              "      <td>False</td>\n",
              "      <td>i.redd.it</td>\n",
              "      <td>https://i.redd.it/h3mbbxvxq7911.jpg</td>\n",
              "      <td>/r/greatawakening/comments/8xuv4i/ive_been_wri...</td>\n",
              "      <td>2018-07-11 00:27:24</td>\n",
              "      <td>submission</td>\n",
              "      <td>NaN</td>\n",
              "      <td>NaN</td>\n",
              "      <td>NaN</td>\n",
              "    </tr>\n",
              "    <tr>\n",
              "      <th>1</th>\n",
              "      <td>greatawakening</td>\n",
              "      <td>8ydw3e</td>\n",
              "      <td>1.0</td>\n",
              "      <td>13.0</td>\n",
              "      <td>879f283b831c13474e219e88663d95b0763cca9b</td>\n",
              "      <td>Trying to take him seriously but...</td>\n",
              "      <td>NaN</td>\n",
              "      <td>False</td>\n",
              "      <td>i.redd.it</td>\n",
              "      <td>https://i.redd.it/62gaw0th4l911.jpg</td>\n",
              "      <td>/r/greatawakening/comments/8ydw3e/trying_to_ta...</td>\n",
              "      <td>2018-07-12 21:26:32</td>\n",
              "      <td>submission</td>\n",
              "      <td>NaN</td>\n",
              "      <td>NaN</td>\n",
              "      <td>NaN</td>\n",
              "    </tr>\n",
              "    <tr>\n",
              "      <th>2</th>\n",
              "      <td>greatawakening</td>\n",
              "      <td>8ytwg0</td>\n",
              "      <td>1.0</td>\n",
              "      <td>0.0</td>\n",
              "      <td>879f283b831c13474e219e88663d95b0763cca9b</td>\n",
              "      <td>“It is all happening!” Crumb?</td>\n",
              "      <td>NaN</td>\n",
              "      <td>False</td>\n",
              "      <td>i.redd.it</td>\n",
              "      <td>https://i.redd.it/yo9zscb1jx911.jpg</td>\n",
              "      <td>/r/greatawakening/comments/8ytwg0/it_is_all_ha...</td>\n",
              "      <td>2018-07-14 15:09:25</td>\n",
              "      <td>submission</td>\n",
              "      <td>NaN</td>\n",
              "      <td>NaN</td>\n",
              "      <td>NaN</td>\n",
              "    </tr>\n",
              "  </tbody>\n",
              "</table>\n",
              "</div>\n",
              "      <button class=\"colab-df-convert\" onclick=\"convertToInteractive('df-c79082be-1d10-4d59-b850-17835f192ef6')\"\n",
              "              title=\"Convert this dataframe to an interactive table.\"\n",
              "              style=\"display:none;\">\n",
              "        \n",
              "  <svg xmlns=\"http://www.w3.org/2000/svg\" height=\"24px\"viewBox=\"0 0 24 24\"\n",
              "       width=\"24px\">\n",
              "    <path d=\"M0 0h24v24H0V0z\" fill=\"none\"/>\n",
              "    <path d=\"M18.56 5.44l.94 2.06.94-2.06 2.06-.94-2.06-.94-.94-2.06-.94 2.06-2.06.94zm-11 1L8.5 8.5l.94-2.06 2.06-.94-2.06-.94L8.5 2.5l-.94 2.06-2.06.94zm10 10l.94 2.06.94-2.06 2.06-.94-2.06-.94-.94-2.06-.94 2.06-2.06.94z\"/><path d=\"M17.41 7.96l-1.37-1.37c-.4-.4-.92-.59-1.43-.59-.52 0-1.04.2-1.43.59L10.3 9.45l-7.72 7.72c-.78.78-.78 2.05 0 2.83L4 21.41c.39.39.9.59 1.41.59.51 0 1.02-.2 1.41-.59l7.78-7.78 2.81-2.81c.8-.78.8-2.07 0-2.86zM5.41 20L4 18.59l7.72-7.72 1.47 1.35L5.41 20z\"/>\n",
              "  </svg>\n",
              "      </button>\n",
              "      \n",
              "  <style>\n",
              "    .colab-df-container {\n",
              "      display:flex;\n",
              "      flex-wrap:wrap;\n",
              "      gap: 12px;\n",
              "    }\n",
              "\n",
              "    .colab-df-convert {\n",
              "      background-color: #E8F0FE;\n",
              "      border: none;\n",
              "      border-radius: 50%;\n",
              "      cursor: pointer;\n",
              "      display: none;\n",
              "      fill: #1967D2;\n",
              "      height: 32px;\n",
              "      padding: 0 0 0 0;\n",
              "      width: 32px;\n",
              "    }\n",
              "\n",
              "    .colab-df-convert:hover {\n",
              "      background-color: #E2EBFA;\n",
              "      box-shadow: 0px 1px 2px rgba(60, 64, 67, 0.3), 0px 1px 3px 1px rgba(60, 64, 67, 0.15);\n",
              "      fill: #174EA6;\n",
              "    }\n",
              "\n",
              "    [theme=dark] .colab-df-convert {\n",
              "      background-color: #3B4455;\n",
              "      fill: #D2E3FC;\n",
              "    }\n",
              "\n",
              "    [theme=dark] .colab-df-convert:hover {\n",
              "      background-color: #434B5C;\n",
              "      box-shadow: 0px 1px 3px 1px rgba(0, 0, 0, 0.15);\n",
              "      filter: drop-shadow(0px 1px 2px rgba(0, 0, 0, 0.3));\n",
              "      fill: #FFFFFF;\n",
              "    }\n",
              "  </style>\n",
              "\n",
              "      <script>\n",
              "        const buttonEl =\n",
              "          document.querySelector('#df-c79082be-1d10-4d59-b850-17835f192ef6 button.colab-df-convert');\n",
              "        buttonEl.style.display =\n",
              "          google.colab.kernel.accessAllowed ? 'block' : 'none';\n",
              "\n",
              "        async function convertToInteractive(key) {\n",
              "          const element = document.querySelector('#df-c79082be-1d10-4d59-b850-17835f192ef6');\n",
              "          const dataTable =\n",
              "            await google.colab.kernel.invokeFunction('convertToInteractive',\n",
              "                                                     [key], {});\n",
              "          if (!dataTable) return;\n",
              "\n",
              "          const docLinkHtml = 'Like what you see? Visit the ' +\n",
              "            '<a target=\"_blank\" href=https://colab.research.google.com/notebooks/data_table.ipynb>data table notebook</a>'\n",
              "            + ' to learn more about interactive tables.';\n",
              "          element.innerHTML = '';\n",
              "          dataTable['output_type'] = 'display_data';\n",
              "          await google.colab.output.renderOutput(dataTable, element);\n",
              "          const docLink = document.createElement('div');\n",
              "          docLink.innerHTML = docLinkHtml;\n",
              "          element.appendChild(docLink);\n",
              "        }\n",
              "      </script>\n",
              "    </div>\n",
              "  </div>\n",
              "  "
            ],
            "text/plain": [
              "        subreddit      id  score  numReplies  ...        type link_id parent_id body\n",
              "0  greatawakening  8xuv4i    1.0        14.0  ...  submission     NaN       NaN  NaN\n",
              "1  greatawakening  8ydw3e    1.0        13.0  ...  submission     NaN       NaN  NaN\n",
              "2  greatawakening  8ytwg0    1.0         0.0  ...  submission     NaN       NaN  NaN\n",
              "\n",
              "[3 rows x 16 columns]"
            ]
          },
          "execution_count": 19,
          "metadata": {},
          "output_type": "execute_result"
        }
      ],
      "source": [
        "all_df.head(3)"
      ]
    },
    {
      "cell_type": "markdown",
      "metadata": {
        "id": "7uWFtQAQ8qIz"
      },
      "source": [
        "### Q-user authors"
      ]
    },
    {
      "cell_type": "code",
      "execution_count": 20,
      "metadata": {
        "id": "SZzOMyGM4Mqi"
      },
      "outputs": [],
      "source": [
        "author_status = pd.read_csv(inputPath + \"Hashed_allAuthorStatus.csv\", index_col=0)\n",
        "author_status.reset_index(inplace=True)"
      ]
    },
    {
      "cell_type": "code",
      "execution_count": 21,
      "metadata": {
        "colab": {
          "base_uri": "https://localhost:8080/"
        },
        "id": "4TY8qqmv4Mqj",
        "outputId": "9b8d1e4f-39b4-484d-9db8-6babb1f1c1ab"
      },
      "outputs": [
        {
          "data": {
            "text/plain": [
              "Index(['QAuthor', 'isUQ', 'status'], dtype='object')"
            ]
          },
          "execution_count": 21,
          "metadata": {},
          "output_type": "execute_result"
        }
      ],
      "source": [
        "author_status.columns"
      ]
    },
    {
      "cell_type": "code",
      "execution_count": 22,
      "metadata": {
        "colab": {
          "base_uri": "https://localhost:8080/",
          "height": 206
        },
        "id": "pvQdfMXP4Mqk",
        "outputId": "ba1e13fb-e7fd-4218-9429-eb15007b4cce"
      },
      "outputs": [
        {
          "data": {
            "text/html": [
              "\n",
              "  <div id=\"df-6217b993-5d35-4ee5-b98f-87de34fec115\">\n",
              "    <div class=\"colab-df-container\">\n",
              "      <div>\n",
              "<style scoped>\n",
              "    .dataframe tbody tr th:only-of-type {\n",
              "        vertical-align: middle;\n",
              "    }\n",
              "\n",
              "    .dataframe tbody tr th {\n",
              "        vertical-align: top;\n",
              "    }\n",
              "\n",
              "    .dataframe thead th {\n",
              "        text-align: right;\n",
              "    }\n",
              "</style>\n",
              "<table border=\"1\" class=\"dataframe\">\n",
              "  <thead>\n",
              "    <tr style=\"text-align: right;\">\n",
              "      <th></th>\n",
              "      <th>QAuthor</th>\n",
              "      <th>isUQ</th>\n",
              "      <th>status</th>\n",
              "    </tr>\n",
              "  </thead>\n",
              "  <tbody>\n",
              "    <tr>\n",
              "      <th>0</th>\n",
              "      <td>aa65b7dd5d5fa660d058e094669f884bf7d52299</td>\n",
              "      <td>0</td>\n",
              "      <td>Active</td>\n",
              "    </tr>\n",
              "    <tr>\n",
              "      <th>1</th>\n",
              "      <td>2b1505f289338751829dfa129c0b52d145c9eceb</td>\n",
              "      <td>1</td>\n",
              "      <td>Active</td>\n",
              "    </tr>\n",
              "    <tr>\n",
              "      <th>2</th>\n",
              "      <td>4eeddb9abeb3c4889f1b037016bf2aeb834bb66d</td>\n",
              "      <td>0</td>\n",
              "      <td>Active</td>\n",
              "    </tr>\n",
              "    <tr>\n",
              "      <th>3</th>\n",
              "      <td>08a6fae5a56fcdb495b2de8a02625ea2b4abe32f</td>\n",
              "      <td>1</td>\n",
              "      <td>Active</td>\n",
              "    </tr>\n",
              "    <tr>\n",
              "      <th>4</th>\n",
              "      <td>01301652214982c57efe894efe7e2c7d57df2801</td>\n",
              "      <td>0</td>\n",
              "      <td>Active</td>\n",
              "    </tr>\n",
              "  </tbody>\n",
              "</table>\n",
              "</div>\n",
              "      <button class=\"colab-df-convert\" onclick=\"convertToInteractive('df-6217b993-5d35-4ee5-b98f-87de34fec115')\"\n",
              "              title=\"Convert this dataframe to an interactive table.\"\n",
              "              style=\"display:none;\">\n",
              "        \n",
              "  <svg xmlns=\"http://www.w3.org/2000/svg\" height=\"24px\"viewBox=\"0 0 24 24\"\n",
              "       width=\"24px\">\n",
              "    <path d=\"M0 0h24v24H0V0z\" fill=\"none\"/>\n",
              "    <path d=\"M18.56 5.44l.94 2.06.94-2.06 2.06-.94-2.06-.94-.94-2.06-.94 2.06-2.06.94zm-11 1L8.5 8.5l.94-2.06 2.06-.94-2.06-.94L8.5 2.5l-.94 2.06-2.06.94zm10 10l.94 2.06.94-2.06 2.06-.94-2.06-.94-.94-2.06-.94 2.06-2.06.94z\"/><path d=\"M17.41 7.96l-1.37-1.37c-.4-.4-.92-.59-1.43-.59-.52 0-1.04.2-1.43.59L10.3 9.45l-7.72 7.72c-.78.78-.78 2.05 0 2.83L4 21.41c.39.39.9.59 1.41.59.51 0 1.02-.2 1.41-.59l7.78-7.78 2.81-2.81c.8-.78.8-2.07 0-2.86zM5.41 20L4 18.59l7.72-7.72 1.47 1.35L5.41 20z\"/>\n",
              "  </svg>\n",
              "      </button>\n",
              "      \n",
              "  <style>\n",
              "    .colab-df-container {\n",
              "      display:flex;\n",
              "      flex-wrap:wrap;\n",
              "      gap: 12px;\n",
              "    }\n",
              "\n",
              "    .colab-df-convert {\n",
              "      background-color: #E8F0FE;\n",
              "      border: none;\n",
              "      border-radius: 50%;\n",
              "      cursor: pointer;\n",
              "      display: none;\n",
              "      fill: #1967D2;\n",
              "      height: 32px;\n",
              "      padding: 0 0 0 0;\n",
              "      width: 32px;\n",
              "    }\n",
              "\n",
              "    .colab-df-convert:hover {\n",
              "      background-color: #E2EBFA;\n",
              "      box-shadow: 0px 1px 2px rgba(60, 64, 67, 0.3), 0px 1px 3px 1px rgba(60, 64, 67, 0.15);\n",
              "      fill: #174EA6;\n",
              "    }\n",
              "\n",
              "    [theme=dark] .colab-df-convert {\n",
              "      background-color: #3B4455;\n",
              "      fill: #D2E3FC;\n",
              "    }\n",
              "\n",
              "    [theme=dark] .colab-df-convert:hover {\n",
              "      background-color: #434B5C;\n",
              "      box-shadow: 0px 1px 3px 1px rgba(0, 0, 0, 0.15);\n",
              "      filter: drop-shadow(0px 1px 2px rgba(0, 0, 0, 0.3));\n",
              "      fill: #FFFFFF;\n",
              "    }\n",
              "  </style>\n",
              "\n",
              "      <script>\n",
              "        const buttonEl =\n",
              "          document.querySelector('#df-6217b993-5d35-4ee5-b98f-87de34fec115 button.colab-df-convert');\n",
              "        buttonEl.style.display =\n",
              "          google.colab.kernel.accessAllowed ? 'block' : 'none';\n",
              "\n",
              "        async function convertToInteractive(key) {\n",
              "          const element = document.querySelector('#df-6217b993-5d35-4ee5-b98f-87de34fec115');\n",
              "          const dataTable =\n",
              "            await google.colab.kernel.invokeFunction('convertToInteractive',\n",
              "                                                     [key], {});\n",
              "          if (!dataTable) return;\n",
              "\n",
              "          const docLinkHtml = 'Like what you see? Visit the ' +\n",
              "            '<a target=\"_blank\" href=https://colab.research.google.com/notebooks/data_table.ipynb>data table notebook</a>'\n",
              "            + ' to learn more about interactive tables.';\n",
              "          element.innerHTML = '';\n",
              "          dataTable['output_type'] = 'display_data';\n",
              "          await google.colab.output.renderOutput(dataTable, element);\n",
              "          const docLink = document.createElement('div');\n",
              "          docLink.innerHTML = docLinkHtml;\n",
              "          element.appendChild(docLink);\n",
              "        }\n",
              "      </script>\n",
              "    </div>\n",
              "  </div>\n",
              "  "
            ],
            "text/plain": [
              "                                    QAuthor  isUQ  status\n",
              "0  aa65b7dd5d5fa660d058e094669f884bf7d52299     0  Active\n",
              "1  2b1505f289338751829dfa129c0b52d145c9eceb     1  Active\n",
              "2  4eeddb9abeb3c4889f1b037016bf2aeb834bb66d     0  Active\n",
              "3  08a6fae5a56fcdb495b2de8a02625ea2b4abe32f     1  Active\n",
              "4  01301652214982c57efe894efe7e2c7d57df2801     0  Active"
            ]
          },
          "execution_count": 22,
          "metadata": {},
          "output_type": "execute_result"
        }
      ],
      "source": [
        "author_status.head(5)"
      ]
    },
    {
      "cell_type": "code",
      "execution_count": 23,
      "metadata": {
        "colab": {
          "base_uri": "https://localhost:8080/"
        },
        "id": "HuPsBXUKD-3R",
        "outputId": "b2ed74f4-75e3-44f6-f7e6-1216e93660d5"
      },
      "outputs": [
        {
          "name": "stdout",
          "output_type": "stream",
          "text": [
            "13182 authors 3506 Q-enthusiastic 9676 Q-interested\n"
          ]
        }
      ],
      "source": [
        "print(author_status.QAuthor.nunique(), 'authors', author_status[author_status['isUQ'] == 1].QAuthor.nunique(), 'Q-enthusiastic', author_status[author_status['isUQ'] == 0].QAuthor.nunique(), 'Q-interested')"
      ]
    },
    {
      "cell_type": "code",
      "execution_count": 24,
      "metadata": {
        "colab": {
          "base_uri": "https://localhost:8080/"
        },
        "id": "n6nanhHbEPqP",
        "outputId": "b82ac730-29a9-431f-a2e6-2e95fbccfe6b"
      },
      "outputs": [
        {
          "data": {
            "text/plain": [
              "Active          11014\n",
              "DNE              1624\n",
              "Is_suspended      544\n",
              "Name: status, dtype: int64"
            ]
          },
          "execution_count": 24,
          "metadata": {},
          "output_type": "execute_result"
        }
      ],
      "source": [
        "author_status.status.value_counts()"
      ]
    },
    {
      "cell_type": "code",
      "execution_count": 25,
      "metadata": {
        "colab": {
          "base_uri": "https://localhost:8080/"
        },
        "id": "kY-tXIroJSUy",
        "outputId": "f367b3aa-0c10-4cdf-f25d-70faacf91954"
      },
      "outputs": [
        {
          "data": {
            "text/plain": [
              "0.4150028522532801"
            ]
          },
          "execution_count": 25,
          "metadata": {},
          "output_type": "execute_result"
        }
      ],
      "source": [
        "the_donald_submissions = sub_df[sub_df[\"subreddit\"]==\"The_Donald\"]\n",
        "the_donald_users = set(the_donald_submissions.author.unique().tolist())\n",
        "\n",
        "q_enth = set(author_status[author_status[\"isUQ\"]==1][\"QAuthor\"].tolist())\n",
        "\n",
        "len(the_donald_users.intersection(q_enth)) / len(q_enth)"
      ]
    },
    {
      "cell_type": "code",
      "execution_count": 26,
      "metadata": {
        "colab": {
          "base_uri": "https://localhost:8080/"
        },
        "id": "5sQAOFK-KXO9",
        "outputId": "50768549-1eb7-41d5-e8da-0995e14207e8"
      },
      "outputs": [
        {
          "data": {
            "text/plain": [
              "0.5581859669138619"
            ]
          },
          "execution_count": 26,
          "metadata": {},
          "output_type": "execute_result"
        }
      ],
      "source": [
        "the_donald_submissions = all_df[all_df[\"subreddit\"]==\"The_Donald\"]\n",
        "the_donald_users = set(the_donald_submissions.author.unique().tolist())\n",
        "\n",
        "q_enth = set(author_status[author_status[\"isUQ\"]==1][\"QAuthor\"].tolist())\n",
        "\n",
        "len(the_donald_users.intersection(q_enth)) / len(q_enth)"
      ]
    },
    {
      "cell_type": "markdown",
      "metadata": {
        "id": "HNRRGbFI9WJV"
      },
      "source": [
        "### Active subreddit statistics"
      ]
    },
    {
      "cell_type": "code",
      "execution_count": 27,
      "metadata": {
        "id": "Puzxkgck4Mqk"
      },
      "outputs": [],
      "source": [
        "subreddit_stat = pd.read_csv(inputPath + \"Hashed_subredditStats.csv\")"
      ]
    },
    {
      "cell_type": "code",
      "execution_count": 28,
      "metadata": {
        "colab": {
          "base_uri": "https://localhost:8080/"
        },
        "id": "-fqcF2DF4Mql",
        "outputId": "840f428f-1162-4f2e-bc19-87b39b22e58b"
      },
      "outputs": [
        {
          "data": {
            "text/plain": [
              "Index(['subreddit', 'numSubscribers', 'status', 'allModNames', 'allMods',\n",
              "       'qModNames', 'qMods', 'top_qModNames', 'top_qMods',\n",
              "       'firstPostSubmission', 'lastPostSubmission', 'firstPostComment',\n",
              "       'lastPostComment', 'qModsRatio', 'top_qModsRatio', 'activePreBanOnly',\n",
              "       'activePreQ', 'activePostBan', 'qAuth', 'top_qAuth', 'qSubmissions',\n",
              "       'top_qSubmissions', 'nonTop_qSubmissions', 'qComments', 'top_qComments',\n",
              "       'nonTop_qComments', 'top_qPercent', 'qPercent',\n",
              "       'Monthly Average Total Authors', 'Monthly Average Total Submissions',\n",
              "       'Monthly Average UQ Authors', 'Monthly Average UQ Submissions',\n",
              "       'Monthly Average QAnon Authors', 'Monthly Average QAnon Submissions',\n",
              "       '% UQ Submissions', '% UQ Authors', '% QAnon Submissions',\n",
              "       '% QAnon Authors'],\n",
              "      dtype='object')"
            ]
          },
          "execution_count": 28,
          "metadata": {},
          "output_type": "execute_result"
        }
      ],
      "source": [
        "subreddit_stat.columns"
      ]
    },
    {
      "cell_type": "markdown",
      "metadata": {
        "id": "_M8sc6xnE7Na"
      },
      "source": [
        "### Subreddit Labels (Mapping Topic and Relation Labels to Subreddits)"
      ]
    },
    {
      "cell_type": "code",
      "execution_count": 29,
      "metadata": {
        "id": "xCfbUlx84Mql"
      },
      "outputs": [],
      "source": [
        "subreddit_label_df = pd.read_csv(inputPath + \"Subreddit_Cluster_Map.csv\", index_col=0)"
      ]
    },
    {
      "cell_type": "code",
      "execution_count": 30,
      "metadata": {
        "colab": {
          "base_uri": "https://localhost:8080/"
        },
        "id": "FNyLldwq4Mqm",
        "outputId": "63580975-13da-4959-d477-29858b9e1e33"
      },
      "outputs": [
        {
          "data": {
            "text/plain": [
              "Index(['subreddit', 'Codes', 'Final Topic Clusters',\n",
              "       'Final Relation Clusters'],\n",
              "      dtype='object')"
            ]
          },
          "execution_count": 30,
          "metadata": {},
          "output_type": "execute_result"
        }
      ],
      "source": [
        "subreddit_label_df.columns"
      ]
    },
    {
      "cell_type": "markdown",
      "metadata": {
        "id": "UAfo7yLC4Mqr"
      },
      "source": [
        "## ACTIVITY PATTERNS OF Q-USERS"
      ]
    },
    {
      "cell_type": "markdown",
      "metadata": {
        "id": "AzNAmc6FTUbz"
      },
      "source": [
        "### Utils and Processing"
      ]
    },
    {
      "cell_type": "code",
      "execution_count": 31,
      "metadata": {
        "id": "NdceAuhnTYZz"
      },
      "outputs": [],
      "source": [
        "def paint_bar_plot(bars, seqs, labels, title, filename):\n",
        "  height = [[] for s in seqs]\n",
        "  before = 0\n",
        "  cnted = 0\n",
        "  bar_names = []\n",
        "  color = []\n",
        "\n",
        "  for ind, b in enumerate(bars[::-1]):\n",
        "    for seqind, seq in enumerate(seqs):\n",
        "      cnt = 0\n",
        "      for s in seq:\n",
        "        if (ind == 0 or s > 1. / float(before)) and (s <= 1. / float(b)):\n",
        "            cnt += 1\n",
        "      height[seqind].append(cnt)\n",
        "    if ind == 0:\n",
        "        bar_names.append(r'$[0, \\frac{1}{' + str(b) + '}]$')\n",
        "    else:\n",
        "      bar_names.append(r'$(\\frac{1}{' + str(before) + '},$' + r'$\\frac{1}{' + str(b) + '}]$')\n",
        "    before = b\n",
        "    color.append(colors[0])\n",
        "    \n",
        "  color.append(colors[1])\n",
        "  cnt = 0.\n",
        "  for seqind, seq in enumerate(seqs):\n",
        "    cnt = 0\n",
        "    for s in seq:\n",
        "      if (s > 1. / float(bars[0])) and (s < float(bars[0])):\n",
        "        cnt += 1  \n",
        "    height[seqind].append(cnt)\n",
        "  bar_names.append(r'$(\\frac{1}{' + str(bars[0]) + '}, ' + str(bars[0]) + ')$')\n",
        "\n",
        "\n",
        "  before = bars[0]\n",
        "  for ind, b in enumerate(bars):\n",
        "    for seqind, seq in enumerate(seqs):\n",
        "      cnt = 0\n",
        "      for s in seq:\n",
        "        if (s >= b) and (ind == len(bars)-1 or (s < bars[ind+1])):\n",
        "            cnt += 1\n",
        "      height[seqind].append(cnt)\n",
        "    if ind == len(bars)-1:\n",
        "        bar_names.append(r'$[' + str(b) + ', \\inf)$')\n",
        "    else:\n",
        "      bar_names.append(r'$[' + str(b)+ ', ' + str(bars[ind+1]) + ')$'.format(b, bars[ind+1]))\n",
        "    color.append(colors[2])  \n",
        "  #error = [2.65, 7.27, 7.07, 5.91, 6.11, 12.8]\n",
        "  print(chi2_contingency(height))\n",
        "  height = [[h / float(len(seqs[ind])) for h in hh] for ind, hh in enumerate(height)]\n",
        "  y_pos = np.arange(len(bar_names))\n",
        "\n",
        "  return height, y_pos, bar_names"
      ]
    },
    {
      "cell_type": "code",
      "execution_count": 32,
      "metadata": {
        "id": "c8pYKO0uVYtc"
      },
      "outputs": [],
      "source": [
        "# Q-user's first and last post (including submissions and comments)\n",
        "all_df['date_created'] = pd.to_datetime(all_df['date_created'])\n",
        "\n",
        "authFirstPost = all_df.groupby('author')[['date_created']].min().reset_index()\n",
        "authFirstPost.rename(columns={\"date_created\": \"first_post\", \"author\":\"QAuthor\"},inplace=True)\n",
        "author_status = author_status.merge(authFirstPost, on=\"QAuthor\", how=\"left\")\n",
        "\n",
        "authLastPost = all_df.groupby('author')[['date_created']].max().reset_index()\n",
        "authLastPost.rename(columns={\"date_created\": \"last_post\", \"author\":\"QAuthor\"},inplace=True)\n",
        "author_status = author_status.merge(authLastPost, on=\"QAuthor\", how=\"left\")"
      ]
    },
    {
      "cell_type": "code",
      "execution_count": 33,
      "metadata": {
        "colab": {
          "base_uri": "https://localhost:8080/"
        },
        "id": "ayhA8s33Vfxp",
        "outputId": "b9726ee7-8e0f-4dbb-826e-0da9dcdfcc47"
      },
      "outputs": [
        {
          "name": "stderr",
          "output_type": "stream",
          "text": [
            "/usr/local/lib/python3.7/dist-packages/ipykernel_launcher.py:1: FutureWarning: Comparison of Timestamp with datetime.date is deprecated in order to match the standard library behavior.  In a future version these will be considered non-comparable.Use 'ts == pd.Timestamp(date)' or 'ts.date() == date' instead.\n",
            "  \"\"\"Entry point for launching an IPython kernel.\n",
            "/usr/local/lib/python3.7/dist-packages/ipykernel_launcher.py:2: FutureWarning: Comparison of Timestamp with datetime.date is deprecated in order to match the standard library behavior.  In a future version these will be considered non-comparable.Use 'ts == pd.Timestamp(date)' or 'ts.date() == date' instead.\n",
            "  \n"
          ]
        }
      ],
      "source": [
        "author_status[\"active_pre_emergence\"] = author_status.apply(lambda row: row.first_post < Q_emergence, axis=1)\n",
        "author_status[\"active_post_ban\"] = author_status.apply(lambda row: row.last_post > Q_ban, axis=1)\n",
        "Q_intr_df = author_status[author_status[\"isUQ\"]==0]\n",
        "Q_enth_df = author_status[author_status[\"isUQ\"]==1]"
      ]
    },
    {
      "cell_type": "markdown",
      "metadata": {
        "id": "7vfh5WyFT0xz"
      },
      "source": [
        "### Table 1"
      ]
    },
    {
      "cell_type": "code",
      "execution_count": 34,
      "metadata": {
        "colab": {
          "base_uri": "https://localhost:8080/"
        },
        "id": "ocwTcOLXVL63",
        "outputId": "d6103f7a-a3b3-41b7-de07-2b449c9b89e0"
      },
      "outputs": [
        {
          "data": {
            "text/plain": [
              "[[9676, 8081, 1156, 439, 2702, 4611], [3506, 2933, 468, 105, 855, 1951]]"
            ]
          },
          "execution_count": 34,
          "metadata": {},
          "output_type": "execute_result"
        }
      ],
      "source": [
        "def get_status_count(input_df):\n",
        "    return [\n",
        "        input_df.count()[0], \\\n",
        "        input_df[input_df[\"status\"]==\"Active\"].count()[0], \\\n",
        "        input_df[input_df[\"status\"]==\"DNE\"].count()[0], \\\n",
        "        input_df[input_df[\"status\"]==\"Is_suspended\"].count()[0], \\\n",
        "        input_df[(input_df[\"status\"]==\"Active\") & (input_df[\"active_pre_emergence\"])].count()[0], \\\n",
        "        input_df[(input_df[\"status\"]==\"Active\") & (input_df[\"active_post_ban\"])].count()[0],\n",
        "    ]\n",
        "\n",
        "results = [get_status_count(Q_intr_df), get_status_count(Q_enth_df)]\n",
        "results"
      ]
    },
    {
      "cell_type": "markdown",
      "metadata": {
        "id": "8DU9aHi9G1pb"
      },
      "source": [
        "### Fig. 1 Q-users are more active in the Q period"
      ]
    },
    {
      "cell_type": "code",
      "execution_count": null,
      "metadata": {
        "colab": {
          "base_uri": "https://localhost:8080/"
        },
        "id": "iChLgZyr4Mqs",
        "outputId": "8532d1e2-17be-4d6b-8d9c-aef997cf7a5d"
      },
      "outputs": [],
      "source": [
        "all_df['phase_1'] = all_df.apply(lambda x: (x['date_created'] < Q_emergence) and\n",
        "                                (x['date_created'] >= Q_emergence - time_delta), axis = 1)\n",
        "all_df['phase_2'] = all_df.apply(lambda x: (x['date_created'] >= Q_emergence) and\n",
        "                                (x['date_created'] <= Q_ban), axis = 1)\n"
      ]
    },
    {
      "cell_type": "code",
      "execution_count": null,
      "metadata": {
        "colab": {
          "base_uri": "https://localhost:8080/"
        },
        "id": "GuPXS0po4Mqt",
        "outputId": "c0e8be51-91d8-46f9-b89f-181dfeb3298d"
      },
      "outputs": [],
      "source": [
        "all_df['phase_3'] = all_df.apply(lambda x: (x['date_created'] > Q_ban) and\n",
        "                                 (x['date_created'] <= Q_ban + time_delta), axis = 1)\n",
        "all_df['phase_4'] = all_df.apply(lambda x: (x['date_created'] > Q_ban + time_delta) and\n",
        "                                 (x['date_created'] <= Q_ban + 2*time_delta), axis = 1)"
      ]
    },
    {
      "cell_type": "code",
      "execution_count": null,
      "metadata": {
        "id": "5t_7JPNI4Mqw"
      },
      "outputs": [],
      "source": [
        "qauth_activity = pd.merge(all_df[['phase_1', 'phase_2', 'phase_3', 'phase_4', 'author']],\n",
        "                          author_status, left_on=['author'], right_on=['QAuthor'], how='inner')"
      ]
    },
    {
      "cell_type": "code",
      "execution_count": null,
      "metadata": {
        "colab": {
          "base_uri": "https://localhost:8080/",
          "height": 835
        },
        "id": "HThtrzGf4Mqz",
        "outputId": "b0b97d0a-3145-4c9c-ad4e-1ee4005dc918"
      },
      "outputs": [
        {
          "data": {
            "text/html": [
              "\n",
              "  <div id=\"df-d56b2162-0012-4ff4-834b-b2e9dd922f3e\">\n",
              "    <div class=\"colab-df-container\">\n",
              "      <div>\n",
              "<style scoped>\n",
              "    .dataframe tbody tr th:only-of-type {\n",
              "        vertical-align: middle;\n",
              "    }\n",
              "\n",
              "    .dataframe tbody tr th {\n",
              "        vertical-align: top;\n",
              "    }\n",
              "\n",
              "    .dataframe thead th {\n",
              "        text-align: right;\n",
              "    }\n",
              "</style>\n",
              "<table border=\"1\" class=\"dataframe\">\n",
              "  <thead>\n",
              "    <tr style=\"text-align: right;\">\n",
              "      <th></th>\n",
              "      <th>phase_1</th>\n",
              "      <th>phase_2</th>\n",
              "      <th>phase_3</th>\n",
              "      <th>phase_4</th>\n",
              "      <th>author</th>\n",
              "      <th>QAuthor</th>\n",
              "      <th>isUQ</th>\n",
              "      <th>status</th>\n",
              "      <th>first_post</th>\n",
              "      <th>last_post</th>\n",
              "      <th>active_pre_emergence</th>\n",
              "      <th>active_post_ban</th>\n",
              "    </tr>\n",
              "  </thead>\n",
              "  <tbody>\n",
              "    <tr>\n",
              "      <th>0</th>\n",
              "      <td>False</td>\n",
              "      <td>True</td>\n",
              "      <td>False</td>\n",
              "      <td>False</td>\n",
              "      <td>879f283b831c13474e219e88663d95b0763cca9b</td>\n",
              "      <td>879f283b831c13474e219e88663d95b0763cca9b</td>\n",
              "      <td>1</td>\n",
              "      <td>Active</td>\n",
              "      <td>2018-06-16 03:31:58</td>\n",
              "      <td>2020-10-18 12:54:46</td>\n",
              "      <td>False</td>\n",
              "      <td>True</td>\n",
              "    </tr>\n",
              "    <tr>\n",
              "      <th>1</th>\n",
              "      <td>False</td>\n",
              "      <td>True</td>\n",
              "      <td>False</td>\n",
              "      <td>False</td>\n",
              "      <td>879f283b831c13474e219e88663d95b0763cca9b</td>\n",
              "      <td>879f283b831c13474e219e88663d95b0763cca9b</td>\n",
              "      <td>1</td>\n",
              "      <td>Active</td>\n",
              "      <td>2018-06-16 03:31:58</td>\n",
              "      <td>2020-10-18 12:54:46</td>\n",
              "      <td>False</td>\n",
              "      <td>True</td>\n",
              "    </tr>\n",
              "    <tr>\n",
              "      <th>2</th>\n",
              "      <td>False</td>\n",
              "      <td>True</td>\n",
              "      <td>False</td>\n",
              "      <td>False</td>\n",
              "      <td>879f283b831c13474e219e88663d95b0763cca9b</td>\n",
              "      <td>879f283b831c13474e219e88663d95b0763cca9b</td>\n",
              "      <td>1</td>\n",
              "      <td>Active</td>\n",
              "      <td>2018-06-16 03:31:58</td>\n",
              "      <td>2020-10-18 12:54:46</td>\n",
              "      <td>False</td>\n",
              "      <td>True</td>\n",
              "    </tr>\n",
              "    <tr>\n",
              "      <th>3</th>\n",
              "      <td>False</td>\n",
              "      <td>True</td>\n",
              "      <td>False</td>\n",
              "      <td>False</td>\n",
              "      <td>879f283b831c13474e219e88663d95b0763cca9b</td>\n",
              "      <td>879f283b831c13474e219e88663d95b0763cca9b</td>\n",
              "      <td>1</td>\n",
              "      <td>Active</td>\n",
              "      <td>2018-06-16 03:31:58</td>\n",
              "      <td>2020-10-18 12:54:46</td>\n",
              "      <td>False</td>\n",
              "      <td>True</td>\n",
              "    </tr>\n",
              "    <tr>\n",
              "      <th>4</th>\n",
              "      <td>False</td>\n",
              "      <td>True</td>\n",
              "      <td>False</td>\n",
              "      <td>False</td>\n",
              "      <td>879f283b831c13474e219e88663d95b0763cca9b</td>\n",
              "      <td>879f283b831c13474e219e88663d95b0763cca9b</td>\n",
              "      <td>1</td>\n",
              "      <td>Active</td>\n",
              "      <td>2018-06-16 03:31:58</td>\n",
              "      <td>2020-10-18 12:54:46</td>\n",
              "      <td>False</td>\n",
              "      <td>True</td>\n",
              "    </tr>\n",
              "    <tr>\n",
              "      <th>...</th>\n",
              "      <td>...</td>\n",
              "      <td>...</td>\n",
              "      <td>...</td>\n",
              "      <td>...</td>\n",
              "      <td>...</td>\n",
              "      <td>...</td>\n",
              "      <td>...</td>\n",
              "      <td>...</td>\n",
              "      <td>...</td>\n",
              "      <td>...</td>\n",
              "      <td>...</td>\n",
              "      <td>...</td>\n",
              "    </tr>\n",
              "    <tr>\n",
              "      <th>12931792</th>\n",
              "      <td>False</td>\n",
              "      <td>False</td>\n",
              "      <td>False</td>\n",
              "      <td>True</td>\n",
              "      <td>c039f11ff985f7d8547748c10ccd5c8416b8404d</td>\n",
              "      <td>c039f11ff985f7d8547748c10ccd5c8416b8404d</td>\n",
              "      <td>1</td>\n",
              "      <td>Is_suspended</td>\n",
              "      <td>2017-01-09 00:19:12</td>\n",
              "      <td>2019-11-05 21:55:07</td>\n",
              "      <td>True</td>\n",
              "      <td>True</td>\n",
              "    </tr>\n",
              "    <tr>\n",
              "      <th>12931793</th>\n",
              "      <td>False</td>\n",
              "      <td>False</td>\n",
              "      <td>False</td>\n",
              "      <td>True</td>\n",
              "      <td>c039f11ff985f7d8547748c10ccd5c8416b8404d</td>\n",
              "      <td>c039f11ff985f7d8547748c10ccd5c8416b8404d</td>\n",
              "      <td>1</td>\n",
              "      <td>Is_suspended</td>\n",
              "      <td>2017-01-09 00:19:12</td>\n",
              "      <td>2019-11-05 21:55:07</td>\n",
              "      <td>True</td>\n",
              "      <td>True</td>\n",
              "    </tr>\n",
              "    <tr>\n",
              "      <th>12931794</th>\n",
              "      <td>False</td>\n",
              "      <td>False</td>\n",
              "      <td>False</td>\n",
              "      <td>True</td>\n",
              "      <td>c039f11ff985f7d8547748c10ccd5c8416b8404d</td>\n",
              "      <td>c039f11ff985f7d8547748c10ccd5c8416b8404d</td>\n",
              "      <td>1</td>\n",
              "      <td>Is_suspended</td>\n",
              "      <td>2017-01-09 00:19:12</td>\n",
              "      <td>2019-11-05 21:55:07</td>\n",
              "      <td>True</td>\n",
              "      <td>True</td>\n",
              "    </tr>\n",
              "    <tr>\n",
              "      <th>12931795</th>\n",
              "      <td>False</td>\n",
              "      <td>False</td>\n",
              "      <td>False</td>\n",
              "      <td>True</td>\n",
              "      <td>c039f11ff985f7d8547748c10ccd5c8416b8404d</td>\n",
              "      <td>c039f11ff985f7d8547748c10ccd5c8416b8404d</td>\n",
              "      <td>1</td>\n",
              "      <td>Is_suspended</td>\n",
              "      <td>2017-01-09 00:19:12</td>\n",
              "      <td>2019-11-05 21:55:07</td>\n",
              "      <td>True</td>\n",
              "      <td>True</td>\n",
              "    </tr>\n",
              "    <tr>\n",
              "      <th>12931796</th>\n",
              "      <td>False</td>\n",
              "      <td>False</td>\n",
              "      <td>False</td>\n",
              "      <td>True</td>\n",
              "      <td>c039f11ff985f7d8547748c10ccd5c8416b8404d</td>\n",
              "      <td>c039f11ff985f7d8547748c10ccd5c8416b8404d</td>\n",
              "      <td>1</td>\n",
              "      <td>Is_suspended</td>\n",
              "      <td>2017-01-09 00:19:12</td>\n",
              "      <td>2019-11-05 21:55:07</td>\n",
              "      <td>True</td>\n",
              "      <td>True</td>\n",
              "    </tr>\n",
              "  </tbody>\n",
              "</table>\n",
              "<p>12931797 rows × 12 columns</p>\n",
              "</div>\n",
              "      <button class=\"colab-df-convert\" onclick=\"convertToInteractive('df-d56b2162-0012-4ff4-834b-b2e9dd922f3e')\"\n",
              "              title=\"Convert this dataframe to an interactive table.\"\n",
              "              style=\"display:none;\">\n",
              "        \n",
              "  <svg xmlns=\"http://www.w3.org/2000/svg\" height=\"24px\"viewBox=\"0 0 24 24\"\n",
              "       width=\"24px\">\n",
              "    <path d=\"M0 0h24v24H0V0z\" fill=\"none\"/>\n",
              "    <path d=\"M18.56 5.44l.94 2.06.94-2.06 2.06-.94-2.06-.94-.94-2.06-.94 2.06-2.06.94zm-11 1L8.5 8.5l.94-2.06 2.06-.94-2.06-.94L8.5 2.5l-.94 2.06-2.06.94zm10 10l.94 2.06.94-2.06 2.06-.94-2.06-.94-.94-2.06-.94 2.06-2.06.94z\"/><path d=\"M17.41 7.96l-1.37-1.37c-.4-.4-.92-.59-1.43-.59-.52 0-1.04.2-1.43.59L10.3 9.45l-7.72 7.72c-.78.78-.78 2.05 0 2.83L4 21.41c.39.39.9.59 1.41.59.51 0 1.02-.2 1.41-.59l7.78-7.78 2.81-2.81c.8-.78.8-2.07 0-2.86zM5.41 20L4 18.59l7.72-7.72 1.47 1.35L5.41 20z\"/>\n",
              "  </svg>\n",
              "      </button>\n",
              "      \n",
              "  <style>\n",
              "    .colab-df-container {\n",
              "      display:flex;\n",
              "      flex-wrap:wrap;\n",
              "      gap: 12px;\n",
              "    }\n",
              "\n",
              "    .colab-df-convert {\n",
              "      background-color: #E8F0FE;\n",
              "      border: none;\n",
              "      border-radius: 50%;\n",
              "      cursor: pointer;\n",
              "      display: none;\n",
              "      fill: #1967D2;\n",
              "      height: 32px;\n",
              "      padding: 0 0 0 0;\n",
              "      width: 32px;\n",
              "    }\n",
              "\n",
              "    .colab-df-convert:hover {\n",
              "      background-color: #E2EBFA;\n",
              "      box-shadow: 0px 1px 2px rgba(60, 64, 67, 0.3), 0px 1px 3px 1px rgba(60, 64, 67, 0.15);\n",
              "      fill: #174EA6;\n",
              "    }\n",
              "\n",
              "    [theme=dark] .colab-df-convert {\n",
              "      background-color: #3B4455;\n",
              "      fill: #D2E3FC;\n",
              "    }\n",
              "\n",
              "    [theme=dark] .colab-df-convert:hover {\n",
              "      background-color: #434B5C;\n",
              "      box-shadow: 0px 1px 3px 1px rgba(0, 0, 0, 0.15);\n",
              "      filter: drop-shadow(0px 1px 2px rgba(0, 0, 0, 0.3));\n",
              "      fill: #FFFFFF;\n",
              "    }\n",
              "  </style>\n",
              "\n",
              "      <script>\n",
              "        const buttonEl =\n",
              "          document.querySelector('#df-d56b2162-0012-4ff4-834b-b2e9dd922f3e button.colab-df-convert');\n",
              "        buttonEl.style.display =\n",
              "          google.colab.kernel.accessAllowed ? 'block' : 'none';\n",
              "\n",
              "        async function convertToInteractive(key) {\n",
              "          const element = document.querySelector('#df-d56b2162-0012-4ff4-834b-b2e9dd922f3e');\n",
              "          const dataTable =\n",
              "            await google.colab.kernel.invokeFunction('convertToInteractive',\n",
              "                                                     [key], {});\n",
              "          if (!dataTable) return;\n",
              "\n",
              "          const docLinkHtml = 'Like what you see? Visit the ' +\n",
              "            '<a target=\"_blank\" href=https://colab.research.google.com/notebooks/data_table.ipynb>data table notebook</a>'\n",
              "            + ' to learn more about interactive tables.';\n",
              "          element.innerHTML = '';\n",
              "          dataTable['output_type'] = 'display_data';\n",
              "          await google.colab.output.renderOutput(dataTable, element);\n",
              "          const docLink = document.createElement('div');\n",
              "          docLink.innerHTML = docLinkHtml;\n",
              "          element.appendChild(docLink);\n",
              "        }\n",
              "      </script>\n",
              "    </div>\n",
              "  </div>\n",
              "  "
            ],
            "text/plain": [
              "          phase_1  phase_2  ...  active_pre_emergence  active_post_ban\n",
              "0           False     True  ...                 False             True\n",
              "1           False     True  ...                 False             True\n",
              "2           False     True  ...                 False             True\n",
              "3           False     True  ...                 False             True\n",
              "4           False     True  ...                 False             True\n",
              "...           ...      ...  ...                   ...              ...\n",
              "12931792    False    False  ...                  True             True\n",
              "12931793    False    False  ...                  True             True\n",
              "12931794    False    False  ...                  True             True\n",
              "12931795    False    False  ...                  True             True\n",
              "12931796    False    False  ...                  True             True\n",
              "\n",
              "[12931797 rows x 12 columns]"
            ]
          },
          "execution_count": 40,
          "metadata": {},
          "output_type": "execute_result"
        }
      ],
      "source": [
        "qauth_activity"
      ]
    },
    {
      "cell_type": "code",
      "execution_count": null,
      "metadata": {
        "id": "Z3QQchDA4Mq0"
      },
      "outputs": [],
      "source": [
        "auth_stats = qauth_activity[qauth_activity['phase_1']].groupby('author').size().reset_index(name='phase_1_cnt')\n",
        "tmp = qauth_activity[qauth_activity['phase_2']].groupby('author').size().reset_index(name='phase_2_cnt')\n",
        "auth_stats = pd.merge(auth_stats, tmp, on='author', how='outer')\n",
        "tmp = qauth_activity[qauth_activity['phase_3']].groupby('author').size().reset_index(name='phase_3_cnt')\n",
        "auth_stats = pd.merge(auth_stats, tmp, on='author', how='outer')\n",
        "tmp = qauth_activity[qauth_activity['phase_4']].groupby('author').size().reset_index(name='phase_4_cnt')\n",
        "auth_stats = pd.merge(auth_stats, tmp, on='author', how='outer')\n",
        "auth_stats = auth_stats.fillna(0)"
      ]
    },
    {
      "cell_type": "code",
      "execution_count": null,
      "metadata": {
        "id": "90UvmB8E4Mq1"
      },
      "outputs": [],
      "source": [
        "auth_stats = auth_stats[auth_stats['phase_2_cnt'] >= 5]"
      ]
    },
    {
      "cell_type": "code",
      "execution_count": null,
      "metadata": {
        "colab": {
          "base_uri": "https://localhost:8080/"
        },
        "id": "qu51X6cd4Mq1",
        "outputId": "481d7860-6810-4b52-d5f2-9a8aa45a8c4b"
      },
      "outputs": [
        {
          "data": {
            "text/plain": [
              "10354"
            ]
          },
          "execution_count": 43,
          "metadata": {},
          "output_type": "execute_result"
        }
      ],
      "source": [
        "len(auth_stats)"
      ]
    },
    {
      "cell_type": "code",
      "execution_count": null,
      "metadata": {
        "id": "1K7GJfkK4Mq1"
      },
      "outputs": [],
      "source": [
        "auth_stats['phase1_to_phase2'] = auth_stats.apply(lambda x: x['phase_1_cnt'] / x['phase_2_cnt'], axis=1)\n",
        "auth_stats['phase3_to_phase2'] = auth_stats.apply(lambda x: x['phase_3_cnt'] / x['phase_2_cnt'], axis=1)\n",
        "auth_stats['phase4_to_phase2'] = auth_stats.apply(lambda x: x['phase_4_cnt'] / x['phase_2_cnt'], axis=1)"
      ]
    },
    {
      "cell_type": "code",
      "execution_count": null,
      "metadata": {
        "id": "lLWqJN1z4Mq2"
      },
      "outputs": [],
      "source": [
        "auth_stats = pd.merge(auth_stats, author_status, left_on='author', right_on='QAuthor', how='left')"
      ]
    },
    {
      "cell_type": "code",
      "execution_count": null,
      "metadata": {
        "colab": {
          "base_uri": "https://localhost:8080/"
        },
        "id": "tH-KpS_-4Mq2",
        "outputId": "a2131256-f862-4f0d-9390-a93f825081ab"
      },
      "outputs": [
        {
          "data": {
            "text/plain": [
              "array(['Active', 'DNE', 'Is_suspended'], dtype=object)"
            ]
          },
          "execution_count": 46,
          "metadata": {},
          "output_type": "execute_result"
        }
      ],
      "source": [
        "auth_stats['status'].unique()"
      ]
    },
    {
      "cell_type": "code",
      "execution_count": null,
      "metadata": {
        "id": "YIrJ7vSh4Mq3"
      },
      "outputs": [],
      "source": [
        "active_users = auth_stats['author'].values"
      ]
    },
    {
      "cell_type": "code",
      "execution_count": null,
      "metadata": {
        "id": "8lPyQgZO4Mq4"
      },
      "outputs": [],
      "source": [
        "auth_stats = auth_stats[auth_stats['status'] == 'Active']"
      ]
    },
    {
      "cell_type": "code",
      "execution_count": null,
      "metadata": {
        "colab": {
          "base_uri": "https://localhost:8080/"
        },
        "id": "ib8jXmIK4Mq4",
        "outputId": "28aabf2a-7f47-4526-99bb-0215a0ab95bf"
      },
      "outputs": [
        {
          "data": {
            "text/plain": [
              "0.7077304671351798"
            ]
          },
          "execution_count": 49,
          "metadata": {},
          "output_type": "execute_result"
        }
      ],
      "source": [
        "len(author_status[(author_status.QAuthor.isin(active_users)) & (author_status['isUQ'] == 0)]) / len(author_status[author_status['isUQ'] == 0])"
      ]
    },
    {
      "cell_type": "code",
      "execution_count": null,
      "metadata": {
        "colab": {
          "base_uri": "https://localhost:8080/"
        },
        "id": "74nIKzK94Mq4",
        "outputId": "00c445fb-7913-4e8a-b563-432b342a3ee4"
      },
      "outputs": [
        {
          "data": {
            "text/plain": [
              "status\n",
              "Active          11014\n",
              "DNE              1624\n",
              "Is_suspended      544\n",
              "dtype: int64"
            ]
          },
          "execution_count": 50,
          "metadata": {},
          "output_type": "execute_result"
        }
      ],
      "source": [
        "author_status.groupby('status').size()"
      ]
    },
    {
      "cell_type": "code",
      "execution_count": null,
      "metadata": {
        "colab": {
          "base_uri": "https://localhost:8080/"
        },
        "id": "zDSS4V784Mq5",
        "outputId": "b9c7c59a-935d-411b-f418-baaf62b786fd"
      },
      "outputs": [
        {
          "data": {
            "text/plain": [
              "status\n",
              "Active          8081\n",
              "DNE             1156\n",
              "Is_suspended     439\n",
              "dtype: int64"
            ]
          },
          "execution_count": 51,
          "metadata": {},
          "output_type": "execute_result"
        }
      ],
      "source": [
        "author_status[author_status['isUQ']==0].groupby('status').size()"
      ]
    },
    {
      "cell_type": "code",
      "execution_count": null,
      "metadata": {
        "colab": {
          "base_uri": "https://localhost:8080/"
        },
        "id": "DBpml8Gp4Mq5",
        "outputId": "2cd0d677-a8fa-4244-84df-3ac9860190bb"
      },
      "outputs": [
        {
          "data": {
            "text/plain": [
              "status\n",
              "Active          2933\n",
              "DNE              468\n",
              "Is_suspended     105\n",
              "dtype: int64"
            ]
          },
          "execution_count": 52,
          "metadata": {},
          "output_type": "execute_result"
        }
      ],
      "source": [
        "author_status[(author_status['isUQ']==1) & (author_status.QAuthor.isin(active_users))].groupby('status').size()"
      ]
    },
    {
      "cell_type": "code",
      "execution_count": null,
      "metadata": {
        "id": "3f8bWXvU5zYF"
      },
      "outputs": [],
      "source": [
        "def calculate_cdf(input_ratios):\n",
        "    cdf = np.arange(1, len(input_ratios)+1) / len(input_ratios)\n",
        "    return cdf"
      ]
    },
    {
      "cell_type": "code",
      "execution_count": null,
      "metadata": {
        "id": "qYtoRMQy9emS"
      },
      "outputs": [],
      "source": [
        "def get_cdf(input_df, input_col):                       \n",
        "    enth_cdf = input_df[input_df[\"isUQ\"]==1][[input_col]].sort_values(by=input_col).copy()\n",
        "    enth_cdf['cdf'] = calculate_cdf(enth_cdf[input_col])\n",
        "    enth_cdf\n",
        "\n",
        "    intr_cdf = input_df[input_df[\"isUQ\"]==0][[input_col]].sort_values(by=input_col).copy()\n",
        "    intr_cdf['cdf'] = calculate_cdf(intr_cdf[input_col])\n",
        "    intr_cdf\n",
        "\n",
        "    return enth_cdf, intr_cdf"
      ]
    },
    {
      "cell_type": "code",
      "execution_count": null,
      "metadata": {
        "id": "dph6DwktT13b"
      },
      "outputs": [],
      "source": [
        "import matplotlib.ticker as mticker\n",
        "\n",
        "def paint_line_graph_log_zero_adjusted(enth, intr, ax, col, title, ifLegend):\n",
        "    enth_adjusted = enth[col].values + 0.00001\n",
        "    ax.plot(enth_adjusted, enth['cdf'].values, color=\"#ab62c0\", linestyle=\"--\", alpha=0.9, linewidth=4, label=\"QAnon-enthusiastic users\", zorder=2)\n",
        "    intr_adjusted = intr[col].values + 0.00001\n",
        "    ax.plot(intr_adjusted, intr['cdf'].values, color=\"#ab62c0\", linestyle=\"-\", alpha=0.45, linewidth=4, label=\"QAnon-interested users\", zorder=2)\n",
        "    \n",
        "    ax.grid(color=\"#d3d3d3\", ls=\":\")\n",
        "    if ifLegend: \n",
        "        ax.legend(loc=2, prop={'size': 18})\n",
        "    ax.set_title(title)\n",
        "    ax.set_xscale('log')\n",
        "    ax.set_xticks([0.00001, 0.00011, 0.00101, 0.01001, 0.10001, 1.00001, 10.00001, 100.00001, 1000.00001, 10000.0001])\n",
        "    vals = ax.get_xticks()\n",
        "    f = mticker.ScalarFormatter(useOffset=False, useMathText=True)\n",
        "    ax.set_xticklabels([\"${}$\".format(f._formatSciNotation('%1.10e' % x)) for x in [0, 0.0001, 0.001, 0.01, 0.1, 1, 10., 100, 1000, 10000]])\n",
        "    return ax"
      ]
    },
    {
      "cell_type": "code",
      "execution_count": null,
      "metadata": {
        "colab": {
          "base_uri": "https://localhost:8080/",
          "height": 381
        },
        "id": "BD_CzViXTTMq",
        "outputId": "78b8dea0-036d-4556-bf25-82b939a79736"
      },
      "outputs": [
        {
          "name": "stderr",
          "output_type": "stream",
          "text": [
            "/usr/local/lib/python3.7/dist-packages/ipykernel_launcher.py:38: UserWarning: Attempted to set non-positive left xlim on a log-scaled axis.\n",
            "Invalid limit will be ignored.\n"
          ]
        },
        {
          "data": {
            "image/png": "[encoded data removed]",
            "text/plain": [
              "<Figure size 1440x252 with 2 Axes>"
            ]
          },
          "metadata": {
            "needs_background": "light"
          },
          "output_type": "display_data"
        }
      ],
      "source": [
        "fig, axs = plt.subplots(1, 2)\n",
        "\n",
        "ax1, ax2 = axs[0], axs[1]\n",
        "\n",
        "enth_preQ, intr_preQ = get_cdf(auth_stats, \"phase1_to_phase2\")\n",
        "ax1.axvline(x=1.01, color=\"#838383\", ls=\":\", zorder=0)\n",
        "ax1 = paint_line_graph_log_zero_adjusted(enth_preQ, intr_preQ, ax1, \"phase1_to_phase2\", \"(a) Pre-Q and Q period user activity ratio\", False)\n",
        "ax1.annotate('', xy=(0, -0.16), xycoords='axes fraction', xytext=(0.59, -0.16),\n",
        "            arrowprops=dict(arrowstyle=\"->\", color='black'))\n",
        "ax1.annotate(\"More activity in Q period\", xy=(0.01, -0.29), xycoords = 'axes fraction', fontsize=20)\n",
        "ax1.annotate('', xy=(0.64, -0.16), xycoords='axes fraction', xytext=(1, -0.16), \n",
        "            arrowprops=dict(arrowstyle=\"<-\", color='black'))\n",
        "ax1.annotate(\"More activity in\", xy=(0.65, -0.29), xycoords='axes fraction', fontsize=20)\n",
        "ax1.annotate(\"pre-Q period\", xy=(0.65, -0.4), xycoords='axes fraction', fontsize=20)\n",
        "ax1.set_ylabel('\\% Users')\n",
        "ax1.set_yticks([0, 0.2, 0.4, 0.6, 0.8, 1.0])\n",
        "vals = ax1.get_yticks()\n",
        "ax1.set_yticklabels(['${:d}\\%$'.format(int(x * 100)) for x in vals])\n",
        "\n",
        "ax2.axvline(x=1.01, color=\"#838383\", ls=\":\", zorder=0)\n",
        "enth_postQ, intr_postQ = get_cdf(auth_stats, \"phase3_to_phase2\")\n",
        "ax2 = paint_line_graph_log_zero_adjusted(enth_postQ, intr_postQ, ax2, \"phase3_to_phase2\", \"(b) Post-Q and Q period user activity ratio\", True)\n",
        "\n",
        "ax2.annotate('', xy=(0, -0.16), xycoords='axes fraction', xytext=(0.59, -0.16),\n",
        "            arrowprops=dict(arrowstyle=\"->\", color='black'))\n",
        "ax2.annotate(\"More activity in Q period\", xy=(0.01, -0.29), xycoords='axes fraction', fontsize=20)\n",
        "ax2.annotate('', xy=(0.64, -0.16), xycoords='axes fraction', xytext=(1, -0.16), \n",
        "            arrowprops=dict(arrowstyle=\"<-\", color='black'))\n",
        "ax2.annotate(\"More activity in\", xy=(0.65, -0.29), xycoords='axes fraction', fontsize=20)\n",
        "ax2.annotate(\"post-Q period\", xy=(0.65, -0.4), xycoords='axes fraction', fontsize=20)\n",
        "ax2.set_yticks([0, 0.2, 0.4, 0.6, 0.8, 1.0])\n",
        "vals = ax2.get_yticks()\n",
        "ax2.set_yticklabels(['${:d}\\%$'.format(int(x * 100)) for x in vals])\n",
        "\n",
        "for ax in axs:\n",
        "    ax.xaxis.grid(color=\"#d3d3d3\", ls=\":\")\n",
        "    ax.yaxis.grid(color=\"#d3d3d3\", ls=\":\")\n",
        "    ax.set_xlim(0, 2000)\n",
        "\n",
        "fig.set_figwidth(20)\n",
        "fig.set_figheight(3.5)\n",
        "fig.savefig(outputPath + 'figs/user_activity_start_0.pdf', bbox_inches = 'tight')\n",
        "fig.show()"
      ]
    },
    {
      "cell_type": "code",
      "execution_count": null,
      "metadata": {
        "colab": {
          "base_uri": "https://localhost:8080/"
        },
        "id": "D-kVfR5Zr3cv",
        "outputId": "175e04b5-d5ed-4bc0-d453-c72d789b0a42"
      },
      "outputs": [
        {
          "data": {
            "text/plain": [
              "0.7129219229457893"
            ]
          },
          "execution_count": 57,
          "metadata": {},
          "output_type": "execute_result"
        }
      ],
      "source": [
        "len(enth_preQ[enth_preQ[\"phase1_to_phase2\"]==0.0]) / len(enth_preQ)"
      ]
    },
    {
      "cell_type": "code",
      "execution_count": null,
      "metadata": {
        "colab": {
          "base_uri": "https://localhost:8080/"
        },
        "id": "tNoaXblir3cv",
        "outputId": "4d438a40-b0a5-475b-cf7d-c1011de803ae"
      },
      "outputs": [
        {
          "data": {
            "text/plain": [
              "0.5534135125574814"
            ]
          },
          "execution_count": 58,
          "metadata": {},
          "output_type": "execute_result"
        }
      ],
      "source": [
        "len(intr_preQ[intr_preQ[\"phase1_to_phase2\"]==0.0]) / len(intr_preQ)"
      ]
    },
    {
      "cell_type": "code",
      "execution_count": null,
      "metadata": {
        "colab": {
          "base_uri": "https://localhost:8080/"
        },
        "id": "_ATLab80r3cv",
        "outputId": "2ac00dab-17d3-4416-9d7b-db4be1899c0f"
      },
      "outputs": [
        {
          "data": {
            "text/plain": [
              "0.3661779747698602"
            ]
          },
          "execution_count": 59,
          "metadata": {},
          "output_type": "execute_result"
        }
      ],
      "source": [
        "len(enth_postQ[enth_postQ[\"phase3_to_phase2\"]==0.0]) / len(enth_postQ)"
      ]
    },
    {
      "cell_type": "code",
      "execution_count": null,
      "metadata": {
        "colab": {
          "base_uri": "https://localhost:8080/"
        },
        "id": "USFNitZer3cv",
        "outputId": "dcae3adc-265a-4904-d4a8-cab90b1b7eff"
      },
      "outputs": [
        {
          "data": {
            "text/plain": [
              "0.3256101874778918"
            ]
          },
          "execution_count": 60,
          "metadata": {},
          "output_type": "execute_result"
        }
      ],
      "source": [
        "len(intr_postQ[intr_postQ[\"phase3_to_phase2\"]==0.0]) / len(intr_postQ)"
      ]
    },
    {
      "cell_type": "markdown",
      "metadata": {
        "id": "S2imopay4Mq7"
      },
      "source": [
        "## CHARACTERIZING USER SPREAD"
      ]
    },
    {
      "cell_type": "markdown",
      "metadata": {
        "id": "GfwLA1EKV1zQ"
      },
      "source": [
        "### Utils and Processing"
      ]
    },
    {
      "cell_type": "code",
      "execution_count": null,
      "metadata": {
        "id": "iCg9x3a_4Mq8"
      },
      "outputs": [],
      "source": [
        "\n",
        "def paint_bar_plot2(bars, seqs):\n",
        "  height = [[] for s in seqs]\n",
        "  before = -1\n",
        "  cnted = 0\n",
        "  bar_names = []\n",
        "  color = []\n",
        "\n",
        "  for ind, b in enumerate(bars):\n",
        "    for seqind, seq in enumerate(seqs):\n",
        "      cnt = 0\n",
        "      for s in seq:\n",
        "        if (s > before) and (s <= b):\n",
        "            cnt += 1\n",
        "      height[seqind].append(cnt)\n",
        "    before = b\n",
        "    bar_names.append('({}, {}]'.format(before, b))\n",
        "  for seqind, seq in enumerate(seqs):\n",
        "      cnt = 0\n",
        "      for s in seq:\n",
        "        if (s > b):\n",
        "            cnt += 1\n",
        "      height[seqind].append(cnt)\n",
        "  bar_names.append('> {}'.format(b))\n",
        "  print(chi2_contingency(height))\n",
        "  #height = [[h / float(len(seqs[ind])) for h in hh] for ind, hh in enumerate(height)]\n",
        "  y_pos = np.arange(len(bar_names))\n",
        "\n",
        "  return height, y_pos, bar_names"
      ]
    },
    {
      "cell_type": "code",
      "execution_count": null,
      "metadata": {
        "id": "3BVuJDGI4Mq8"
      },
      "outputs": [],
      "source": [
        "\n",
        "\n",
        "def plot_rq2(labeled, types, subreddit_data, labels, title, filename, use_percentage=True):\n",
        "  bar_names = list(labeled.keys())\n",
        "  height = [[] for t in types]\n",
        "  yerr = [[] for t in types]\n",
        "  total = []\n",
        "  \n",
        "  for b in bar_names:\n",
        "    for tind, t in enumerate(types):\n",
        "      tmp = 0\n",
        "      for subreddit in labeled[b]:\n",
        "          tmp = tmp + subreddit_data[subreddit][t]\n",
        "      height[tind].append(tmp)\n",
        "  print(height)\n",
        "  print(chi2_contingency(height))\n",
        "  for tind, t in enumerate(types):\n",
        "    total = sum([sdata[t] for _, sdata in subreddit_data.items()])\n",
        "    if use_percentage:\n",
        "      height[tind] = [h / total for h in height[tind]]\n",
        " \n",
        "  y_pos = np.arange(len(bar_names))\n",
        "  return y_pos, bar_names, height, types"
      ]
    },
    {
      "cell_type": "code",
      "execution_count": null,
      "metadata": {
        "id": "rAcQvvHH4Mq9"
      },
      "outputs": [],
      "source": [
        "labeled_topic = defaultdict(list)\n",
        "labeled_relation = defaultdict(list)\n",
        "labeled = set()\n",
        "for _, row in subreddit_label_df.iterrows():\n",
        "    labeled.add(row['subreddit'])\n",
        "    for x in eval(row['Final Topic Clusters']):\n",
        "        labeled_topic[x].append(row['subreddit'])\n",
        "    for x in eval(row['Final Relation Clusters']):\n",
        "        labeled_relation[x].append(row['subreddit'])"
      ]
    },
    {
      "cell_type": "code",
      "execution_count": null,
      "metadata": {
        "id": "Cas8vaZw4Mq9"
      },
      "outputs": [],
      "source": [
        "q_interested = set(author_status[author_status['isUQ']==0]['QAuthor'].values)\n",
        "q_enthusiastic = set(author_status[author_status['isUQ']==1]['QAuthor'].values) "
      ]
    },
    {
      "cell_type": "code",
      "execution_count": null,
      "metadata": {
        "colab": {
          "base_uri": "https://localhost:8080/",
          "height": 696
        },
        "id": "CuV21CqlO-Gk",
        "outputId": "47607c1c-4876-4996-b018-2a059ad70c89"
      },
      "outputs": [
        {
          "data": {
            "text/html": [
              "\n",
              "  <div id=\"df-3d7ff542-08a2-45ab-b8c2-91e5800c4ef7\">\n",
              "    <div class=\"colab-df-container\">\n",
              "      <div>\n",
              "<style scoped>\n",
              "    .dataframe tbody tr th:only-of-type {\n",
              "        vertical-align: middle;\n",
              "    }\n",
              "\n",
              "    .dataframe tbody tr th {\n",
              "        vertical-align: top;\n",
              "    }\n",
              "\n",
              "    .dataframe thead th {\n",
              "        text-align: right;\n",
              "    }\n",
              "</style>\n",
              "<table border=\"1\" class=\"dataframe\">\n",
              "  <thead>\n",
              "    <tr style=\"text-align: right;\">\n",
              "      <th></th>\n",
              "      <th>subreddit</th>\n",
              "      <th>numSubscribers</th>\n",
              "      <th>status</th>\n",
              "      <th>allModNames</th>\n",
              "      <th>allMods</th>\n",
              "      <th>qModNames</th>\n",
              "      <th>qMods</th>\n",
              "      <th>top_qModNames</th>\n",
              "      <th>top_qMods</th>\n",
              "      <th>firstPostSubmission</th>\n",
              "      <th>lastPostSubmission</th>\n",
              "      <th>firstPostComment</th>\n",
              "      <th>lastPostComment</th>\n",
              "      <th>qModsRatio</th>\n",
              "      <th>top_qModsRatio</th>\n",
              "      <th>activePreBanOnly</th>\n",
              "      <th>activePreQ</th>\n",
              "      <th>activePostBan</th>\n",
              "      <th>qAuth</th>\n",
              "      <th>top_qAuth</th>\n",
              "      <th>qSubmissions</th>\n",
              "      <th>top_qSubmissions</th>\n",
              "      <th>nonTop_qSubmissions</th>\n",
              "      <th>qComments</th>\n",
              "      <th>top_qComments</th>\n",
              "      <th>nonTop_qComments</th>\n",
              "      <th>top_qPercent</th>\n",
              "      <th>qPercent</th>\n",
              "      <th>Monthly Average Total Authors</th>\n",
              "      <th>Monthly Average Total Submissions</th>\n",
              "      <th>Monthly Average UQ Authors</th>\n",
              "      <th>Monthly Average UQ Submissions</th>\n",
              "      <th>Monthly Average QAnon Authors</th>\n",
              "      <th>Monthly Average QAnon Submissions</th>\n",
              "      <th>% UQ Submissions</th>\n",
              "      <th>% UQ Authors</th>\n",
              "      <th>% QAnon Submissions</th>\n",
              "      <th>% QAnon Authors</th>\n",
              "    </tr>\n",
              "  </thead>\n",
              "  <tbody>\n",
              "    <tr>\n",
              "      <th>0</th>\n",
              "      <td>Watches</td>\n",
              "      <td>1525243.0</td>\n",
              "      <td>public</td>\n",
              "      <td>['f1c355408b78fd88ebc13aade4c9a7924005c2ab','e...</td>\n",
              "      <td>13</td>\n",
              "      <td>[]</td>\n",
              "      <td>0.0</td>\n",
              "      <td>[]</td>\n",
              "      <td>0.0</td>\n",
              "      <td>2016-12-07 03:21:16</td>\n",
              "      <td>2020-11-27 19:24:49</td>\n",
              "      <td>2016-11-26 13:24:54</td>\n",
              "      <td>2021-01-22 18:22:43</td>\n",
              "      <td>0.0</td>\n",
              "      <td>0.0</td>\n",
              "      <td>0</td>\n",
              "      <td>1</td>\n",
              "      <td>1</td>\n",
              "      <td>58</td>\n",
              "      <td>10</td>\n",
              "      <td>219</td>\n",
              "      <td>99</td>\n",
              "      <td>120</td>\n",
              "      <td>1681.0</td>\n",
              "      <td>244.0</td>\n",
              "      <td>1437.0</td>\n",
              "      <td>0.29</td>\n",
              "      <td>0.44</td>\n",
              "      <td>2881.384615</td>\n",
              "      <td>5911.846154</td>\n",
              "      <td>1.200000</td>\n",
              "      <td>2.40</td>\n",
              "      <td>3.750000</td>\n",
              "      <td>6.000000</td>\n",
              "      <td>0.040596</td>\n",
              "      <td>0.041647</td>\n",
              "      <td>0.101491</td>\n",
              "      <td>0.130146</td>\n",
              "    </tr>\n",
              "    <tr>\n",
              "      <th>1</th>\n",
              "      <td>MMA</td>\n",
              "      <td>1518451.0</td>\n",
              "      <td>public</td>\n",
              "      <td>['69e403df92bb49af60d5046c0be60f1a46bfd53d','d...</td>\n",
              "      <td>20</td>\n",
              "      <td>[]</td>\n",
              "      <td>0.0</td>\n",
              "      <td>[]</td>\n",
              "      <td>0.0</td>\n",
              "      <td>2016-11-01 05:51:55</td>\n",
              "      <td>2021-01-03 00:43:44</td>\n",
              "      <td>2016-10-28 00:39:15</td>\n",
              "      <td>2021-01-23 08:16:57</td>\n",
              "      <td>0.0</td>\n",
              "      <td>0.0</td>\n",
              "      <td>0</td>\n",
              "      <td>1</td>\n",
              "      <td>1</td>\n",
              "      <td>97</td>\n",
              "      <td>29</td>\n",
              "      <td>371</td>\n",
              "      <td>99</td>\n",
              "      <td>272</td>\n",
              "      <td>18910.0</td>\n",
              "      <td>2808.0</td>\n",
              "      <td>16102.0</td>\n",
              "      <td>0.83</td>\n",
              "      <td>0.74</td>\n",
              "      <td>1840.461538</td>\n",
              "      <td>4953.461538</td>\n",
              "      <td>2.916667</td>\n",
              "      <td>4.75</td>\n",
              "      <td>6.384615</td>\n",
              "      <td>9.923077</td>\n",
              "      <td>0.095893</td>\n",
              "      <td>0.158475</td>\n",
              "      <td>0.200326</td>\n",
              "      <td>0.346903</td>\n",
              "    </tr>\n",
              "    <tr>\n",
              "      <th>2</th>\n",
              "      <td>Seattle</td>\n",
              "      <td>281450.0</td>\n",
              "      <td>public</td>\n",
              "      <td>['14a0b21d55a0415e5541be3389d27ee3b3232c90','f...</td>\n",
              "      <td>7</td>\n",
              "      <td>[]</td>\n",
              "      <td>0.0</td>\n",
              "      <td>[]</td>\n",
              "      <td>0.0</td>\n",
              "      <td>2016-11-07 07:12:42</td>\n",
              "      <td>2021-01-18 23:13:14</td>\n",
              "      <td>2016-11-03 16:45:54</td>\n",
              "      <td>2021-01-21 14:56:00</td>\n",
              "      <td>0.0</td>\n",
              "      <td>0.0</td>\n",
              "      <td>0</td>\n",
              "      <td>1</td>\n",
              "      <td>1</td>\n",
              "      <td>53</td>\n",
              "      <td>13</td>\n",
              "      <td>188</td>\n",
              "      <td>99</td>\n",
              "      <td>89</td>\n",
              "      <td>1559.0</td>\n",
              "      <td>214.0</td>\n",
              "      <td>1345.0</td>\n",
              "      <td>0.37</td>\n",
              "      <td>0.40</td>\n",
              "      <td>732.769231</td>\n",
              "      <td>1140.692308</td>\n",
              "      <td>1.200000</td>\n",
              "      <td>1.20</td>\n",
              "      <td>3.272727</td>\n",
              "      <td>3.818182</td>\n",
              "      <td>0.105199</td>\n",
              "      <td>0.163762</td>\n",
              "      <td>0.334725</td>\n",
              "      <td>0.446625</td>\n",
              "    </tr>\n",
              "    <tr>\n",
              "      <th>3</th>\n",
              "      <td>UnusAnnus</td>\n",
              "      <td>195890.0</td>\n",
              "      <td>quarantined/private</td>\n",
              "      <td>['f7fd9c68f804acda665d2ab082217bb1583318f2']</td>\n",
              "      <td>1</td>\n",
              "      <td>[]</td>\n",
              "      <td>0.0</td>\n",
              "      <td>[]</td>\n",
              "      <td>0.0</td>\n",
              "      <td>2020-02-05 05:04:36</td>\n",
              "      <td>2020-11-14 05:24:35</td>\n",
              "      <td>2020-06-17 23:26:32</td>\n",
              "      <td>2020-11-13 09:04:06</td>\n",
              "      <td>0.0</td>\n",
              "      <td>0.0</td>\n",
              "      <td>0</td>\n",
              "      <td>0</td>\n",
              "      <td>1</td>\n",
              "      <td>1</td>\n",
              "      <td>1</td>\n",
              "      <td>99</td>\n",
              "      <td>99</td>\n",
              "      <td>0</td>\n",
              "      <td>3.0</td>\n",
              "      <td>0.0</td>\n",
              "      <td>0.0</td>\n",
              "      <td>0.03</td>\n",
              "      <td>0.01</td>\n",
              "      <td>0.000000</td>\n",
              "      <td>0.000000</td>\n",
              "      <td>0.000000</td>\n",
              "      <td>0.00</td>\n",
              "      <td>0.000000</td>\n",
              "      <td>0.000000</td>\n",
              "      <td>0.000000</td>\n",
              "      <td>0.000000</td>\n",
              "      <td>0.000000</td>\n",
              "      <td>0.000000</td>\n",
              "    </tr>\n",
              "    <tr>\n",
              "      <th>4</th>\n",
              "      <td>GlobalOffensiveTrade</td>\n",
              "      <td>209007.0</td>\n",
              "      <td>public</td>\n",
              "      <td>['f78b47357eabba6f7580e47da7560a322287eaee','9...</td>\n",
              "      <td>22</td>\n",
              "      <td>[]</td>\n",
              "      <td>0.0</td>\n",
              "      <td>[]</td>\n",
              "      <td>0.0</td>\n",
              "      <td>2016-12-02 06:33:48</td>\n",
              "      <td>2020-08-30 21:38:25</td>\n",
              "      <td>2017-04-05 12:44:22</td>\n",
              "      <td>2019-12-19 01:06:07</td>\n",
              "      <td>0.0</td>\n",
              "      <td>0.0</td>\n",
              "      <td>0</td>\n",
              "      <td>1</td>\n",
              "      <td>1</td>\n",
              "      <td>6</td>\n",
              "      <td>1</td>\n",
              "      <td>122</td>\n",
              "      <td>99</td>\n",
              "      <td>23</td>\n",
              "      <td>86.0</td>\n",
              "      <td>46.0</td>\n",
              "      <td>40.0</td>\n",
              "      <td>0.03</td>\n",
              "      <td>0.05</td>\n",
              "      <td>2132.923077</td>\n",
              "      <td>17479.307692</td>\n",
              "      <td>1.000000</td>\n",
              "      <td>19.00</td>\n",
              "      <td>1.000000</td>\n",
              "      <td>19.000000</td>\n",
              "      <td>0.108700</td>\n",
              "      <td>0.046884</td>\n",
              "      <td>0.108700</td>\n",
              "      <td>0.046884</td>\n",
              "    </tr>\n",
              "    <tr>\n",
              "      <th>...</th>\n",
              "      <td>...</td>\n",
              "      <td>...</td>\n",
              "      <td>...</td>\n",
              "      <td>...</td>\n",
              "      <td>...</td>\n",
              "      <td>...</td>\n",
              "      <td>...</td>\n",
              "      <td>...</td>\n",
              "      <td>...</td>\n",
              "      <td>...</td>\n",
              "      <td>...</td>\n",
              "      <td>...</td>\n",
              "      <td>...</td>\n",
              "      <td>...</td>\n",
              "      <td>...</td>\n",
              "      <td>...</td>\n",
              "      <td>...</td>\n",
              "      <td>...</td>\n",
              "      <td>...</td>\n",
              "      <td>...</td>\n",
              "      <td>...</td>\n",
              "      <td>...</td>\n",
              "      <td>...</td>\n",
              "      <td>...</td>\n",
              "      <td>...</td>\n",
              "      <td>...</td>\n",
              "      <td>...</td>\n",
              "      <td>...</td>\n",
              "      <td>...</td>\n",
              "      <td>...</td>\n",
              "      <td>...</td>\n",
              "      <td>...</td>\n",
              "      <td>...</td>\n",
              "      <td>...</td>\n",
              "      <td>...</td>\n",
              "      <td>...</td>\n",
              "      <td>...</td>\n",
              "      <td>...</td>\n",
              "    </tr>\n",
              "    <tr>\n",
              "      <th>12982</th>\n",
              "      <td>atlanticdiscussions</td>\n",
              "      <td>1312.0</td>\n",
              "      <td>public</td>\n",
              "      <td>['bfcde1ace3566aca6c58b4e91864cf1dc3580838','2...</td>\n",
              "      <td>7</td>\n",
              "      <td>[]</td>\n",
              "      <td>0.0</td>\n",
              "      <td>[]</td>\n",
              "      <td>0.0</td>\n",
              "      <td>2019-09-30 13:33:03</td>\n",
              "      <td>2020-10-02 14:24:23</td>\n",
              "      <td>2019-10-10 11:59:39</td>\n",
              "      <td>2020-12-21 12:56:28</td>\n",
              "      <td>0.0</td>\n",
              "      <td>0.0</td>\n",
              "      <td>0</td>\n",
              "      <td>0</td>\n",
              "      <td>1</td>\n",
              "      <td>1</td>\n",
              "      <td>1</td>\n",
              "      <td>10</td>\n",
              "      <td>10</td>\n",
              "      <td>0</td>\n",
              "      <td>5.0</td>\n",
              "      <td>1.0</td>\n",
              "      <td>4.0</td>\n",
              "      <td>0.03</td>\n",
              "      <td>0.01</td>\n",
              "      <td>0.000000</td>\n",
              "      <td>0.000000</td>\n",
              "      <td>0.000000</td>\n",
              "      <td>0.00</td>\n",
              "      <td>0.000000</td>\n",
              "      <td>0.000000</td>\n",
              "      <td>0.000000</td>\n",
              "      <td>0.000000</td>\n",
              "      <td>0.000000</td>\n",
              "      <td>0.000000</td>\n",
              "    </tr>\n",
              "    <tr>\n",
              "      <th>12983</th>\n",
              "      <td>AnkiVector</td>\n",
              "      <td>8162.0</td>\n",
              "      <td>public</td>\n",
              "      <td>['dba23e7b20b6aabac1013515b3966f5d8162dbac']</td>\n",
              "      <td>1</td>\n",
              "      <td>[]</td>\n",
              "      <td>0.0</td>\n",
              "      <td>[]</td>\n",
              "      <td>0.0</td>\n",
              "      <td>2019-12-29 06:31:18</td>\n",
              "      <td>2020-09-26 01:54:24</td>\n",
              "      <td>0</td>\n",
              "      <td>0</td>\n",
              "      <td>0.0</td>\n",
              "      <td>0.0</td>\n",
              "      <td>0</td>\n",
              "      <td>0</td>\n",
              "      <td>1</td>\n",
              "      <td>1</td>\n",
              "      <td>1</td>\n",
              "      <td>10</td>\n",
              "      <td>10</td>\n",
              "      <td>0</td>\n",
              "      <td>0.0</td>\n",
              "      <td>0.0</td>\n",
              "      <td>0.0</td>\n",
              "      <td>0.03</td>\n",
              "      <td>0.01</td>\n",
              "      <td>84.875000</td>\n",
              "      <td>156.625000</td>\n",
              "      <td>0.000000</td>\n",
              "      <td>0.00</td>\n",
              "      <td>0.000000</td>\n",
              "      <td>0.000000</td>\n",
              "      <td>0.000000</td>\n",
              "      <td>0.000000</td>\n",
              "      <td>0.000000</td>\n",
              "      <td>0.000000</td>\n",
              "    </tr>\n",
              "    <tr>\n",
              "      <th>12984</th>\n",
              "      <td>Modern_Family</td>\n",
              "      <td>44116.0</td>\n",
              "      <td>public</td>\n",
              "      <td>['3125329c1621a3c3e2a68b53d68668dc7a997ace','0...</td>\n",
              "      <td>7</td>\n",
              "      <td>[]</td>\n",
              "      <td>0.0</td>\n",
              "      <td>[]</td>\n",
              "      <td>0.0</td>\n",
              "      <td>2017-06-19 04:32:10</td>\n",
              "      <td>2020-08-22 22:24:41</td>\n",
              "      <td>2017-08-27 21:56:39</td>\n",
              "      <td>2020-09-06 08:22:05</td>\n",
              "      <td>0.0</td>\n",
              "      <td>0.0</td>\n",
              "      <td>0</td>\n",
              "      <td>1</td>\n",
              "      <td>1</td>\n",
              "      <td>3</td>\n",
              "      <td>1</td>\n",
              "      <td>13</td>\n",
              "      <td>10</td>\n",
              "      <td>3</td>\n",
              "      <td>22.0</td>\n",
              "      <td>20.0</td>\n",
              "      <td>2.0</td>\n",
              "      <td>0.03</td>\n",
              "      <td>0.02</td>\n",
              "      <td>46.384615</td>\n",
              "      <td>63.153846</td>\n",
              "      <td>0.000000</td>\n",
              "      <td>0.00</td>\n",
              "      <td>1.000000</td>\n",
              "      <td>1.500000</td>\n",
              "      <td>0.000000</td>\n",
              "      <td>0.000000</td>\n",
              "      <td>2.375152</td>\n",
              "      <td>2.155887</td>\n",
              "    </tr>\n",
              "    <tr>\n",
              "      <th>12985</th>\n",
              "      <td>wacom</td>\n",
              "      <td>44397.0</td>\n",
              "      <td>public</td>\n",
              "      <td>['cf35f27bf6511bf07145c8ae3de98c9a7dc0ab8e','8...</td>\n",
              "      <td>5</td>\n",
              "      <td>[]</td>\n",
              "      <td>0.0</td>\n",
              "      <td>[]</td>\n",
              "      <td>0.0</td>\n",
              "      <td>2016-11-18 05:13:32</td>\n",
              "      <td>2021-01-19 02:24:35</td>\n",
              "      <td>2016-10-31 06:42:17</td>\n",
              "      <td>2021-01-23 13:57:08</td>\n",
              "      <td>0.0</td>\n",
              "      <td>0.0</td>\n",
              "      <td>0</td>\n",
              "      <td>1</td>\n",
              "      <td>1</td>\n",
              "      <td>6</td>\n",
              "      <td>2</td>\n",
              "      <td>22</td>\n",
              "      <td>10</td>\n",
              "      <td>12</td>\n",
              "      <td>892.0</td>\n",
              "      <td>6.0</td>\n",
              "      <td>886.0</td>\n",
              "      <td>0.06</td>\n",
              "      <td>0.05</td>\n",
              "      <td>230.615385</td>\n",
              "      <td>290.000000</td>\n",
              "      <td>0.000000</td>\n",
              "      <td>0.00</td>\n",
              "      <td>1.250000</td>\n",
              "      <td>1.500000</td>\n",
              "      <td>0.000000</td>\n",
              "      <td>0.000000</td>\n",
              "      <td>0.517241</td>\n",
              "      <td>0.542028</td>\n",
              "    </tr>\n",
              "    <tr>\n",
              "      <th>12986</th>\n",
              "      <td>Lovecraft</td>\n",
              "      <td>188619.0</td>\n",
              "      <td>public</td>\n",
              "      <td>['da6467ebe26a9644834051d737c3385fb244f50d','3...</td>\n",
              "      <td>6</td>\n",
              "      <td>[]</td>\n",
              "      <td>0.0</td>\n",
              "      <td>[]</td>\n",
              "      <td>0.0</td>\n",
              "      <td>2016-11-14 14:01:38</td>\n",
              "      <td>2020-12-31 17:01:37</td>\n",
              "      <td>2016-11-22 18:16:19</td>\n",
              "      <td>2021-01-13 14:58:17</td>\n",
              "      <td>0.0</td>\n",
              "      <td>0.0</td>\n",
              "      <td>0</td>\n",
              "      <td>1</td>\n",
              "      <td>1</td>\n",
              "      <td>10</td>\n",
              "      <td>5</td>\n",
              "      <td>21</td>\n",
              "      <td>10</td>\n",
              "      <td>11</td>\n",
              "      <td>132.0</td>\n",
              "      <td>35.0</td>\n",
              "      <td>97.0</td>\n",
              "      <td>0.14</td>\n",
              "      <td>0.08</td>\n",
              "      <td>225.923077</td>\n",
              "      <td>333.846154</td>\n",
              "      <td>3.000000</td>\n",
              "      <td>3.00</td>\n",
              "      <td>1.333333</td>\n",
              "      <td>1.333333</td>\n",
              "      <td>0.898618</td>\n",
              "      <td>1.327886</td>\n",
              "      <td>0.399386</td>\n",
              "      <td>0.590171</td>\n",
              "    </tr>\n",
              "  </tbody>\n",
              "</table>\n",
              "<p>12987 rows × 38 columns</p>\n",
              "</div>\n",
              "      <button class=\"colab-df-convert\" onclick=\"convertToInteractive('df-3d7ff542-08a2-45ab-b8c2-91e5800c4ef7')\"\n",
              "              title=\"Convert this dataframe to an interactive table.\"\n",
              "              style=\"display:none;\">\n",
              "        \n",
              "  <svg xmlns=\"http://www.w3.org/2000/svg\" height=\"24px\"viewBox=\"0 0 24 24\"\n",
              "       width=\"24px\">\n",
              "    <path d=\"M0 0h24v24H0V0z\" fill=\"none\"/>\n",
              "    <path d=\"M18.56 5.44l.94 2.06.94-2.06 2.06-.94-2.06-.94-.94-2.06-.94 2.06-2.06.94zm-11 1L8.5 8.5l.94-2.06 2.06-.94-2.06-.94L8.5 2.5l-.94 2.06-2.06.94zm10 10l.94 2.06.94-2.06 2.06-.94-2.06-.94-.94-2.06-.94 2.06-2.06.94z\"/><path d=\"M17.41 7.96l-1.37-1.37c-.4-.4-.92-.59-1.43-.59-.52 0-1.04.2-1.43.59L10.3 9.45l-7.72 7.72c-.78.78-.78 2.05 0 2.83L4 21.41c.39.39.9.59 1.41.59.51 0 1.02-.2 1.41-.59l7.78-7.78 2.81-2.81c.8-.78.8-2.07 0-2.86zM5.41 20L4 18.59l7.72-7.72 1.47 1.35L5.41 20z\"/>\n",
              "  </svg>\n",
              "      </button>\n",
              "      \n",
              "  <style>\n",
              "    .colab-df-container {\n",
              "      display:flex;\n",
              "      flex-wrap:wrap;\n",
              "      gap: 12px;\n",
              "    }\n",
              "\n",
              "    .colab-df-convert {\n",
              "      background-color: #E8F0FE;\n",
              "      border: none;\n",
              "      border-radius: 50%;\n",
              "      cursor: pointer;\n",
              "      display: none;\n",
              "      fill: #1967D2;\n",
              "      height: 32px;\n",
              "      padding: 0 0 0 0;\n",
              "      width: 32px;\n",
              "    }\n",
              "\n",
              "    .colab-df-convert:hover {\n",
              "      background-color: #E2EBFA;\n",
              "      box-shadow: 0px 1px 2px rgba(60, 64, 67, 0.3), 0px 1px 3px 1px rgba(60, 64, 67, 0.15);\n",
              "      fill: #174EA6;\n",
              "    }\n",
              "\n",
              "    [theme=dark] .colab-df-convert {\n",
              "      background-color: #3B4455;\n",
              "      fill: #D2E3FC;\n",
              "    }\n",
              "\n",
              "    [theme=dark] .colab-df-convert:hover {\n",
              "      background-color: #434B5C;\n",
              "      box-shadow: 0px 1px 3px 1px rgba(0, 0, 0, 0.15);\n",
              "      filter: drop-shadow(0px 1px 2px rgba(0, 0, 0, 0.3));\n",
              "      fill: #FFFFFF;\n",
              "    }\n",
              "  </style>\n",
              "\n",
              "      <script>\n",
              "        const buttonEl =\n",
              "          document.querySelector('#df-3d7ff542-08a2-45ab-b8c2-91e5800c4ef7 button.colab-df-convert');\n",
              "        buttonEl.style.display =\n",
              "          google.colab.kernel.accessAllowed ? 'block' : 'none';\n",
              "\n",
              "        async function convertToInteractive(key) {\n",
              "          const element = document.querySelector('#df-3d7ff542-08a2-45ab-b8c2-91e5800c4ef7');\n",
              "          const dataTable =\n",
              "            await google.colab.kernel.invokeFunction('convertToInteractive',\n",
              "                                                     [key], {});\n",
              "          if (!dataTable) return;\n",
              "\n",
              "          const docLinkHtml = 'Like what you see? Visit the ' +\n",
              "            '<a target=\"_blank\" href=https://colab.research.google.com/notebooks/data_table.ipynb>data table notebook</a>'\n",
              "            + ' to learn more about interactive tables.';\n",
              "          element.innerHTML = '';\n",
              "          dataTable['output_type'] = 'display_data';\n",
              "          await google.colab.output.renderOutput(dataTable, element);\n",
              "          const docLink = document.createElement('div');\n",
              "          docLink.innerHTML = docLinkHtml;\n",
              "          element.appendChild(docLink);\n",
              "        }\n",
              "      </script>\n",
              "    </div>\n",
              "  </div>\n",
              "  "
            ],
            "text/plain": [
              "                  subreddit  ...  % QAnon Authors\n",
              "0                   Watches  ...         0.130146\n",
              "1                       MMA  ...         0.346903\n",
              "2                   Seattle  ...         0.446625\n",
              "3                 UnusAnnus  ...         0.000000\n",
              "4      GlobalOffensiveTrade  ...         0.046884\n",
              "...                     ...  ...              ...\n",
              "12982   atlanticdiscussions  ...         0.000000\n",
              "12983            AnkiVector  ...         0.000000\n",
              "12984         Modern_Family  ...         2.155887\n",
              "12985                 wacom  ...         0.542028\n",
              "12986             Lovecraft  ...         0.590171\n",
              "\n",
              "[12987 rows x 38 columns]"
            ]
          },
          "execution_count": 67,
          "metadata": {},
          "output_type": "execute_result"
        }
      ],
      "source": [
        "subreddit_stat"
      ]
    },
    {
      "cell_type": "code",
      "execution_count": null,
      "metadata": {
        "colab": {
          "base_uri": "https://localhost:8080/",
          "height": 424
        },
        "id": "_N9_vf1dO7XQ",
        "outputId": "dc65fd12-431c-424b-cbf8-aa7854160699"
      },
      "outputs": [
        {
          "data": {
            "text/html": [
              "\n",
              "  <div id=\"df-95466446-788d-44a5-8ece-f2b490605d3c\">\n",
              "    <div class=\"colab-df-container\">\n",
              "      <div>\n",
              "<style scoped>\n",
              "    .dataframe tbody tr th:only-of-type {\n",
              "        vertical-align: middle;\n",
              "    }\n",
              "\n",
              "    .dataframe tbody tr th {\n",
              "        vertical-align: top;\n",
              "    }\n",
              "\n",
              "    .dataframe thead th {\n",
              "        text-align: right;\n",
              "    }\n",
              "</style>\n",
              "<table border=\"1\" class=\"dataframe\">\n",
              "  <thead>\n",
              "    <tr style=\"text-align: right;\">\n",
              "      <th></th>\n",
              "      <th>QAuthor</th>\n",
              "      <th>isUQ</th>\n",
              "      <th>status</th>\n",
              "      <th>first_post</th>\n",
              "      <th>last_post</th>\n",
              "      <th>active_pre_emergence</th>\n",
              "      <th>active_post_ban</th>\n",
              "    </tr>\n",
              "  </thead>\n",
              "  <tbody>\n",
              "    <tr>\n",
              "      <th>0</th>\n",
              "      <td>aa65b7dd5d5fa660d058e094669f884bf7d52299</td>\n",
              "      <td>0</td>\n",
              "      <td>Active</td>\n",
              "      <td>2017-12-28 10:38:34</td>\n",
              "      <td>2018-05-17 20:01:17</td>\n",
              "      <td>False</td>\n",
              "      <td>False</td>\n",
              "    </tr>\n",
              "    <tr>\n",
              "      <th>1</th>\n",
              "      <td>2b1505f289338751829dfa129c0b52d145c9eceb</td>\n",
              "      <td>1</td>\n",
              "      <td>Active</td>\n",
              "      <td>2018-01-07 10:40:23</td>\n",
              "      <td>2018-03-05 02:56:27</td>\n",
              "      <td>False</td>\n",
              "      <td>False</td>\n",
              "    </tr>\n",
              "    <tr>\n",
              "      <th>2</th>\n",
              "      <td>4eeddb9abeb3c4889f1b037016bf2aeb834bb66d</td>\n",
              "      <td>0</td>\n",
              "      <td>Active</td>\n",
              "      <td>2018-01-15 21:05:45</td>\n",
              "      <td>2020-11-02 01:02:51</td>\n",
              "      <td>False</td>\n",
              "      <td>True</td>\n",
              "    </tr>\n",
              "    <tr>\n",
              "      <th>3</th>\n",
              "      <td>08a6fae5a56fcdb495b2de8a02625ea2b4abe32f</td>\n",
              "      <td>1</td>\n",
              "      <td>Active</td>\n",
              "      <td>2016-11-04 16:22:47</td>\n",
              "      <td>2018-04-25 21:34:20</td>\n",
              "      <td>True</td>\n",
              "      <td>False</td>\n",
              "    </tr>\n",
              "    <tr>\n",
              "      <th>4</th>\n",
              "      <td>01301652214982c57efe894efe7e2c7d57df2801</td>\n",
              "      <td>0</td>\n",
              "      <td>Active</td>\n",
              "      <td>2018-01-07 03:20:12</td>\n",
              "      <td>2018-02-01 21:45:30</td>\n",
              "      <td>False</td>\n",
              "      <td>False</td>\n",
              "    </tr>\n",
              "    <tr>\n",
              "      <th>...</th>\n",
              "      <td>...</td>\n",
              "      <td>...</td>\n",
              "      <td>...</td>\n",
              "      <td>...</td>\n",
              "      <td>...</td>\n",
              "      <td>...</td>\n",
              "      <td>...</td>\n",
              "    </tr>\n",
              "    <tr>\n",
              "      <th>13177</th>\n",
              "      <td>5ddab2d1ea3353cb0510f179223b285bb66eb124</td>\n",
              "      <td>0</td>\n",
              "      <td>DNE</td>\n",
              "      <td>2018-03-22 06:28:54</td>\n",
              "      <td>2018-07-17 19:25:15</td>\n",
              "      <td>False</td>\n",
              "      <td>False</td>\n",
              "    </tr>\n",
              "    <tr>\n",
              "      <th>13178</th>\n",
              "      <td>db80cc5bace90291c89e46788379da804a5efe5f</td>\n",
              "      <td>1</td>\n",
              "      <td>Active</td>\n",
              "      <td>2018-02-16 18:40:46</td>\n",
              "      <td>2018-07-03 19:47:44</td>\n",
              "      <td>False</td>\n",
              "      <td>False</td>\n",
              "    </tr>\n",
              "    <tr>\n",
              "      <th>13179</th>\n",
              "      <td>bcde0448a3c0b584f218c01865a291036fa50d03</td>\n",
              "      <td>0</td>\n",
              "      <td>Active</td>\n",
              "      <td>2018-01-04 20:20:22</td>\n",
              "      <td>2018-07-27 17:27:16</td>\n",
              "      <td>False</td>\n",
              "      <td>False</td>\n",
              "    </tr>\n",
              "    <tr>\n",
              "      <th>13180</th>\n",
              "      <td>eb6b2559a0745a82c3406f5c5d4b0bfd142a8314</td>\n",
              "      <td>1</td>\n",
              "      <td>DNE</td>\n",
              "      <td>2016-10-28 13:30:59</td>\n",
              "      <td>2020-02-18 21:42:08</td>\n",
              "      <td>True</td>\n",
              "      <td>True</td>\n",
              "    </tr>\n",
              "    <tr>\n",
              "      <th>13181</th>\n",
              "      <td>c039f11ff985f7d8547748c10ccd5c8416b8404d</td>\n",
              "      <td>1</td>\n",
              "      <td>Is_suspended</td>\n",
              "      <td>2017-01-09 00:19:12</td>\n",
              "      <td>2019-11-05 21:55:07</td>\n",
              "      <td>True</td>\n",
              "      <td>True</td>\n",
              "    </tr>\n",
              "  </tbody>\n",
              "</table>\n",
              "<p>13182 rows × 7 columns</p>\n",
              "</div>\n",
              "      <button class=\"colab-df-convert\" onclick=\"convertToInteractive('df-95466446-788d-44a5-8ece-f2b490605d3c')\"\n",
              "              title=\"Convert this dataframe to an interactive table.\"\n",
              "              style=\"display:none;\">\n",
              "        \n",
              "  <svg xmlns=\"http://www.w3.org/2000/svg\" height=\"24px\"viewBox=\"0 0 24 24\"\n",
              "       width=\"24px\">\n",
              "    <path d=\"M0 0h24v24H0V0z\" fill=\"none\"/>\n",
              "    <path d=\"M18.56 5.44l.94 2.06.94-2.06 2.06-.94-2.06-.94-.94-2.06-.94 2.06-2.06.94zm-11 1L8.5 8.5l.94-2.06 2.06-.94-2.06-.94L8.5 2.5l-.94 2.06-2.06.94zm10 10l.94 2.06.94-2.06 2.06-.94-2.06-.94-.94-2.06-.94 2.06-2.06.94z\"/><path d=\"M17.41 7.96l-1.37-1.37c-.4-.4-.92-.59-1.43-.59-.52 0-1.04.2-1.43.59L10.3 9.45l-7.72 7.72c-.78.78-.78 2.05 0 2.83L4 21.41c.39.39.9.59 1.41.59.51 0 1.02-.2 1.41-.59l7.78-7.78 2.81-2.81c.8-.78.8-2.07 0-2.86zM5.41 20L4 18.59l7.72-7.72 1.47 1.35L5.41 20z\"/>\n",
              "  </svg>\n",
              "      </button>\n",
              "      \n",
              "  <style>\n",
              "    .colab-df-container {\n",
              "      display:flex;\n",
              "      flex-wrap:wrap;\n",
              "      gap: 12px;\n",
              "    }\n",
              "\n",
              "    .colab-df-convert {\n",
              "      background-color: #E8F0FE;\n",
              "      border: none;\n",
              "      border-radius: 50%;\n",
              "      cursor: pointer;\n",
              "      display: none;\n",
              "      fill: #1967D2;\n",
              "      height: 32px;\n",
              "      padding: 0 0 0 0;\n",
              "      width: 32px;\n",
              "    }\n",
              "\n",
              "    .colab-df-convert:hover {\n",
              "      background-color: #E2EBFA;\n",
              "      box-shadow: 0px 1px 2px rgba(60, 64, 67, 0.3), 0px 1px 3px 1px rgba(60, 64, 67, 0.15);\n",
              "      fill: #174EA6;\n",
              "    }\n",
              "\n",
              "    [theme=dark] .colab-df-convert {\n",
              "      background-color: #3B4455;\n",
              "      fill: #D2E3FC;\n",
              "    }\n",
              "\n",
              "    [theme=dark] .colab-df-convert:hover {\n",
              "      background-color: #434B5C;\n",
              "      box-shadow: 0px 1px 3px 1px rgba(0, 0, 0, 0.15);\n",
              "      filter: drop-shadow(0px 1px 2px rgba(0, 0, 0, 0.3));\n",
              "      fill: #FFFFFF;\n",
              "    }\n",
              "  </style>\n",
              "\n",
              "      <script>\n",
              "        const buttonEl =\n",
              "          document.querySelector('#df-95466446-788d-44a5-8ece-f2b490605d3c button.colab-df-convert');\n",
              "        buttonEl.style.display =\n",
              "          google.colab.kernel.accessAllowed ? 'block' : 'none';\n",
              "\n",
              "        async function convertToInteractive(key) {\n",
              "          const element = document.querySelector('#df-95466446-788d-44a5-8ece-f2b490605d3c');\n",
              "          const dataTable =\n",
              "            await google.colab.kernel.invokeFunction('convertToInteractive',\n",
              "                                                     [key], {});\n",
              "          if (!dataTable) return;\n",
              "\n",
              "          const docLinkHtml = 'Like what you see? Visit the ' +\n",
              "            '<a target=\"_blank\" href=https://colab.research.google.com/notebooks/data_table.ipynb>data table notebook</a>'\n",
              "            + ' to learn more about interactive tables.';\n",
              "          element.innerHTML = '';\n",
              "          dataTable['output_type'] = 'display_data';\n",
              "          await google.colab.output.renderOutput(dataTable, element);\n",
              "          const docLink = document.createElement('div');\n",
              "          docLink.innerHTML = docLinkHtml;\n",
              "          element.appendChild(docLink);\n",
              "        }\n",
              "      </script>\n",
              "    </div>\n",
              "  </div>\n",
              "  "
            ],
            "text/plain": [
              "                                        QAuthor  ...  active_post_ban\n",
              "0      aa65b7dd5d5fa660d058e094669f884bf7d52299  ...            False\n",
              "1      2b1505f289338751829dfa129c0b52d145c9eceb  ...            False\n",
              "2      4eeddb9abeb3c4889f1b037016bf2aeb834bb66d  ...             True\n",
              "3      08a6fae5a56fcdb495b2de8a02625ea2b4abe32f  ...            False\n",
              "4      01301652214982c57efe894efe7e2c7d57df2801  ...            False\n",
              "...                                         ...  ...              ...\n",
              "13177  5ddab2d1ea3353cb0510f179223b285bb66eb124  ...            False\n",
              "13178  db80cc5bace90291c89e46788379da804a5efe5f  ...            False\n",
              "13179  bcde0448a3c0b584f218c01865a291036fa50d03  ...            False\n",
              "13180  eb6b2559a0745a82c3406f5c5d4b0bfd142a8314  ...             True\n",
              "13181  c039f11ff985f7d8547748c10ccd5c8416b8404d  ...             True\n",
              "\n",
              "[13182 rows x 7 columns]"
            ]
          },
          "execution_count": 68,
          "metadata": {},
          "output_type": "execute_result"
        }
      ],
      "source": [
        "author_status"
      ]
    },
    {
      "cell_type": "code",
      "execution_count": null,
      "metadata": {
        "id": "sFUZcbDL4Mq9"
      },
      "outputs": [],
      "source": [
        "subreddit_df = subreddit_stat[['subreddit', 'numSubscribers', 'status', 'allMods',\n",
        "       'qModNames', 'qMods']]"
      ]
    },
    {
      "cell_type": "code",
      "execution_count": null,
      "metadata": {
        "colab": {
          "base_uri": "https://localhost:8080/"
        },
        "id": "biLVWguB4Mq9",
        "outputId": "fe3c1489-04fc-4ab5-deb9-f92637c1237c"
      },
      "outputs": [],
      "source": [
        "subreddit_df['Q-enthusiactic Mods'] = subreddit_df.apply(lambda x: int(len([n for n in eval(x['qModNames'])\n",
        "                                                                        if n in q_enthusiastic]) > 0) if x['qMods'] else 0,\n",
        "                                                         axis=1)\n",
        "subreddit_df['Q-Interested Mods'] = subreddit_df.apply(lambda x: int(len([n for n in eval(x['qModNames'])\n",
        "                                                                      if n in q_interested])) > 0 if x['qMods'] else 0,\n",
        "                                                         axis=1) "
      ]
    },
    {
      "cell_type": "code",
      "execution_count": null,
      "metadata": {
        "id": "gsCMsRSqAavp"
      },
      "outputs": [],
      "source": [
        "len(subreddit_df[(subreddit_df['Q-Interested Mods'] > 0)])"
      ]
    },
    {
      "cell_type": "code",
      "execution_count": null,
      "metadata": {
        "colab": {
          "base_uri": "https://localhost:8080/"
        },
        "id": "-7jg_B4L4Mq9",
        "outputId": "16076cd4-8720-4020-990c-616228b07c44"
      },
      "outputs": [
        {
          "data": {
            "text/plain": [
              "371"
            ]
          },
          "execution_count": 71,
          "metadata": {},
          "output_type": "execute_result"
        }
      ],
      "source": [
        "len(subreddit_df[subreddit_df['Q-enthusiactic Mods'] > 0])"
      ]
    },
    {
      "cell_type": "code",
      "execution_count": null,
      "metadata": {
        "id": "b63QlvIR4Mq-"
      },
      "outputs": [],
      "source": [
        "sub_df['date_created'] = sub_df['date_created'].dt.date"
      ]
    },
    {
      "cell_type": "code",
      "execution_count": null,
      "metadata": {
        "id": "Yyid8rK34Mq-"
      },
      "outputs": [],
      "source": [
        "activeSubs = set(subreddit_df['subreddit'].values)"
      ]
    },
    {
      "cell_type": "code",
      "execution_count": null,
      "metadata": {
        "id": "d0Pik4rn4Mq-"
      },
      "outputs": [],
      "source": [
        "subreddit_q_submission_df = pd.merge(sub_df[sub_df.subreddit.isin(activeSubs)][['subreddit', 'id', 'author', \n",
        "                                                                       'date_created']],\n",
        "                                     author_status, left_on='author', right_on='QAuthor')"
      ]
    },
    {
      "cell_type": "code",
      "execution_count": null,
      "metadata": {
        "colab": {
          "base_uri": "https://localhost:8080/"
        },
        "id": "IUFjyE9S4Mq-",
        "outputId": "4d8a38e0-8fc4-4fdf-db90-d4e1b83946ab"
      },
      "outputs": [
        {
          "data": {
            "text/plain": [
              "Index(['subreddit', 'id', 'author', 'date_created', 'QAuthor', 'isUQ',\n",
              "       'status', 'first_post', 'last_post', 'active_pre_emergence',\n",
              "       'active_post_ban'],\n",
              "      dtype='object')"
            ]
          },
          "execution_count": 75,
          "metadata": {},
          "output_type": "execute_result"
        }
      ],
      "source": [
        "subreddit_q_submission_df.columns"
      ]
    },
    {
      "cell_type": "code",
      "execution_count": null,
      "metadata": {
        "colab": {
          "base_uri": "https://localhost:8080/"
        },
        "id": "0t_C9JCC4Mq_",
        "outputId": "195f43ea-1810-4570-8dcf-7cd9de0310d2"
      },
      "outputs": [
        {
          "data": {
            "text/plain": [
              "2466"
            ]
          },
          "execution_count": 76,
          "metadata": {},
          "output_type": "execute_result"
        }
      ],
      "source": [
        "subreddit_q_submission_df[(subreddit_q_submission_df.subreddit.isin(labeled)) & (subreddit_q_submission_df['isUQ'] == 1)]['author'].nunique()"
      ]
    },
    {
      "cell_type": "code",
      "execution_count": null,
      "metadata": {
        "colab": {
          "base_uri": "https://localhost:8080/"
        },
        "id": "AxM64_CSMppk",
        "outputId": "ad3f79f9-2eca-4064-9945-031c065e52f6"
      },
      "outputs": [
        {
          "data": {
            "text/plain": [
              "421908"
            ]
          },
          "execution_count": 77,
          "metadata": {},
          "output_type": "execute_result"
        }
      ],
      "source": [
        "subreddit_q_submission_df[(subreddit_q_submission_df.subreddit.isin(labeled)) & (subreddit_q_submission_df['isUQ'] == 0)]['id'].nunique()"
      ]
    },
    {
      "cell_type": "code",
      "execution_count": null,
      "metadata": {
        "colab": {
          "base_uri": "https://localhost:8080/"
        },
        "id": "jVDA1jA44Mq_",
        "outputId": "877ab2d3-627c-4a9f-b5aa-e3cadb18be57"
      },
      "outputs": [
        {
          "data": {
            "text/plain": [
              "794423"
            ]
          },
          "execution_count": 78,
          "metadata": {},
          "output_type": "execute_result"
        }
      ],
      "source": [
        "subreddit_q_submission_df[(subreddit_q_submission_df.subreddit.isin(labeled)) & (subreddit_q_submission_df['isUQ'] == 1)]['id'].nunique()"
      ]
    },
    {
      "cell_type": "code",
      "execution_count": null,
      "metadata": {
        "colab": {
          "base_uri": "https://localhost:8080/"
        },
        "id": "ZkcWr-GTULxE",
        "outputId": "c3498647-0bcc-4b43-d875-79356c4c39fb"
      },
      "outputs": [
        {
          "data": {
            "text/plain": [
              "(397752, 13)"
            ]
          },
          "execution_count": 79,
          "metadata": {},
          "output_type": "execute_result"
        }
      ],
      "source": [
        "q_enth = author_status[author_status[\"isUQ\"]==1][\"QAuthor\"].tolist()\n",
        "sub_df[(sub_df[\"author\"].isin(q_enth)) & (sub_df[\"date_created\"] <= Q_ban) & (sub_df.subreddit.isin(labeled))].shape"
      ]
    },
    {
      "cell_type": "code",
      "execution_count": null,
      "metadata": {
        "colab": {
          "base_uri": "https://localhost:8080/"
        },
        "id": "1dpY7ipmVpHD",
        "outputId": "ff13801e-794d-4711-ecf9-e17b8a190f8f"
      },
      "outputs": [
        {
          "data": {
            "text/plain": [
              "(396671, 13)"
            ]
          },
          "execution_count": 80,
          "metadata": {},
          "output_type": "execute_result"
        }
      ],
      "source": [
        "sub_df[(sub_df[\"author\"].isin(q_enth)) & (sub_df[\"date_created\"] > Q_ban)& (sub_df.subreddit.isin(labeled))].shape"
      ]
    },
    {
      "cell_type": "code",
      "execution_count": null,
      "metadata": {
        "id": "Hzf82YW84Mq_"
      },
      "outputs": [],
      "source": [
        "qtypes = ['allq', 'uq', 'qauth']\n",
        "subreddit_q_sub_dfs = [subreddit_q_submission_df, \n",
        "                      subreddit_q_submission_df[subreddit_q_submission_df['isUQ'] == 1],\n",
        "                      subreddit_q_submission_df[subreddit_q_submission_df['isUQ'] == 0]]\n",
        "\n",
        "for ind, qtype in enumerate(qtypes):\n",
        "    curdf = subreddit_q_sub_dfs[ind]\n",
        "    tmp1 = curdf.groupby('subreddit')['id'].nunique().reset_index(name='{}_total_submissions'.format(qtype))\n",
        "    tmp2 = curdf[(curdf['date_created'] < Q_ban)].groupby('subreddit')['id'].nunique().reset_index(name='{}_pre_ban_submissions'.format(qtype))\n",
        "    tmp3 = curdf[(curdf['date_created'] > Q_ban)].groupby('subreddit')['id'].nunique().reset_index(name='{}_post_ban_submissions'.format(qtype))\n",
        "    subreddit_df = pd.merge(subreddit_df, tmp1, on='subreddit', how='left')\n",
        "    subreddit_df = pd.merge(subreddit_df, tmp2, on='subreddit', how='left')\n",
        "    subreddit_df = pd.merge(subreddit_df, tmp3, on='subreddit', how='left')\n",
        "\n",
        "    \n",
        "\n",
        "    tmp1 = curdf.groupby('subreddit')['author'].nunique().reset_index(name='{}_total_authors'.format(qtype))\n",
        "    tmp2 = curdf[(curdf['date_created'] < Q_ban)].groupby('subreddit')['author'].nunique().reset_index(name='{}_pre_ban_authors'.format(qtype))\n",
        "    tmp3 = curdf[(curdf['date_created'] > Q_ban)].groupby('subreddit')['author'].nunique().reset_index(name='{}_post_ban_authors'.format(qtype))\n",
        "    subreddit_df = pd.merge(subreddit_df, tmp1, on='subreddit', how='left')\n",
        "    subreddit_df = pd.merge(subreddit_df, tmp2, on='subreddit', how='left')\n",
        "    subreddit_df = pd.merge(subreddit_df, tmp3, on='subreddit', how='left')\n",
        "    subreddit_df = subreddit_df.fillna(0)"
      ]
    },
    {
      "cell_type": "code",
      "execution_count": null,
      "metadata": {
        "colab": {
          "base_uri": "https://localhost:8080/",
          "height": 522
        },
        "id": "EB6w2tTE4MrA",
        "outputId": "d00da801-b8dc-47b6-a161-eb74e8449510"
      },
      "outputs": [
        {
          "data": {
            "text/html": [
              "\n",
              "  <div id=\"df-9e7bb934-2e53-4678-9688-01ad079288ba\">\n",
              "    <div class=\"colab-df-container\">\n",
              "      <div>\n",
              "<style scoped>\n",
              "    .dataframe tbody tr th:only-of-type {\n",
              "        vertical-align: middle;\n",
              "    }\n",
              "\n",
              "    .dataframe tbody tr th {\n",
              "        vertical-align: top;\n",
              "    }\n",
              "\n",
              "    .dataframe thead th {\n",
              "        text-align: right;\n",
              "    }\n",
              "</style>\n",
              "<table border=\"1\" class=\"dataframe\">\n",
              "  <thead>\n",
              "    <tr style=\"text-align: right;\">\n",
              "      <th></th>\n",
              "      <th>subreddit</th>\n",
              "      <th>numSubscribers</th>\n",
              "      <th>status</th>\n",
              "      <th>allMods</th>\n",
              "      <th>qModNames</th>\n",
              "      <th>qMods</th>\n",
              "      <th>Q-enthusiactic Mods</th>\n",
              "      <th>Q-Interested Mods</th>\n",
              "      <th>allq_total_submissions</th>\n",
              "      <th>allq_pre_ban_submissions</th>\n",
              "      <th>allq_post_ban_submissions</th>\n",
              "      <th>allq_total_authors</th>\n",
              "      <th>allq_pre_ban_authors</th>\n",
              "      <th>allq_post_ban_authors</th>\n",
              "      <th>uq_total_submissions</th>\n",
              "      <th>uq_pre_ban_submissions</th>\n",
              "      <th>uq_post_ban_submissions</th>\n",
              "      <th>uq_total_authors</th>\n",
              "      <th>uq_pre_ban_authors</th>\n",
              "      <th>uq_post_ban_authors</th>\n",
              "      <th>qauth_total_submissions</th>\n",
              "      <th>qauth_pre_ban_submissions</th>\n",
              "      <th>qauth_post_ban_submissions</th>\n",
              "      <th>qauth_total_authors</th>\n",
              "      <th>qauth_pre_ban_authors</th>\n",
              "      <th>qauth_post_ban_authors</th>\n",
              "    </tr>\n",
              "  </thead>\n",
              "  <tbody>\n",
              "    <tr>\n",
              "      <th>873</th>\n",
              "      <td>ChoosingBeggars</td>\n",
              "      <td>2054079.0</td>\n",
              "      <td>public</td>\n",
              "      <td>17</td>\n",
              "      <td>['4183eb50a6fae3dc3346221dea80c4cbab400d05']</td>\n",
              "      <td>1.0</td>\n",
              "      <td>1</td>\n",
              "      <td>False</td>\n",
              "      <td>131</td>\n",
              "      <td>29.0</td>\n",
              "      <td>102.0</td>\n",
              "      <td>44</td>\n",
              "      <td>17.0</td>\n",
              "      <td>30.0</td>\n",
              "      <td>77</td>\n",
              "      <td>3.0</td>\n",
              "      <td>74.0</td>\n",
              "      <td>10</td>\n",
              "      <td>2.0</td>\n",
              "      <td>10.0</td>\n",
              "      <td>54.0</td>\n",
              "      <td>26.0</td>\n",
              "      <td>28.0</td>\n",
              "      <td>34.0</td>\n",
              "      <td>15.0</td>\n",
              "      <td>20.0</td>\n",
              "    </tr>\n",
              "    <tr>\n",
              "      <th>1612</th>\n",
              "      <td>Badfaketexts</td>\n",
              "      <td>368925.0</td>\n",
              "      <td>public</td>\n",
              "      <td>12</td>\n",
              "      <td>['4183eb50a6fae3dc3346221dea80c4cbab400d05']</td>\n",
              "      <td>1.0</td>\n",
              "      <td>1</td>\n",
              "      <td>False</td>\n",
              "      <td>27</td>\n",
              "      <td>17.0</td>\n",
              "      <td>10.0</td>\n",
              "      <td>19</td>\n",
              "      <td>12.0</td>\n",
              "      <td>9.0</td>\n",
              "      <td>6</td>\n",
              "      <td>2.0</td>\n",
              "      <td>4.0</td>\n",
              "      <td>3</td>\n",
              "      <td>1.0</td>\n",
              "      <td>3.0</td>\n",
              "      <td>21.0</td>\n",
              "      <td>15.0</td>\n",
              "      <td>6.0</td>\n",
              "      <td>16.0</td>\n",
              "      <td>11.0</td>\n",
              "      <td>6.0</td>\n",
              "    </tr>\n",
              "    <tr>\n",
              "      <th>12271</th>\n",
              "      <td>QAnonCasualties</td>\n",
              "      <td>144992.0</td>\n",
              "      <td>public</td>\n",
              "      <td>19</td>\n",
              "      <td>['ee57eb0cc28421c0caff91313467bb4f6549b8e1']</td>\n",
              "      <td>1.0</td>\n",
              "      <td>1</td>\n",
              "      <td>False</td>\n",
              "      <td>24</td>\n",
              "      <td>0.0</td>\n",
              "      <td>24.0</td>\n",
              "      <td>15</td>\n",
              "      <td>0.0</td>\n",
              "      <td>15.0</td>\n",
              "      <td>12</td>\n",
              "      <td>0.0</td>\n",
              "      <td>12.0</td>\n",
              "      <td>7</td>\n",
              "      <td>0.0</td>\n",
              "      <td>7.0</td>\n",
              "      <td>12.0</td>\n",
              "      <td>0.0</td>\n",
              "      <td>12.0</td>\n",
              "      <td>8.0</td>\n",
              "      <td>0.0</td>\n",
              "      <td>8.0</td>\n",
              "    </tr>\n",
              "    <tr>\n",
              "      <th>12096</th>\n",
              "      <td>RachelCook</td>\n",
              "      <td>113055.0</td>\n",
              "      <td>public</td>\n",
              "      <td>11</td>\n",
              "      <td>['4183eb50a6fae3dc3346221dea80c4cbab400d05']</td>\n",
              "      <td>1.0</td>\n",
              "      <td>1</td>\n",
              "      <td>False</td>\n",
              "      <td>13</td>\n",
              "      <td>13.0</td>\n",
              "      <td>0.0</td>\n",
              "      <td>1</td>\n",
              "      <td>1.0</td>\n",
              "      <td>0.0</td>\n",
              "      <td>13</td>\n",
              "      <td>13.0</td>\n",
              "      <td>0.0</td>\n",
              "      <td>1</td>\n",
              "      <td>1.0</td>\n",
              "      <td>0.0</td>\n",
              "      <td>0.0</td>\n",
              "      <td>0.0</td>\n",
              "      <td>0.0</td>\n",
              "      <td>0.0</td>\n",
              "      <td>0.0</td>\n",
              "      <td>0.0</td>\n",
              "    </tr>\n",
              "    <tr>\n",
              "      <th>6855</th>\n",
              "      <td>antinatalism</td>\n",
              "      <td>101106.0</td>\n",
              "      <td>public</td>\n",
              "      <td>11</td>\n",
              "      <td>['d6093362c47839dca33618b52ed1c9783e61215c']</td>\n",
              "      <td>1.0</td>\n",
              "      <td>1</td>\n",
              "      <td>False</td>\n",
              "      <td>292</td>\n",
              "      <td>43.0</td>\n",
              "      <td>249.0</td>\n",
              "      <td>15</td>\n",
              "      <td>7.0</td>\n",
              "      <td>12.0</td>\n",
              "      <td>272</td>\n",
              "      <td>39.0</td>\n",
              "      <td>233.0</td>\n",
              "      <td>4</td>\n",
              "      <td>3.0</td>\n",
              "      <td>3.0</td>\n",
              "      <td>20.0</td>\n",
              "      <td>4.0</td>\n",
              "      <td>16.0</td>\n",
              "      <td>11.0</td>\n",
              "      <td>4.0</td>\n",
              "      <td>9.0</td>\n",
              "    </tr>\n",
              "    <tr>\n",
              "      <th>...</th>\n",
              "      <td>...</td>\n",
              "      <td>...</td>\n",
              "      <td>...</td>\n",
              "      <td>...</td>\n",
              "      <td>...</td>\n",
              "      <td>...</td>\n",
              "      <td>...</td>\n",
              "      <td>...</td>\n",
              "      <td>...</td>\n",
              "      <td>...</td>\n",
              "      <td>...</td>\n",
              "      <td>...</td>\n",
              "      <td>...</td>\n",
              "      <td>...</td>\n",
              "      <td>...</td>\n",
              "      <td>...</td>\n",
              "      <td>...</td>\n",
              "      <td>...</td>\n",
              "      <td>...</td>\n",
              "      <td>...</td>\n",
              "      <td>...</td>\n",
              "      <td>...</td>\n",
              "      <td>...</td>\n",
              "      <td>...</td>\n",
              "      <td>...</td>\n",
              "      <td>...</td>\n",
              "    </tr>\n",
              "    <tr>\n",
              "      <th>10483</th>\n",
              "      <td>TrueSkeptics</td>\n",
              "      <td>112.0</td>\n",
              "      <td>public</td>\n",
              "      <td>5</td>\n",
              "      <td>['4946cc910a74f67f13ea879c5050ed0430258d7b','0...</td>\n",
              "      <td>2.0</td>\n",
              "      <td>1</td>\n",
              "      <td>True</td>\n",
              "      <td>2</td>\n",
              "      <td>2.0</td>\n",
              "      <td>0.0</td>\n",
              "      <td>1</td>\n",
              "      <td>1.0</td>\n",
              "      <td>0.0</td>\n",
              "      <td>2</td>\n",
              "      <td>2.0</td>\n",
              "      <td>0.0</td>\n",
              "      <td>1</td>\n",
              "      <td>1.0</td>\n",
              "      <td>0.0</td>\n",
              "      <td>0.0</td>\n",
              "      <td>0.0</td>\n",
              "      <td>0.0</td>\n",
              "      <td>0.0</td>\n",
              "      <td>0.0</td>\n",
              "      <td>0.0</td>\n",
              "    </tr>\n",
              "    <tr>\n",
              "      <th>3424</th>\n",
              "      <td>JustSoyBoyThings</td>\n",
              "      <td>111.0</td>\n",
              "      <td>public</td>\n",
              "      <td>3</td>\n",
              "      <td>['fab1eb2e251632265435cc80a6747fa002e234a6','c...</td>\n",
              "      <td>2.0</td>\n",
              "      <td>1</td>\n",
              "      <td>True</td>\n",
              "      <td>4</td>\n",
              "      <td>3.0</td>\n",
              "      <td>1.0</td>\n",
              "      <td>1</td>\n",
              "      <td>1.0</td>\n",
              "      <td>1.0</td>\n",
              "      <td>4</td>\n",
              "      <td>3.0</td>\n",
              "      <td>1.0</td>\n",
              "      <td>1</td>\n",
              "      <td>1.0</td>\n",
              "      <td>1.0</td>\n",
              "      <td>0.0</td>\n",
              "      <td>0.0</td>\n",
              "      <td>0.0</td>\n",
              "      <td>0.0</td>\n",
              "      <td>0.0</td>\n",
              "      <td>0.0</td>\n",
              "    </tr>\n",
              "    <tr>\n",
              "      <th>5983</th>\n",
              "      <td>islamic_immigration</td>\n",
              "      <td>108.0</td>\n",
              "      <td>public</td>\n",
              "      <td>1</td>\n",
              "      <td>['4183eb50a6fae3dc3346221dea80c4cbab400d05']</td>\n",
              "      <td>1.0</td>\n",
              "      <td>1</td>\n",
              "      <td>False</td>\n",
              "      <td>5</td>\n",
              "      <td>5.0</td>\n",
              "      <td>0.0</td>\n",
              "      <td>3</td>\n",
              "      <td>3.0</td>\n",
              "      <td>0.0</td>\n",
              "      <td>3</td>\n",
              "      <td>3.0</td>\n",
              "      <td>0.0</td>\n",
              "      <td>1</td>\n",
              "      <td>1.0</td>\n",
              "      <td>0.0</td>\n",
              "      <td>2.0</td>\n",
              "      <td>2.0</td>\n",
              "      <td>0.0</td>\n",
              "      <td>2.0</td>\n",
              "      <td>2.0</td>\n",
              "      <td>0.0</td>\n",
              "    </tr>\n",
              "    <tr>\n",
              "      <th>11764</th>\n",
              "      <td>AussieConspiracy</td>\n",
              "      <td>107.0</td>\n",
              "      <td>public</td>\n",
              "      <td>1</td>\n",
              "      <td>['e6c6b085cbec4c4e2ccd8e7ae692f58de52c108a']</td>\n",
              "      <td>1.0</td>\n",
              "      <td>1</td>\n",
              "      <td>False</td>\n",
              "      <td>149</td>\n",
              "      <td>149.0</td>\n",
              "      <td>0.0</td>\n",
              "      <td>1</td>\n",
              "      <td>1.0</td>\n",
              "      <td>0.0</td>\n",
              "      <td>149</td>\n",
              "      <td>149.0</td>\n",
              "      <td>0.0</td>\n",
              "      <td>1</td>\n",
              "      <td>1.0</td>\n",
              "      <td>0.0</td>\n",
              "      <td>0.0</td>\n",
              "      <td>0.0</td>\n",
              "      <td>0.0</td>\n",
              "      <td>0.0</td>\n",
              "      <td>0.0</td>\n",
              "      <td>0.0</td>\n",
              "    </tr>\n",
              "    <tr>\n",
              "      <th>7467</th>\n",
              "      <td>marktaylor</td>\n",
              "      <td>105.0</td>\n",
              "      <td>public</td>\n",
              "      <td>1</td>\n",
              "      <td>['33bd770bcd13a45ff5ce98b44f3f17d2f23690f3']</td>\n",
              "      <td>1.0</td>\n",
              "      <td>1</td>\n",
              "      <td>False</td>\n",
              "      <td>23</td>\n",
              "      <td>16.0</td>\n",
              "      <td>7.0</td>\n",
              "      <td>6</td>\n",
              "      <td>3.0</td>\n",
              "      <td>4.0</td>\n",
              "      <td>20</td>\n",
              "      <td>13.0</td>\n",
              "      <td>7.0</td>\n",
              "      <td>4</td>\n",
              "      <td>1.0</td>\n",
              "      <td>4.0</td>\n",
              "      <td>3.0</td>\n",
              "      <td>3.0</td>\n",
              "      <td>0.0</td>\n",
              "      <td>2.0</td>\n",
              "      <td>2.0</td>\n",
              "      <td>0.0</td>\n",
              "    </tr>\n",
              "  </tbody>\n",
              "</table>\n",
              "<p>120 rows × 26 columns</p>\n",
              "</div>\n",
              "      <button class=\"colab-df-convert\" onclick=\"convertToInteractive('df-9e7bb934-2e53-4678-9688-01ad079288ba')\"\n",
              "              title=\"Convert this dataframe to an interactive table.\"\n",
              "              style=\"display:none;\">\n",
              "        \n",
              "  <svg xmlns=\"http://www.w3.org/2000/svg\" height=\"24px\"viewBox=\"0 0 24 24\"\n",
              "       width=\"24px\">\n",
              "    <path d=\"M0 0h24v24H0V0z\" fill=\"none\"/>\n",
              "    <path d=\"M18.56 5.44l.94 2.06.94-2.06 2.06-.94-2.06-.94-.94-2.06-.94 2.06-2.06.94zm-11 1L8.5 8.5l.94-2.06 2.06-.94-2.06-.94L8.5 2.5l-.94 2.06-2.06.94zm10 10l.94 2.06.94-2.06 2.06-.94-2.06-.94-.94-2.06-.94 2.06-2.06.94z\"/><path d=\"M17.41 7.96l-1.37-1.37c-.4-.4-.92-.59-1.43-.59-.52 0-1.04.2-1.43.59L10.3 9.45l-7.72 7.72c-.78.78-.78 2.05 0 2.83L4 21.41c.39.39.9.59 1.41.59.51 0 1.02-.2 1.41-.59l7.78-7.78 2.81-2.81c.8-.78.8-2.07 0-2.86zM5.41 20L4 18.59l7.72-7.72 1.47 1.35L5.41 20z\"/>\n",
              "  </svg>\n",
              "      </button>\n",
              "      \n",
              "  <style>\n",
              "    .colab-df-container {\n",
              "      display:flex;\n",
              "      flex-wrap:wrap;\n",
              "      gap: 12px;\n",
              "    }\n",
              "\n",
              "    .colab-df-convert {\n",
              "      background-color: #E8F0FE;\n",
              "      border: none;\n",
              "      border-radius: 50%;\n",
              "      cursor: pointer;\n",
              "      display: none;\n",
              "      fill: #1967D2;\n",
              "      height: 32px;\n",
              "      padding: 0 0 0 0;\n",
              "      width: 32px;\n",
              "    }\n",
              "\n",
              "    .colab-df-convert:hover {\n",
              "      background-color: #E2EBFA;\n",
              "      box-shadow: 0px 1px 2px rgba(60, 64, 67, 0.3), 0px 1px 3px 1px rgba(60, 64, 67, 0.15);\n",
              "      fill: #174EA6;\n",
              "    }\n",
              "\n",
              "    [theme=dark] .colab-df-convert {\n",
              "      background-color: #3B4455;\n",
              "      fill: #D2E3FC;\n",
              "    }\n",
              "\n",
              "    [theme=dark] .colab-df-convert:hover {\n",
              "      background-color: #434B5C;\n",
              "      box-shadow: 0px 1px 3px 1px rgba(0, 0, 0, 0.15);\n",
              "      filter: drop-shadow(0px 1px 2px rgba(0, 0, 0, 0.3));\n",
              "      fill: #FFFFFF;\n",
              "    }\n",
              "  </style>\n",
              "\n",
              "      <script>\n",
              "        const buttonEl =\n",
              "          document.querySelector('#df-9e7bb934-2e53-4678-9688-01ad079288ba button.colab-df-convert');\n",
              "        buttonEl.style.display =\n",
              "          google.colab.kernel.accessAllowed ? 'block' : 'none';\n",
              "\n",
              "        async function convertToInteractive(key) {\n",
              "          const element = document.querySelector('#df-9e7bb934-2e53-4678-9688-01ad079288ba');\n",
              "          const dataTable =\n",
              "            await google.colab.kernel.invokeFunction('convertToInteractive',\n",
              "                                                     [key], {});\n",
              "          if (!dataTable) return;\n",
              "\n",
              "          const docLinkHtml = 'Like what you see? Visit the ' +\n",
              "            '<a target=\"_blank\" href=https://colab.research.google.com/notebooks/data_table.ipynb>data table notebook</a>'\n",
              "            + ' to learn more about interactive tables.';\n",
              "          element.innerHTML = '';\n",
              "          dataTable['output_type'] = 'display_data';\n",
              "          await google.colab.output.renderOutput(dataTable, element);\n",
              "          const docLink = document.createElement('div');\n",
              "          docLink.innerHTML = docLinkHtml;\n",
              "          element.appendChild(docLink);\n",
              "        }\n",
              "      </script>\n",
              "    </div>\n",
              "  </div>\n",
              "  "
            ],
            "text/plain": [
              "                 subreddit  ...  qauth_post_ban_authors\n",
              "873        ChoosingBeggars  ...                    20.0\n",
              "1612          Badfaketexts  ...                     6.0\n",
              "12271      QAnonCasualties  ...                     8.0\n",
              "12096           RachelCook  ...                     0.0\n",
              "6855          antinatalism  ...                     9.0\n",
              "...                    ...  ...                     ...\n",
              "10483         TrueSkeptics  ...                     0.0\n",
              "3424      JustSoyBoyThings  ...                     0.0\n",
              "5983   islamic_immigration  ...                     0.0\n",
              "11764     AussieConspiracy  ...                     0.0\n",
              "7467            marktaylor  ...                     0.0\n",
              "\n",
              "[120 rows x 26 columns]"
            ]
          },
          "execution_count": 82,
          "metadata": {},
          "output_type": "execute_result"
        }
      ],
      "source": [
        "subreddit_df[(subreddit_df['Q-enthusiactic Mods'] > 0) & (subreddit_df['numSubscribers'] > 100)].sort_values(by='numSubscribers', ascending=False)"
      ]
    },
    {
      "cell_type": "code",
      "execution_count": null,
      "metadata": {
        "colab": {
          "base_uri": "https://localhost:8080/",
          "height": 522
        },
        "id": "P6VfTj624MrA",
        "outputId": "beaebaa6-8f24-46e9-a83e-4b02906bd9cb"
      },
      "outputs": [
        {
          "data": {
            "text/html": [
              "\n",
              "  <div id=\"df-cdce18bf-97c0-448e-8b41-eede776b08bd\">\n",
              "    <div class=\"colab-df-container\">\n",
              "      <div>\n",
              "<style scoped>\n",
              "    .dataframe tbody tr th:only-of-type {\n",
              "        vertical-align: middle;\n",
              "    }\n",
              "\n",
              "    .dataframe tbody tr th {\n",
              "        vertical-align: top;\n",
              "    }\n",
              "\n",
              "    .dataframe thead th {\n",
              "        text-align: right;\n",
              "    }\n",
              "</style>\n",
              "<table border=\"1\" class=\"dataframe\">\n",
              "  <thead>\n",
              "    <tr style=\"text-align: right;\">\n",
              "      <th></th>\n",
              "      <th>subreddit</th>\n",
              "      <th>numSubscribers</th>\n",
              "      <th>status</th>\n",
              "      <th>allMods</th>\n",
              "      <th>qModNames</th>\n",
              "      <th>qMods</th>\n",
              "      <th>Q-enthusiactic Mods</th>\n",
              "      <th>Q-Interested Mods</th>\n",
              "      <th>allq_total_submissions</th>\n",
              "      <th>allq_pre_ban_submissions</th>\n",
              "      <th>allq_post_ban_submissions</th>\n",
              "      <th>allq_total_authors</th>\n",
              "      <th>allq_pre_ban_authors</th>\n",
              "      <th>allq_post_ban_authors</th>\n",
              "      <th>uq_total_submissions</th>\n",
              "      <th>uq_pre_ban_submissions</th>\n",
              "      <th>uq_post_ban_submissions</th>\n",
              "      <th>uq_total_authors</th>\n",
              "      <th>uq_pre_ban_authors</th>\n",
              "      <th>uq_post_ban_authors</th>\n",
              "      <th>qauth_total_submissions</th>\n",
              "      <th>qauth_pre_ban_submissions</th>\n",
              "      <th>qauth_post_ban_submissions</th>\n",
              "      <th>qauth_total_authors</th>\n",
              "      <th>qauth_pre_ban_authors</th>\n",
              "      <th>qauth_post_ban_authors</th>\n",
              "    </tr>\n",
              "  </thead>\n",
              "  <tbody>\n",
              "    <tr>\n",
              "      <th>7130</th>\n",
              "      <td>worldnews</td>\n",
              "      <td>26018298.0</td>\n",
              "      <td>public</td>\n",
              "      <td>100</td>\n",
              "      <td>['bc8231ed7e9077e98c247d371867d645c356a72c']</td>\n",
              "      <td>1.0</td>\n",
              "      <td>0</td>\n",
              "      <td>True</td>\n",
              "      <td>6614</td>\n",
              "      <td>4538.0</td>\n",
              "      <td>2071.0</td>\n",
              "      <td>424</td>\n",
              "      <td>339.0</td>\n",
              "      <td>168.0</td>\n",
              "      <td>2333</td>\n",
              "      <td>1553.0</td>\n",
              "      <td>778.0</td>\n",
              "      <td>143</td>\n",
              "      <td>117.0</td>\n",
              "      <td>57.0</td>\n",
              "      <td>4281.0</td>\n",
              "      <td>2985.0</td>\n",
              "      <td>1293.0</td>\n",
              "      <td>281.0</td>\n",
              "      <td>222.0</td>\n",
              "      <td>111.0</td>\n",
              "    </tr>\n",
              "    <tr>\n",
              "      <th>7384</th>\n",
              "      <td>UpliftingNews</td>\n",
              "      <td>16798384.0</td>\n",
              "      <td>public</td>\n",
              "      <td>7</td>\n",
              "      <td>['c15cc6f781604297148cc46b33651285c7f06b92']</td>\n",
              "      <td>1.0</td>\n",
              "      <td>0</td>\n",
              "      <td>True</td>\n",
              "      <td>485</td>\n",
              "      <td>325.0</td>\n",
              "      <td>158.0</td>\n",
              "      <td>103</td>\n",
              "      <td>76.0</td>\n",
              "      <td>46.0</td>\n",
              "      <td>206</td>\n",
              "      <td>125.0</td>\n",
              "      <td>81.0</td>\n",
              "      <td>28</td>\n",
              "      <td>21.0</td>\n",
              "      <td>14.0</td>\n",
              "      <td>279.0</td>\n",
              "      <td>200.0</td>\n",
              "      <td>77.0</td>\n",
              "      <td>75.0</td>\n",
              "      <td>55.0</td>\n",
              "      <td>32.0</td>\n",
              "    </tr>\n",
              "    <tr>\n",
              "      <th>3323</th>\n",
              "      <td>politics</td>\n",
              "      <td>7424678.0</td>\n",
              "      <td>public</td>\n",
              "      <td>64</td>\n",
              "      <td>['b5f8ca0b35afbb61edbbad5ab347575f431ef55f']</td>\n",
              "      <td>1.0</td>\n",
              "      <td>0</td>\n",
              "      <td>True</td>\n",
              "      <td>19610</td>\n",
              "      <td>9919.0</td>\n",
              "      <td>9660.0</td>\n",
              "      <td>881</td>\n",
              "      <td>622.0</td>\n",
              "      <td>437.0</td>\n",
              "      <td>4181</td>\n",
              "      <td>2366.0</td>\n",
              "      <td>1799.0</td>\n",
              "      <td>301</td>\n",
              "      <td>215.0</td>\n",
              "      <td>143.0</td>\n",
              "      <td>15429.0</td>\n",
              "      <td>7553.0</td>\n",
              "      <td>7861.0</td>\n",
              "      <td>580.0</td>\n",
              "      <td>407.0</td>\n",
              "      <td>294.0</td>\n",
              "    </tr>\n",
              "    <tr>\n",
              "      <th>11964</th>\n",
              "      <td>trashy</td>\n",
              "      <td>2345422.0</td>\n",
              "      <td>public</td>\n",
              "      <td>34</td>\n",
              "      <td>['550b01fe5be5e0c31ddb941bf5a8df3f085968fd']</td>\n",
              "      <td>1.0</td>\n",
              "      <td>0</td>\n",
              "      <td>True</td>\n",
              "      <td>459</td>\n",
              "      <td>220.0</td>\n",
              "      <td>239.0</td>\n",
              "      <td>183</td>\n",
              "      <td>93.0</td>\n",
              "      <td>112.0</td>\n",
              "      <td>130</td>\n",
              "      <td>56.0</td>\n",
              "      <td>74.0</td>\n",
              "      <td>44</td>\n",
              "      <td>19.0</td>\n",
              "      <td>33.0</td>\n",
              "      <td>329.0</td>\n",
              "      <td>164.0</td>\n",
              "      <td>165.0</td>\n",
              "      <td>139.0</td>\n",
              "      <td>74.0</td>\n",
              "      <td>79.0</td>\n",
              "    </tr>\n",
              "    <tr>\n",
              "      <th>4637</th>\n",
              "      <td>CryptoCurrency</td>\n",
              "      <td>1932469.0</td>\n",
              "      <td>public</td>\n",
              "      <td>17</td>\n",
              "      <td>['2a1e71012b8477230cd077d7664b61951abc3a44','a...</td>\n",
              "      <td>2.0</td>\n",
              "      <td>0</td>\n",
              "      <td>True</td>\n",
              "      <td>1616</td>\n",
              "      <td>1105.0</td>\n",
              "      <td>510.0</td>\n",
              "      <td>301</td>\n",
              "      <td>235.0</td>\n",
              "      <td>114.0</td>\n",
              "      <td>363</td>\n",
              "      <td>281.0</td>\n",
              "      <td>81.0</td>\n",
              "      <td>87</td>\n",
              "      <td>72.0</td>\n",
              "      <td>28.0</td>\n",
              "      <td>1253.0</td>\n",
              "      <td>824.0</td>\n",
              "      <td>429.0</td>\n",
              "      <td>214.0</td>\n",
              "      <td>163.0</td>\n",
              "      <td>86.0</td>\n",
              "    </tr>\n",
              "    <tr>\n",
              "      <th>...</th>\n",
              "      <td>...</td>\n",
              "      <td>...</td>\n",
              "      <td>...</td>\n",
              "      <td>...</td>\n",
              "      <td>...</td>\n",
              "      <td>...</td>\n",
              "      <td>...</td>\n",
              "      <td>...</td>\n",
              "      <td>...</td>\n",
              "      <td>...</td>\n",
              "      <td>...</td>\n",
              "      <td>...</td>\n",
              "      <td>...</td>\n",
              "      <td>...</td>\n",
              "      <td>...</td>\n",
              "      <td>...</td>\n",
              "      <td>...</td>\n",
              "      <td>...</td>\n",
              "      <td>...</td>\n",
              "      <td>...</td>\n",
              "      <td>...</td>\n",
              "      <td>...</td>\n",
              "      <td>...</td>\n",
              "      <td>...</td>\n",
              "      <td>...</td>\n",
              "      <td>...</td>\n",
              "    </tr>\n",
              "    <tr>\n",
              "      <th>1603</th>\n",
              "      <td>CBTS_Memes</td>\n",
              "      <td>149.0</td>\n",
              "      <td>public</td>\n",
              "      <td>1</td>\n",
              "      <td>['7fe08f66f6fcb895fac77ed42eece4323ed12b36']</td>\n",
              "      <td>1.0</td>\n",
              "      <td>0</td>\n",
              "      <td>True</td>\n",
              "      <td>19</td>\n",
              "      <td>18.0</td>\n",
              "      <td>1.0</td>\n",
              "      <td>8</td>\n",
              "      <td>8.0</td>\n",
              "      <td>1.0</td>\n",
              "      <td>6</td>\n",
              "      <td>5.0</td>\n",
              "      <td>1.0</td>\n",
              "      <td>5</td>\n",
              "      <td>5.0</td>\n",
              "      <td>1.0</td>\n",
              "      <td>13.0</td>\n",
              "      <td>13.0</td>\n",
              "      <td>0.0</td>\n",
              "      <td>3.0</td>\n",
              "      <td>3.0</td>\n",
              "      <td>0.0</td>\n",
              "    </tr>\n",
              "    <tr>\n",
              "      <th>8863</th>\n",
              "      <td>ReligiousFreedom</td>\n",
              "      <td>140.0</td>\n",
              "      <td>public</td>\n",
              "      <td>4</td>\n",
              "      <td>['dede0d83d76b788b973a74a27514b50c2beaef5c']</td>\n",
              "      <td>1.0</td>\n",
              "      <td>0</td>\n",
              "      <td>True</td>\n",
              "      <td>15</td>\n",
              "      <td>1.0</td>\n",
              "      <td>14.0</td>\n",
              "      <td>2</td>\n",
              "      <td>1.0</td>\n",
              "      <td>2.0</td>\n",
              "      <td>2</td>\n",
              "      <td>0.0</td>\n",
              "      <td>2.0</td>\n",
              "      <td>1</td>\n",
              "      <td>0.0</td>\n",
              "      <td>1.0</td>\n",
              "      <td>13.0</td>\n",
              "      <td>1.0</td>\n",
              "      <td>12.0</td>\n",
              "      <td>1.0</td>\n",
              "      <td>1.0</td>\n",
              "      <td>1.0</td>\n",
              "    </tr>\n",
              "    <tr>\n",
              "      <th>10483</th>\n",
              "      <td>TrueSkeptics</td>\n",
              "      <td>112.0</td>\n",
              "      <td>public</td>\n",
              "      <td>5</td>\n",
              "      <td>['4946cc910a74f67f13ea879c5050ed0430258d7b','0...</td>\n",
              "      <td>2.0</td>\n",
              "      <td>1</td>\n",
              "      <td>True</td>\n",
              "      <td>2</td>\n",
              "      <td>2.0</td>\n",
              "      <td>0.0</td>\n",
              "      <td>1</td>\n",
              "      <td>1.0</td>\n",
              "      <td>0.0</td>\n",
              "      <td>2</td>\n",
              "      <td>2.0</td>\n",
              "      <td>0.0</td>\n",
              "      <td>1</td>\n",
              "      <td>1.0</td>\n",
              "      <td>0.0</td>\n",
              "      <td>0.0</td>\n",
              "      <td>0.0</td>\n",
              "      <td>0.0</td>\n",
              "      <td>0.0</td>\n",
              "      <td>0.0</td>\n",
              "      <td>0.0</td>\n",
              "    </tr>\n",
              "    <tr>\n",
              "      <th>3424</th>\n",
              "      <td>JustSoyBoyThings</td>\n",
              "      <td>111.0</td>\n",
              "      <td>public</td>\n",
              "      <td>3</td>\n",
              "      <td>['fab1eb2e251632265435cc80a6747fa002e234a6','c...</td>\n",
              "      <td>2.0</td>\n",
              "      <td>1</td>\n",
              "      <td>True</td>\n",
              "      <td>4</td>\n",
              "      <td>3.0</td>\n",
              "      <td>1.0</td>\n",
              "      <td>1</td>\n",
              "      <td>1.0</td>\n",
              "      <td>1.0</td>\n",
              "      <td>4</td>\n",
              "      <td>3.0</td>\n",
              "      <td>1.0</td>\n",
              "      <td>1</td>\n",
              "      <td>1.0</td>\n",
              "      <td>1.0</td>\n",
              "      <td>0.0</td>\n",
              "      <td>0.0</td>\n",
              "      <td>0.0</td>\n",
              "      <td>0.0</td>\n",
              "      <td>0.0</td>\n",
              "      <td>0.0</td>\n",
              "    </tr>\n",
              "    <tr>\n",
              "      <th>9981</th>\n",
              "      <td>DTubeVideos</td>\n",
              "      <td>105.0</td>\n",
              "      <td>public</td>\n",
              "      <td>1</td>\n",
              "      <td>['44e9f9e32c48c778c9e62b2aba5b127d2897b106']</td>\n",
              "      <td>1.0</td>\n",
              "      <td>0</td>\n",
              "      <td>True</td>\n",
              "      <td>9</td>\n",
              "      <td>5.0</td>\n",
              "      <td>4.0</td>\n",
              "      <td>3</td>\n",
              "      <td>3.0</td>\n",
              "      <td>1.0</td>\n",
              "      <td>2</td>\n",
              "      <td>2.0</td>\n",
              "      <td>0.0</td>\n",
              "      <td>2</td>\n",
              "      <td>2.0</td>\n",
              "      <td>0.0</td>\n",
              "      <td>7.0</td>\n",
              "      <td>3.0</td>\n",
              "      <td>4.0</td>\n",
              "      <td>1.0</td>\n",
              "      <td>1.0</td>\n",
              "      <td>1.0</td>\n",
              "    </tr>\n",
              "  </tbody>\n",
              "</table>\n",
              "<p>106 rows × 26 columns</p>\n",
              "</div>\n",
              "      <button class=\"colab-df-convert\" onclick=\"convertToInteractive('df-cdce18bf-97c0-448e-8b41-eede776b08bd')\"\n",
              "              title=\"Convert this dataframe to an interactive table.\"\n",
              "              style=\"display:none;\">\n",
              "        \n",
              "  <svg xmlns=\"http://www.w3.org/2000/svg\" height=\"24px\"viewBox=\"0 0 24 24\"\n",
              "       width=\"24px\">\n",
              "    <path d=\"M0 0h24v24H0V0z\" fill=\"none\"/>\n",
              "    <path d=\"M18.56 5.44l.94 2.06.94-2.06 2.06-.94-2.06-.94-.94-2.06-.94 2.06-2.06.94zm-11 1L8.5 8.5l.94-2.06 2.06-.94-2.06-.94L8.5 2.5l-.94 2.06-2.06.94zm10 10l.94 2.06.94-2.06 2.06-.94-2.06-.94-.94-2.06-.94 2.06-2.06.94z\"/><path d=\"M17.41 7.96l-1.37-1.37c-.4-.4-.92-.59-1.43-.59-.52 0-1.04.2-1.43.59L10.3 9.45l-7.72 7.72c-.78.78-.78 2.05 0 2.83L4 21.41c.39.39.9.59 1.41.59.51 0 1.02-.2 1.41-.59l7.78-7.78 2.81-2.81c.8-.78.8-2.07 0-2.86zM5.41 20L4 18.59l7.72-7.72 1.47 1.35L5.41 20z\"/>\n",
              "  </svg>\n",
              "      </button>\n",
              "      \n",
              "  <style>\n",
              "    .colab-df-container {\n",
              "      display:flex;\n",
              "      flex-wrap:wrap;\n",
              "      gap: 12px;\n",
              "    }\n",
              "\n",
              "    .colab-df-convert {\n",
              "      background-color: #E8F0FE;\n",
              "      border: none;\n",
              "      border-radius: 50%;\n",
              "      cursor: pointer;\n",
              "      display: none;\n",
              "      fill: #1967D2;\n",
              "      height: 32px;\n",
              "      padding: 0 0 0 0;\n",
              "      width: 32px;\n",
              "    }\n",
              "\n",
              "    .colab-df-convert:hover {\n",
              "      background-color: #E2EBFA;\n",
              "      box-shadow: 0px 1px 2px rgba(60, 64, 67, 0.3), 0px 1px 3px 1px rgba(60, 64, 67, 0.15);\n",
              "      fill: #174EA6;\n",
              "    }\n",
              "\n",
              "    [theme=dark] .colab-df-convert {\n",
              "      background-color: #3B4455;\n",
              "      fill: #D2E3FC;\n",
              "    }\n",
              "\n",
              "    [theme=dark] .colab-df-convert:hover {\n",
              "      background-color: #434B5C;\n",
              "      box-shadow: 0px 1px 3px 1px rgba(0, 0, 0, 0.15);\n",
              "      filter: drop-shadow(0px 1px 2px rgba(0, 0, 0, 0.3));\n",
              "      fill: #FFFFFF;\n",
              "    }\n",
              "  </style>\n",
              "\n",
              "      <script>\n",
              "        const buttonEl =\n",
              "          document.querySelector('#df-cdce18bf-97c0-448e-8b41-eede776b08bd button.colab-df-convert');\n",
              "        buttonEl.style.display =\n",
              "          google.colab.kernel.accessAllowed ? 'block' : 'none';\n",
              "\n",
              "        async function convertToInteractive(key) {\n",
              "          const element = document.querySelector('#df-cdce18bf-97c0-448e-8b41-eede776b08bd');\n",
              "          const dataTable =\n",
              "            await google.colab.kernel.invokeFunction('convertToInteractive',\n",
              "                                                     [key], {});\n",
              "          if (!dataTable) return;\n",
              "\n",
              "          const docLinkHtml = 'Like what you see? Visit the ' +\n",
              "            '<a target=\"_blank\" href=https://colab.research.google.com/notebooks/data_table.ipynb>data table notebook</a>'\n",
              "            + ' to learn more about interactive tables.';\n",
              "          element.innerHTML = '';\n",
              "          dataTable['output_type'] = 'display_data';\n",
              "          await google.colab.output.renderOutput(dataTable, element);\n",
              "          const docLink = document.createElement('div');\n",
              "          docLink.innerHTML = docLinkHtml;\n",
              "          element.appendChild(docLink);\n",
              "        }\n",
              "      </script>\n",
              "    </div>\n",
              "  </div>\n",
              "  "
            ],
            "text/plain": [
              "              subreddit  ...  qauth_post_ban_authors\n",
              "7130          worldnews  ...                   111.0\n",
              "7384      UpliftingNews  ...                    32.0\n",
              "3323           politics  ...                   294.0\n",
              "11964            trashy  ...                    79.0\n",
              "4637     CryptoCurrency  ...                    86.0\n",
              "...                 ...  ...                     ...\n",
              "1603         CBTS_Memes  ...                     0.0\n",
              "8863   ReligiousFreedom  ...                     1.0\n",
              "10483      TrueSkeptics  ...                     0.0\n",
              "3424   JustSoyBoyThings  ...                     0.0\n",
              "9981        DTubeVideos  ...                     1.0\n",
              "\n",
              "[106 rows x 26 columns]"
            ]
          },
          "execution_count": 83,
          "metadata": {},
          "output_type": "execute_result"
        }
      ],
      "source": [
        "subreddit_df[(subreddit_df['Q-Interested Mods'] > 0) & (subreddit_df['numSubscribers'] > 100)].sort_values(by='numSubscribers', ascending=False)"
      ]
    },
    {
      "cell_type": "code",
      "execution_count": null,
      "metadata": {
        "id": "_9sxsRIV4MrA"
      },
      "outputs": [],
      "source": [
        "subreddit_df['participation'] = 1"
      ]
    },
    {
      "cell_type": "code",
      "execution_count": null,
      "metadata": {
        "id": "3W8i7bra4MrB"
      },
      "outputs": [],
      "source": [
        "subreddit_data = {}\n",
        "for _, row in subreddit_df.iterrows():\n",
        "    subreddit_data[row['subreddit']] = row"
      ]
    },
    {
      "cell_type": "code",
      "execution_count": null,
      "metadata": {
        "colab": {
          "base_uri": "https://localhost:8080/"
        },
        "id": "4W1E_x9q4MrB",
        "outputId": "3a22e215-6ec4-46e9-b9ea-e6fcc714bbe1"
      },
      "outputs": [
        {
          "data": {
            "text/plain": [
              "12987"
            ]
          },
          "execution_count": 86,
          "metadata": {},
          "output_type": "execute_result"
        }
      ],
      "source": [
        "len(subreddit_data)"
      ]
    },
    {
      "cell_type": "code",
      "execution_count": null,
      "metadata": {
        "colab": {
          "base_uri": "https://localhost:8080/"
        },
        "id": "Pgl7vLbK4MrB",
        "outputId": "0ad4fea0-d9cb-446d-8a3e-1b83187202bb"
      },
      "outputs": [
        {
          "name": "stdout",
          "output_type": "stream",
          "text": [
            "unrelated 629\n",
            "unconstricted behavior 73\n",
            "the unseen or unknown 83\n",
            "QAnon narrative 23\n",
            "current events 40\n",
            "politics - Trump opposing 25\n",
            "politics - Trump alignment unknown 33\n",
            "politics - Trump supporting 55\n",
            "constricted behavior 11\n",
            "unrelated 629\n",
            "sympathetic 145\n",
            "related-neutral 69\n",
            "QAnon 23\n",
            "related-misaligned 36\n",
            "related-aligned 56\n"
          ]
        }
      ],
      "source": [
        "labeled_sub_topics = set()\n",
        "for k, v in labeled_topic.items():\n",
        "    print(k, len(v))\n",
        "    for item in v:\n",
        "      labeled_sub_topics.add(item)\n",
        "    \n",
        "labeled_sub_relation = set()\n",
        "for k, v in labeled_relation.items():\n",
        "    print(k, len(v))\n",
        "    for item in v:\n",
        "      labeled_sub_relation.add(item)\n",
        "    "
      ]
    },
    {
      "cell_type": "code",
      "execution_count": null,
      "metadata": {
        "id": "SvVidtCS4MrB"
      },
      "outputs": [],
      "source": [
        "labeled_topic_new = {'QAnon': labeled_topic['QAnon narrative'],\n",
        "                    'Current events': labeled_topic['current events'],\n",
        "                    'Anti-Trump': labeled_topic['politics - Trump opposing'],\n",
        "                    'Pro-Trump': labeled_topic['politics - Trump supporting'],\n",
        "                    'Trump (unknown)': labeled_topic['politics - Trump alignment unknown'],\n",
        "                    'Constricted behavior': labeled_topic['constricted behavior'],\n",
        "                    'Unconstricted behavior': labeled_topic['unconstricted behavior'],\n",
        "                    'Unseen/unknown': labeled_topic['the unseen or unknown'],\n",
        "                    'Unrelated': labeled_topic['unrelated']}"
      ]
    },
    {
      "cell_type": "code",
      "execution_count": null,
      "metadata": {
        "id": "zHOmJHO34MrB"
      },
      "outputs": [],
      "source": [
        "labeled_relation_new = {'QAnon': labeled_relation['QAnon'],\n",
        "                    'Sympathetic': labeled_relation['sympathetic'],\n",
        "                    'Related~(aligned)': labeled_relation['related-aligned'],\n",
        "                    'Related~(neutral)': labeled_relation['related-neutral'],\n",
        "                    'Related~(misaligned)': labeled_relation['related-misaligned'],\n",
        "                    'Unrelated': labeled_topic['unrelated']}"
      ]
    },
    {
      "cell_type": "code",
      "execution_count": null,
      "metadata": {
        "colab": {
          "base_uri": "https://localhost:8080/"
        },
        "id": "bVF9G5564MrC",
        "outputId": "ffcdfec7-643b-4800-fa67-892ce8d3f8af"
      },
      "outputs": [
        {
          "data": {
            "text/plain": [
              "113"
            ]
          },
          "execution_count": 90,
          "metadata": {},
          "output_type": "execute_result"
        }
      ],
      "source": [
        "len(subreddit_df[(subreddit_df['Q-Interested Mods'] > 0)])"
      ]
    },
    {
      "cell_type": "code",
      "execution_count": null,
      "metadata": {
        "colab": {
          "base_uri": "https://localhost:8080/"
        },
        "id": "M8pr4zxd4MrC",
        "outputId": "c4257ffd-4b05-43a7-d944-ee88fb0c9e79"
      },
      "outputs": [
        {
          "data": {
            "text/plain": [
              "371"
            ]
          },
          "execution_count": 91,
          "metadata": {},
          "output_type": "execute_result"
        }
      ],
      "source": [
        "len(subreddit_df[(subreddit_df['Q-enthusiactic Mods'] > 0)])"
      ]
    },
    {
      "cell_type": "code",
      "execution_count": null,
      "metadata": {
        "colab": {
          "base_uri": "https://localhost:8080/"
        },
        "id": "6dM0Jnwg4MrC",
        "outputId": "ec0c7295-e870-4316-cd1f-e621729bad32"
      },
      "outputs": [
        {
          "name": "stdout",
          "output_type": "stream",
          "text": [
            "[[5, 9, 8, 11, 4, 2, 17, 20, 12]]\n",
            "(0.0, 1.0, 0, array([[ 5.,  9.,  8., 11.,  4.,  2., 17., 20., 12.]]))\n",
            "[[5, 35, 7, 13, 10, 12]]\n",
            "(0.0, 1.0, 0, array([[ 5., 35.,  7., 13., 10., 12.]]))\n"
          ]
        }
      ],
      "source": [
        "y_pos = [[], [], []]\n",
        "bar_names = [[], [], []]\n",
        "height = [[], [], []]\n",
        "types = [[], [], []]\n",
        "use_percentage = [False, False, True]\n",
        "labels = [['QAnon-enthusiastic users'], ['QAnon-enthusiastic users']]\n",
        "\n",
        "y_pos[0], bar_names[0], height[0], types[0] = plot_rq2(labeled_topic_new,\n",
        "                                                       ['Q-enthusiactic Mods'], subreddit_data,\n",
        "         ['participation'], 'Number of Subreddits',\n",
        "         'subscriber_numbers', use_percentage=False)\n",
        "\n",
        "y_pos[1], bar_names[1], height[1], types[1] = plot_rq2(labeled_relation_new,\n",
        "                                                       ['Q-enthusiactic Mods'], subreddit_data,\n",
        "         ['QAnon-enthusiastic', 'QAnon-interested'], 'Number of Mods',\n",
        "         'tmp', use_percentage=False)\n",
        "\n"
      ]
    },
    {
      "cell_type": "code",
      "execution_count": null,
      "metadata": {
        "colab": {
          "base_uri": "https://localhost:8080/"
        },
        "id": "UbkhQjSu4MrC",
        "outputId": "a0d9d47f-abb9-4cbc-848d-27aa85a1a915"
      },
      "outputs": [
        {
          "name": "stdout",
          "output_type": "stream",
          "text": [
            "(171.8467567656926, 4.830041940342164e-38, 2, array([[ 60.23553719,  31.75206612,  21.01239669],\n",
            "       [197.76446281, 104.24793388,  68.98760331]]))\n"
          ]
        }
      ],
      "source": [
        "height[2], y_pos[2], bar_names[2] = paint_bar_plot2([100, 10000], \n",
        "                                          [subreddit_df[(subreddit_df['Q-Interested Mods'] > 0)]['numSubscribers'].values,\n",
        "                                           subreddit_df[(subreddit_df['Q-enthusiactic Mods'] > 0)]['numSubscribers'].values])"
      ]
    },
    {
      "cell_type": "markdown",
      "metadata": {
        "id": "J7RuUe2YWwh-"
      },
      "source": [
        "### Fig. 4 Number of Subscribers & Labeled"
      ]
    },
    {
      "cell_type": "code",
      "execution_count": null,
      "metadata": {
        "colab": {
          "base_uri": "https://localhost:8080/"
        },
        "id": "MzfQq5pe4MrD",
        "outputId": "d06fa8f0-f818-4a02-f750-dd3c92d5756d"
      },
      "outputs": [
        {
          "data": {
            "text/plain": [
              "[[7, 44, 62], [251, 92, 28]]"
            ]
          },
          "execution_count": 94,
          "metadata": {},
          "output_type": "execute_result"
        }
      ],
      "source": [
        "height[2]"
      ]
    },
    {
      "cell_type": "code",
      "execution_count": null,
      "metadata": {
        "colab": {
          "base_uri": "https://localhost:8080/"
        },
        "id": "1tuz8L1u4MrD",
        "outputId": "aa36b4de-51df-4db4-94e9-92f258b3b690"
      },
      "outputs": [
        {
          "data": {
            "text/plain": [
              "371"
            ]
          },
          "execution_count": 95,
          "metadata": {},
          "output_type": "execute_result"
        }
      ],
      "source": [
        "251 + 92 + 28"
      ]
    },
    {
      "cell_type": "code",
      "execution_count": null,
      "metadata": {
        "colab": {
          "base_uri": "https://localhost:8080/"
        },
        "id": "mEflT4iD4MrD",
        "outputId": "137da2c8-a284-4f27-8339-9b903d26a3a2"
      },
      "outputs": [
        {
          "data": {
            "text/plain": [
              "113"
            ]
          },
          "execution_count": 96,
          "metadata": {},
          "output_type": "execute_result"
        }
      ],
      "source": [
        "7 + 44 + 62"
      ]
    },
    {
      "cell_type": "code",
      "execution_count": null,
      "metadata": {
        "colab": {
          "base_uri": "https://localhost:8080/",
          "height": 424
        },
        "id": "jGYAUpjl4MrE",
        "outputId": "d9bce59d-68d8-4f3c-9244-0c658de84fb7"
      },
      "outputs": [
        {
          "name": "stdout",
          "output_type": "stream",
          "text": [
            "[[5, 9, 8, 11, 4, 2, 17, 20, 12]]\n",
            "[[5, 35, 7, 13, 10, 12]]\n"
          ]
        },
        {
          "data": {
            "image/png": "[encoded data removed]",
            "text/plain": [
              "<Figure size 1800x432 with 3 Axes>"
            ]
          },
          "metadata": {
            "needs_background": "light"
          },
          "output_type": "display_data"
        }
      ],
      "source": [
        "fig, axs = plt.subplots(1, 3, figsize=(25, 6), gridspec_kw={'width_ratios': [1, 1, 1]})\n",
        "\n",
        "hatches=[['', '/'], ['', '/'], ['', '/']]\n",
        "titles = ['(b)', '(c)']\n",
        "xlabels = ['Number of Subreddits', 'Number of Subreddits', 'Percentage of Subreddits']\n",
        "alphas = [0.3, 0.6, 0.8]\n",
        "plt.subplots_adjust(wspace = 0.8)\n",
        "\n",
        "for ind in range(2):\n",
        "    \n",
        "  if ind == 0:\n",
        "    ax = axs[1]\n",
        "  else:\n",
        "    ax = axs[2]\n",
        "  barwidth = 0.8 / len(types[ind])\n",
        "  pos_delta = -0.4 + barwidth / 2.\n",
        "  for tind, t in enumerate(types[ind]):\n",
        "    ax.barh(y_pos[ind] + pos_delta, height[ind][tind], barwidth, color=colors[1],\n",
        "           align='center', alpha=alphas[1], ecolor='black', hatch=hatches[ind][1])\n",
        "    pos_delta += barwidth\n",
        "  ax.invert_yaxis()  # labels read top-to-bottom\n",
        "  print(height[ind])\n",
        "\n",
        "  vals = ax.get_xticks()\n",
        "  if use_percentage[ind]:\n",
        "    ax.set_xticks(vals)\n",
        "    ax.set_xticklabels(['${:d}\\%$'.format(int(x * 100)) for x in vals], fontsize=25)\n",
        "  ax.tick_params(axis='x', labelsize=22)\n",
        "\n",
        "  ax.set_xlabel(xlabels[ind], fontsize=25)\n",
        "  #if len(labels[ind]) > 1:\n",
        "  #  ax.legend(labels=labels[ind], loc='upper right', fontsize=25)\n",
        "  ax.set_title(titles[ind])\n",
        "\n",
        "  ax.set_yticks(y_pos[ind])\n",
        "  ax.set_yticklabels(bar_names[ind], fontsize=25)\n",
        "#axs[2].set_visible(False)\n",
        "\n",
        "axs[0].bar(y_pos[2]-0.2, height[2][0], color=colors[1], align='center', alpha=0.3, ecolor='black', width=0.4)\n",
        "axs[0].bar(y_pos[2]+0.2, height[2][1], color=colors[1], align='center', alpha=0.6, ecolor='black',\n",
        "           width=0.4, hatch=\"/\")\n",
        "axs[0].tick_params(axis='y', labelsize=25)\n",
        "\n",
        "axs[0].set_xticks(y_pos[2])\n",
        "axs[0].set_xticklabels(['(1, 100]', '(100, 10K]', '$> 10$K'], fontsize=22)\n",
        "axs[0].set_ylabel('Subreddits with Q-users as Moderators', fontsize=25)\n",
        "axs[0].set_xlabel('Number of Subscribers', fontsize=25)\n",
        "\n",
        "axs[0].set_title('(a)', fontsize=25)\n",
        "\n",
        "\n",
        "  # Save the figure and show\n",
        "  #plt.tight_layout()\n",
        "for ax in [axs[0], axs[1], axs[2]]:\n",
        "  ax.xaxis.grid(color=\"#d3d3d3\", ls=\":\")\n",
        "  ax.yaxis.grid(color=\"#d3d3d3\", ls=\":\")\n",
        "axs[0].legend(labels=['QAnon-interested users', 'QAnon-enthusiastic users'], \n",
        "              fontsize=25, loc='lower right', bbox_to_anchor=(2.1, -0.36), ncol=2)\n",
        "\n",
        "# plt.savefig('figs/subreddit_mod.pdf', bbox_inches = 'tight')\n",
        "plt.savefig(outputPath + 'figs/subreddit_mod.pdf', bbox_inches = 'tight')\n",
        "plt.show()"
      ]
    },
    {
      "cell_type": "code",
      "execution_count": null,
      "metadata": {
        "colab": {
          "base_uri": "https://localhost:8080/"
        },
        "id": "4CP52RAc4MrF",
        "outputId": "4bd72732-656b-4d00-d7c9-42f4cde0bdd9"
      },
      "outputs": [
        {
          "data": {
            "text/plain": [
              "915"
            ]
          },
          "execution_count": 98,
          "metadata": {},
          "output_type": "execute_result"
        }
      ],
      "source": [
        "len(labeled)"
      ]
    },
    {
      "cell_type": "markdown",
      "metadata": {
        "id": "lI7Bl7wrXAiH"
      },
      "source": [
        "### Fig. 2 Subreddits with different topic labels"
      ]
    },
    {
      "cell_type": "code",
      "execution_count": null,
      "metadata": {
        "colab": {
          "base_uri": "https://localhost:8080/",
          "height": 424
        },
        "id": "DBd8qS5ofcDH",
        "outputId": "1952f8e6-71e0-490a-a172-4b91d702eae7"
      },
      "outputs": [
        {
          "data": {
            "text/html": [
              "\n",
              "  <div id=\"df-17a496f0-ec8e-4c4a-825c-4b8b4b646b8f\">\n",
              "    <div class=\"colab-df-container\">\n",
              "      <div>\n",
              "<style scoped>\n",
              "    .dataframe tbody tr th:only-of-type {\n",
              "        vertical-align: middle;\n",
              "    }\n",
              "\n",
              "    .dataframe tbody tr th {\n",
              "        vertical-align: top;\n",
              "    }\n",
              "\n",
              "    .dataframe thead th {\n",
              "        text-align: right;\n",
              "    }\n",
              "</style>\n",
              "<table border=\"1\" class=\"dataframe\">\n",
              "  <thead>\n",
              "    <tr style=\"text-align: right;\">\n",
              "      <th></th>\n",
              "      <th>subreddit</th>\n",
              "      <th>Codes</th>\n",
              "      <th>Final Topic Clusters</th>\n",
              "      <th>Final Relation Clusters</th>\n",
              "    </tr>\n",
              "  </thead>\n",
              "  <tbody>\n",
              "    <tr>\n",
              "      <th>0</th>\n",
              "      <td>2070vids</td>\n",
              "      <td>['unrelated']</td>\n",
              "      <td>['unrelated']</td>\n",
              "      <td>['unrelated']</td>\n",
              "    </tr>\n",
              "    <tr>\n",
              "      <th>1</th>\n",
              "      <td>3Dprinting</td>\n",
              "      <td>['unrelated']</td>\n",
              "      <td>['unrelated']</td>\n",
              "      <td>['unrelated']</td>\n",
              "    </tr>\n",
              "    <tr>\n",
              "      <th>2</th>\n",
              "      <td>3Dprintmything</td>\n",
              "      <td>['unrelated']</td>\n",
              "      <td>['unrelated']</td>\n",
              "      <td>['unrelated']</td>\n",
              "    </tr>\n",
              "    <tr>\n",
              "      <th>3</th>\n",
              "      <td>49ers</td>\n",
              "      <td>['unrelated']</td>\n",
              "      <td>['unrelated']</td>\n",
              "      <td>['unrelated']</td>\n",
              "    </tr>\n",
              "    <tr>\n",
              "      <th>4</th>\n",
              "      <td>4KMobileWallpapers</td>\n",
              "      <td>['unrelated']</td>\n",
              "      <td>['unrelated']</td>\n",
              "      <td>['unrelated']</td>\n",
              "    </tr>\n",
              "    <tr>\n",
              "      <th>...</th>\n",
              "      <td>...</td>\n",
              "      <td>...</td>\n",
              "      <td>...</td>\n",
              "      <td>...</td>\n",
              "    </tr>\n",
              "    <tr>\n",
              "      <th>910</th>\n",
              "      <td>xboxone</td>\n",
              "      <td>['unrelated']</td>\n",
              "      <td>['unrelated']</td>\n",
              "      <td>['unrelated']</td>\n",
              "    </tr>\n",
              "    <tr>\n",
              "      <th>911</th>\n",
              "      <td>yokaiwatch</td>\n",
              "      <td>['unrelated']</td>\n",
              "      <td>['unrelated']</td>\n",
              "      <td>['unrelated']</td>\n",
              "    </tr>\n",
              "    <tr>\n",
              "      <th>912</th>\n",
              "      <td>youngstown</td>\n",
              "      <td>['unrelated']</td>\n",
              "      <td>['unrelated']</td>\n",
              "      <td>['unrelated']</td>\n",
              "    </tr>\n",
              "    <tr>\n",
              "      <th>913</th>\n",
              "      <td>zen</td>\n",
              "      <td>['metaphysical/wellness']</td>\n",
              "      <td>['the unseen or unknown']</td>\n",
              "      <td>['related-aligned']</td>\n",
              "    </tr>\n",
              "    <tr>\n",
              "      <th>914</th>\n",
              "      <td>zorinos</td>\n",
              "      <td>['unrelated']</td>\n",
              "      <td>['unrelated']</td>\n",
              "      <td>['unrelated']</td>\n",
              "    </tr>\n",
              "  </tbody>\n",
              "</table>\n",
              "<p>915 rows × 4 columns</p>\n",
              "</div>\n",
              "      <button class=\"colab-df-convert\" onclick=\"convertToInteractive('df-17a496f0-ec8e-4c4a-825c-4b8b4b646b8f')\"\n",
              "              title=\"Convert this dataframe to an interactive table.\"\n",
              "              style=\"display:none;\">\n",
              "        \n",
              "  <svg xmlns=\"http://www.w3.org/2000/svg\" height=\"24px\"viewBox=\"0 0 24 24\"\n",
              "       width=\"24px\">\n",
              "    <path d=\"M0 0h24v24H0V0z\" fill=\"none\"/>\n",
              "    <path d=\"M18.56 5.44l.94 2.06.94-2.06 2.06-.94-2.06-.94-.94-2.06-.94 2.06-2.06.94zm-11 1L8.5 8.5l.94-2.06 2.06-.94-2.06-.94L8.5 2.5l-.94 2.06-2.06.94zm10 10l.94 2.06.94-2.06 2.06-.94-2.06-.94-.94-2.06-.94 2.06-2.06.94z\"/><path d=\"M17.41 7.96l-1.37-1.37c-.4-.4-.92-.59-1.43-.59-.52 0-1.04.2-1.43.59L10.3 9.45l-7.72 7.72c-.78.78-.78 2.05 0 2.83L4 21.41c.39.39.9.59 1.41.59.51 0 1.02-.2 1.41-.59l7.78-7.78 2.81-2.81c.8-.78.8-2.07 0-2.86zM5.41 20L4 18.59l7.72-7.72 1.47 1.35L5.41 20z\"/>\n",
              "  </svg>\n",
              "      </button>\n",
              "      \n",
              "  <style>\n",
              "    .colab-df-container {\n",
              "      display:flex;\n",
              "      flex-wrap:wrap;\n",
              "      gap: 12px;\n",
              "    }\n",
              "\n",
              "    .colab-df-convert {\n",
              "      background-color: #E8F0FE;\n",
              "      border: none;\n",
              "      border-radius: 50%;\n",
              "      cursor: pointer;\n",
              "      display: none;\n",
              "      fill: #1967D2;\n",
              "      height: 32px;\n",
              "      padding: 0 0 0 0;\n",
              "      width: 32px;\n",
              "    }\n",
              "\n",
              "    .colab-df-convert:hover {\n",
              "      background-color: #E2EBFA;\n",
              "      box-shadow: 0px 1px 2px rgba(60, 64, 67, 0.3), 0px 1px 3px 1px rgba(60, 64, 67, 0.15);\n",
              "      fill: #174EA6;\n",
              "    }\n",
              "\n",
              "    [theme=dark] .colab-df-convert {\n",
              "      background-color: #3B4455;\n",
              "      fill: #D2E3FC;\n",
              "    }\n",
              "\n",
              "    [theme=dark] .colab-df-convert:hover {\n",
              "      background-color: #434B5C;\n",
              "      box-shadow: 0px 1px 3px 1px rgba(0, 0, 0, 0.15);\n",
              "      filter: drop-shadow(0px 1px 2px rgba(0, 0, 0, 0.3));\n",
              "      fill: #FFFFFF;\n",
              "    }\n",
              "  </style>\n",
              "\n",
              "      <script>\n",
              "        const buttonEl =\n",
              "          document.querySelector('#df-17a496f0-ec8e-4c4a-825c-4b8b4b646b8f button.colab-df-convert');\n",
              "        buttonEl.style.display =\n",
              "          google.colab.kernel.accessAllowed ? 'block' : 'none';\n",
              "\n",
              "        async function convertToInteractive(key) {\n",
              "          const element = document.querySelector('#df-17a496f0-ec8e-4c4a-825c-4b8b4b646b8f');\n",
              "          const dataTable =\n",
              "            await google.colab.kernel.invokeFunction('convertToInteractive',\n",
              "                                                     [key], {});\n",
              "          if (!dataTable) return;\n",
              "\n",
              "          const docLinkHtml = 'Like what you see? Visit the ' +\n",
              "            '<a target=\"_blank\" href=https://colab.research.google.com/notebooks/data_table.ipynb>data table notebook</a>'\n",
              "            + ' to learn more about interactive tables.';\n",
              "          element.innerHTML = '';\n",
              "          dataTable['output_type'] = 'display_data';\n",
              "          await google.colab.output.renderOutput(dataTable, element);\n",
              "          const docLink = document.createElement('div');\n",
              "          docLink.innerHTML = docLinkHtml;\n",
              "          element.appendChild(docLink);\n",
              "        }\n",
              "      </script>\n",
              "    </div>\n",
              "  </div>\n",
              "  "
            ],
            "text/plain": [
              "              subreddit  ... Final Relation Clusters\n",
              "0              2070vids  ...           ['unrelated']\n",
              "1            3Dprinting  ...           ['unrelated']\n",
              "2        3Dprintmything  ...           ['unrelated']\n",
              "3                 49ers  ...           ['unrelated']\n",
              "4    4KMobileWallpapers  ...           ['unrelated']\n",
              "..                  ...  ...                     ...\n",
              "910             xboxone  ...           ['unrelated']\n",
              "911          yokaiwatch  ...           ['unrelated']\n",
              "912          youngstown  ...           ['unrelated']\n",
              "913                 zen  ...     ['related-aligned']\n",
              "914             zorinos  ...           ['unrelated']\n",
              "\n",
              "[915 rows x 4 columns]"
            ]
          },
          "execution_count": 99,
          "metadata": {},
          "output_type": "execute_result"
        }
      ],
      "source": [
        "subreddit_label_df"
      ]
    },
    {
      "cell_type": "code",
      "execution_count": null,
      "metadata": {
        "colab": {
          "base_uri": "https://localhost:8080/",
          "height": 974
        },
        "id": "vHz6AlFAffYT",
        "outputId": "ba05c2f8-a0f7-4877-9621-34ee8f8b5da0"
      },
      "outputs": [
        {
          "data": {
            "text/html": [
              "\n",
              "  <div id=\"df-26cac095-3166-4ed8-a699-51938e6613b4\">\n",
              "    <div class=\"colab-df-container\">\n",
              "      <div>\n",
              "<style scoped>\n",
              "    .dataframe tbody tr th:only-of-type {\n",
              "        vertical-align: middle;\n",
              "    }\n",
              "\n",
              "    .dataframe tbody tr th {\n",
              "        vertical-align: top;\n",
              "    }\n",
              "\n",
              "    .dataframe thead th {\n",
              "        text-align: right;\n",
              "    }\n",
              "</style>\n",
              "<table border=\"1\" class=\"dataframe\">\n",
              "  <thead>\n",
              "    <tr style=\"text-align: right;\">\n",
              "      <th></th>\n",
              "      <th>subreddit</th>\n",
              "      <th>id</th>\n",
              "      <th>score</th>\n",
              "      <th>numReplies</th>\n",
              "      <th>author</th>\n",
              "      <th>title</th>\n",
              "      <th>text</th>\n",
              "      <th>is_self</th>\n",
              "      <th>domain</th>\n",
              "      <th>url</th>\n",
              "      <th>permalink</th>\n",
              "      <th>date_created</th>\n",
              "      <th>type</th>\n",
              "    </tr>\n",
              "  </thead>\n",
              "  <tbody>\n",
              "    <tr>\n",
              "      <th>0</th>\n",
              "      <td>greatawakening</td>\n",
              "      <td>8xuv4i</td>\n",
              "      <td>1</td>\n",
              "      <td>14</td>\n",
              "      <td>879f283b831c13474e219e88663d95b0763cca9b</td>\n",
              "      <td>I’ve been writing “Trump Lives Here” on my $20...</td>\n",
              "      <td>NaN</td>\n",
              "      <td>False</td>\n",
              "      <td>i.redd.it</td>\n",
              "      <td>https://i.redd.it/h3mbbxvxq7911.jpg</td>\n",
              "      <td>/r/greatawakening/comments/8xuv4i/ive_been_wri...</td>\n",
              "      <td>2018-07-11</td>\n",
              "      <td>submission</td>\n",
              "    </tr>\n",
              "    <tr>\n",
              "      <th>1</th>\n",
              "      <td>greatawakening</td>\n",
              "      <td>8ydw3e</td>\n",
              "      <td>1</td>\n",
              "      <td>13</td>\n",
              "      <td>879f283b831c13474e219e88663d95b0763cca9b</td>\n",
              "      <td>Trying to take him seriously but...</td>\n",
              "      <td>NaN</td>\n",
              "      <td>False</td>\n",
              "      <td>i.redd.it</td>\n",
              "      <td>https://i.redd.it/62gaw0th4l911.jpg</td>\n",
              "      <td>/r/greatawakening/comments/8ydw3e/trying_to_ta...</td>\n",
              "      <td>2018-07-12</td>\n",
              "      <td>submission</td>\n",
              "    </tr>\n",
              "    <tr>\n",
              "      <th>2</th>\n",
              "      <td>greatawakening</td>\n",
              "      <td>8ytwg0</td>\n",
              "      <td>1</td>\n",
              "      <td>0</td>\n",
              "      <td>879f283b831c13474e219e88663d95b0763cca9b</td>\n",
              "      <td>“It is all happening!” Crumb?</td>\n",
              "      <td>NaN</td>\n",
              "      <td>False</td>\n",
              "      <td>i.redd.it</td>\n",
              "      <td>https://i.redd.it/yo9zscb1jx911.jpg</td>\n",
              "      <td>/r/greatawakening/comments/8ytwg0/it_is_all_ha...</td>\n",
              "      <td>2018-07-14</td>\n",
              "      <td>submission</td>\n",
              "    </tr>\n",
              "    <tr>\n",
              "      <th>3</th>\n",
              "      <td>greatawakening</td>\n",
              "      <td>8ytx4z</td>\n",
              "      <td>1</td>\n",
              "      <td>114</td>\n",
              "      <td>879f283b831c13474e219e88663d95b0763cca9b</td>\n",
              "      <td>“It is all happening!” Positive sign hopefully...</td>\n",
              "      <td>NaN</td>\n",
              "      <td>False</td>\n",
              "      <td>i.redd.it</td>\n",
              "      <td>https://i.redd.it/v5c4zxcjjx911.jpg</td>\n",
              "      <td>/r/greatawakening/comments/8ytx4z/it_is_all_ha...</td>\n",
              "      <td>2018-07-14</td>\n",
              "      <td>submission</td>\n",
              "    </tr>\n",
              "    <tr>\n",
              "      <th>4</th>\n",
              "      <td>greatawakening</td>\n",
              "      <td>8yvgwt</td>\n",
              "      <td>1</td>\n",
              "      <td>23</td>\n",
              "      <td>879f283b831c13474e219e88663d95b0763cca9b</td>\n",
              "      <td>Pedogate is REAL! Happening here in my beloved...</td>\n",
              "      <td>NaN</td>\n",
              "      <td>False</td>\n",
              "      <td>foxnews.com</td>\n",
              "      <td>http://www.foxnews.com/us/2018/07/14/texas-wom...</td>\n",
              "      <td>/r/greatawakening/comments/8yvgwt/pedogate_is_...</td>\n",
              "      <td>2018-07-14</td>\n",
              "      <td>submission</td>\n",
              "    </tr>\n",
              "    <tr>\n",
              "      <th>...</th>\n",
              "      <td>...</td>\n",
              "      <td>...</td>\n",
              "      <td>...</td>\n",
              "      <td>...</td>\n",
              "      <td>...</td>\n",
              "      <td>...</td>\n",
              "      <td>...</td>\n",
              "      <td>...</td>\n",
              "      <td>...</td>\n",
              "      <td>...</td>\n",
              "      <td>...</td>\n",
              "      <td>...</td>\n",
              "      <td>...</td>\n",
              "    </tr>\n",
              "    <tr>\n",
              "      <th>2099870</th>\n",
              "      <td>The_Donald</td>\n",
              "      <td>dqrnbl</td>\n",
              "      <td>1161</td>\n",
              "      <td>130</td>\n",
              "      <td>c039f11ff985f7d8547748c10ccd5c8416b8404d</td>\n",
              "      <td>Imagine winning the World Series and skipping ...</td>\n",
              "      <td>NaN</td>\n",
              "      <td>False</td>\n",
              "      <td>i.redd.it</td>\n",
              "      <td>https://i.redd.it/5rveb05eocw31.png</td>\n",
              "      <td>/r/The_Donald/comments/dqrnbl/imagine_winning_...</td>\n",
              "      <td>2019-11-02</td>\n",
              "      <td>submission</td>\n",
              "    </tr>\n",
              "    <tr>\n",
              "      <th>2099871</th>\n",
              "      <td>The_Donald</td>\n",
              "      <td>drjrgx</td>\n",
              "      <td>34</td>\n",
              "      <td>3</td>\n",
              "      <td>c039f11ff985f7d8547748c10ccd5c8416b8404d</td>\n",
              "      <td>2A saves the day!! Again. And again. And again...</td>\n",
              "      <td>NaN</td>\n",
              "      <td>False</td>\n",
              "      <td>i.redd.it</td>\n",
              "      <td>https://i.redd.it/xxs61qz12pw31.png</td>\n",
              "      <td>/r/The_Donald/comments/drjrgx/2a_saves_the_day...</td>\n",
              "      <td>2019-11-04</td>\n",
              "      <td>submission</td>\n",
              "    </tr>\n",
              "    <tr>\n",
              "      <th>2099872</th>\n",
              "      <td>The_Donald</td>\n",
              "      <td>drk6ad</td>\n",
              "      <td>9</td>\n",
              "      <td>9</td>\n",
              "      <td>c039f11ff985f7d8547748c10ccd5c8416b8404d</td>\n",
              "      <td>LIBERALS CAN’T MEME: Example #97726628937</td>\n",
              "      <td>NaN</td>\n",
              "      <td>False</td>\n",
              "      <td>i.redd.it</td>\n",
              "      <td>https://i.redd.it/8o8otw7z6pw31.png</td>\n",
              "      <td>/r/The_Donald/comments/drk6ad/liberals_cant_me...</td>\n",
              "      <td>2019-11-04</td>\n",
              "      <td>submission</td>\n",
              "    </tr>\n",
              "    <tr>\n",
              "      <th>2099873</th>\n",
              "      <td>The_Donald</td>\n",
              "      <td>ds0yc7</td>\n",
              "      <td>35</td>\n",
              "      <td>3</td>\n",
              "      <td>c039f11ff985f7d8547748c10ccd5c8416b8404d</td>\n",
              "      <td>10 things DEMOCRATS always say INCORRECTLY!! S...</td>\n",
              "      <td>NaN</td>\n",
              "      <td>False</td>\n",
              "      <td>i.redd.it</td>\n",
              "      <td>https://i.redd.it/ofy8tjz42ww31.png</td>\n",
              "      <td>/r/The_Donald/comments/ds0yc7/10_things_democr...</td>\n",
              "      <td>2019-11-05</td>\n",
              "      <td>submission</td>\n",
              "    </tr>\n",
              "    <tr>\n",
              "      <th>2099874</th>\n",
              "      <td>The_Donald</td>\n",
              "      <td>ds1ywa</td>\n",
              "      <td>49</td>\n",
              "      <td>16</td>\n",
              "      <td>c039f11ff985f7d8547748c10ccd5c8416b8404d</td>\n",
              "      <td>LIBERAL LEO putting in the time to get Greta o...</td>\n",
              "      <td>NaN</td>\n",
              "      <td>False</td>\n",
              "      <td>i.redd.it</td>\n",
              "      <td>https://i.redd.it/3pb9duaoeww31.png</td>\n",
              "      <td>/r/The_Donald/comments/ds1ywa/liberal_leo_putt...</td>\n",
              "      <td>2019-11-05</td>\n",
              "      <td>submission</td>\n",
              "    </tr>\n",
              "  </tbody>\n",
              "</table>\n",
              "<p>2099875 rows × 13 columns</p>\n",
              "</div>\n",
              "      <button class=\"colab-df-convert\" onclick=\"convertToInteractive('df-26cac095-3166-4ed8-a699-51938e6613b4')\"\n",
              "              title=\"Convert this dataframe to an interactive table.\"\n",
              "              style=\"display:none;\">\n",
              "        \n",
              "  <svg xmlns=\"http://www.w3.org/2000/svg\" height=\"24px\"viewBox=\"0 0 24 24\"\n",
              "       width=\"24px\">\n",
              "    <path d=\"M0 0h24v24H0V0z\" fill=\"none\"/>\n",
              "    <path d=\"M18.56 5.44l.94 2.06.94-2.06 2.06-.94-2.06-.94-.94-2.06-.94 2.06-2.06.94zm-11 1L8.5 8.5l.94-2.06 2.06-.94-2.06-.94L8.5 2.5l-.94 2.06-2.06.94zm10 10l.94 2.06.94-2.06 2.06-.94-2.06-.94-.94-2.06-.94 2.06-2.06.94z\"/><path d=\"M17.41 7.96l-1.37-1.37c-.4-.4-.92-.59-1.43-.59-.52 0-1.04.2-1.43.59L10.3 9.45l-7.72 7.72c-.78.78-.78 2.05 0 2.83L4 21.41c.39.39.9.59 1.41.59.51 0 1.02-.2 1.41-.59l7.78-7.78 2.81-2.81c.8-.78.8-2.07 0-2.86zM5.41 20L4 18.59l7.72-7.72 1.47 1.35L5.41 20z\"/>\n",
              "  </svg>\n",
              "      </button>\n",
              "      \n",
              "  <style>\n",
              "    .colab-df-container {\n",
              "      display:flex;\n",
              "      flex-wrap:wrap;\n",
              "      gap: 12px;\n",
              "    }\n",
              "\n",
              "    .colab-df-convert {\n",
              "      background-color: #E8F0FE;\n",
              "      border: none;\n",
              "      border-radius: 50%;\n",
              "      cursor: pointer;\n",
              "      display: none;\n",
              "      fill: #1967D2;\n",
              "      height: 32px;\n",
              "      padding: 0 0 0 0;\n",
              "      width: 32px;\n",
              "    }\n",
              "\n",
              "    .colab-df-convert:hover {\n",
              "      background-color: #E2EBFA;\n",
              "      box-shadow: 0px 1px 2px rgba(60, 64, 67, 0.3), 0px 1px 3px 1px rgba(60, 64, 67, 0.15);\n",
              "      fill: #174EA6;\n",
              "    }\n",
              "\n",
              "    [theme=dark] .colab-df-convert {\n",
              "      background-color: #3B4455;\n",
              "      fill: #D2E3FC;\n",
              "    }\n",
              "\n",
              "    [theme=dark] .colab-df-convert:hover {\n",
              "      background-color: #434B5C;\n",
              "      box-shadow: 0px 1px 3px 1px rgba(0, 0, 0, 0.15);\n",
              "      filter: drop-shadow(0px 1px 2px rgba(0, 0, 0, 0.3));\n",
              "      fill: #FFFFFF;\n",
              "    }\n",
              "  </style>\n",
              "\n",
              "      <script>\n",
              "        const buttonEl =\n",
              "          document.querySelector('#df-26cac095-3166-4ed8-a699-51938e6613b4 button.colab-df-convert');\n",
              "        buttonEl.style.display =\n",
              "          google.colab.kernel.accessAllowed ? 'block' : 'none';\n",
              "\n",
              "        async function convertToInteractive(key) {\n",
              "          const element = document.querySelector('#df-26cac095-3166-4ed8-a699-51938e6613b4');\n",
              "          const dataTable =\n",
              "            await google.colab.kernel.invokeFunction('convertToInteractive',\n",
              "                                                     [key], {});\n",
              "          if (!dataTable) return;\n",
              "\n",
              "          const docLinkHtml = 'Like what you see? Visit the ' +\n",
              "            '<a target=\"_blank\" href=https://colab.research.google.com/notebooks/data_table.ipynb>data table notebook</a>'\n",
              "            + ' to learn more about interactive tables.';\n",
              "          element.innerHTML = '';\n",
              "          dataTable['output_type'] = 'display_data';\n",
              "          await google.colab.output.renderOutput(dataTable, element);\n",
              "          const docLink = document.createElement('div');\n",
              "          docLink.innerHTML = docLinkHtml;\n",
              "          element.appendChild(docLink);\n",
              "        }\n",
              "      </script>\n",
              "    </div>\n",
              "  </div>\n",
              "  "
            ],
            "text/plain": [
              "              subreddit      id  ...  date_created        type\n",
              "0        greatawakening  8xuv4i  ...    2018-07-11  submission\n",
              "1        greatawakening  8ydw3e  ...    2018-07-12  submission\n",
              "2        greatawakening  8ytwg0  ...    2018-07-14  submission\n",
              "3        greatawakening  8ytx4z  ...    2018-07-14  submission\n",
              "4        greatawakening  8yvgwt  ...    2018-07-14  submission\n",
              "...                 ...     ...  ...           ...         ...\n",
              "2099870      The_Donald  dqrnbl  ...    2019-11-02  submission\n",
              "2099871      The_Donald  drjrgx  ...    2019-11-04  submission\n",
              "2099872      The_Donald  drk6ad  ...    2019-11-04  submission\n",
              "2099873      The_Donald  ds0yc7  ...    2019-11-05  submission\n",
              "2099874      The_Donald  ds1ywa  ...    2019-11-05  submission\n",
              "\n",
              "[2099875 rows x 13 columns]"
            ]
          },
          "execution_count": 100,
          "metadata": {},
          "output_type": "execute_result"
        }
      ],
      "source": [
        "sub_df"
      ]
    },
    {
      "cell_type": "code",
      "execution_count": null,
      "metadata": {
        "colab": {
          "base_uri": "https://localhost:8080/"
        },
        "id": "8TyYk5u44MrF",
        "outputId": "dee09071-ca60-4852-99aa-9217cc979948"
      },
      "outputs": [
        {
          "name": "stdout",
          "output_type": "stream",
          "text": [
            "[[23, 40, 25, 55, 33, 11, 73, 83, 629]]\n",
            "(0.0, 1.0, 0, array([[ 23.,  40.,  25.,  55.,  33.,  11.,  73.,  83., 629.]]))\n",
            "[[8245.0, 38224.0, 4540.0, 219754.0, 33778.0, 4004.0, 39623.0, 34939.0, 77468.0], [25871, 81383, 12570, 406607, 42502, 2029, 235045, 139941, 85155]]\n",
            "(82077.32399811488, 0.0, 8, array([[ 10533.75909546,  36930.21820058,   5282.93522463,\n",
            "        193397.11222864,  23552.44295351,   1862.76728289,\n",
            "         84807.32041365,  53996.47645135,  50211.96814929],\n",
            "       [ 23582.24090454,  82676.78179942,  11827.06477537,\n",
            "        432963.88777136,  52727.55704649,   4170.23271711,\n",
            "        189860.67958635, 120883.52354865, 112411.03185071]]))\n",
            "[[21184.0, 38983.0, 4680.0, 201765.0, 20728.0, 649.0, 91999.0, 68071.0, 40669.0], [4666.0, 42271.0, 7858.0, 204205.0, 21713.0, 1371.0, 142664.0, 71739.0, 44366.0]]\n",
            "(20398.209862724358, 0.0, 8, array([[ 12270.64096948,  38570.16098005,   5951.61688493,\n",
            "        192708.39900892,  20146.16144626,    958.86633495,\n",
            "        111391.31225615,  66365.89222218,  40364.94989709],\n",
            "       [ 13579.35903052,  42683.83901995,   6586.38311507,\n",
            "        213261.60099108,  22294.83855374,   1061.13366505,\n",
            "        123271.68774385,  73444.10777782,  44670.05010291]]))\n"
          ]
        }
      ],
      "source": [
        "y_pos = [[], [], []]\n",
        "bar_names = [[], [], []]\n",
        "height = [[], [], []]\n",
        "types = [[], [], []]\n",
        "use_percentage = [False, True, True]\n",
        "tmp_subreddit_data = {k:v for k, v in subreddit_data.items() if k in labeled_sub_topics}\n",
        "labels = [['participation'], ['QAnon-interested users', 'QAnon-enthusiastic users'], ['Pre-ban', 'Post-ban']]\n",
        "\n",
        "y_pos[0], bar_names[0], height[0], types[0] = plot_rq2(labeled_topic_new, ['participation'], subreddit_data,\n",
        "         ['participation'], 'Number of Subreddits',\n",
        "         'subscriber_numbers', use_percentage=False)\n",
        "\n",
        "y_pos[1], bar_names[1], height[1], types[1] = plot_rq2(labeled_topic_new,\n",
        "         ['qauth_total_submissions', 'uq_total_submissions'], tmp_subreddit_data,\n",
        "         ['Q-enthusiastic', 'Q-interested'], 'Number of Mods',\n",
        "         'tmp', use_percentage=True)\n",
        "\n",
        "y_pos[2], bar_names[2], height[2], types[2] = plot_rq2(labeled_topic_new, \n",
        "         ['uq_pre_ban_submissions', 'uq_post_ban_submissions'], tmp_subreddit_data,\n",
        "         ['pre ban', 'post ban'], 'Average Number of Subscribers',\n",
        "         'tmp', use_percentage=True)"
      ]
    },
    {
      "cell_type": "code",
      "execution_count": null,
      "metadata": {
        "colab": {
          "base_uri": "https://localhost:8080/",
          "height": 455
        },
        "id": "pCiKhLDP4MrG",
        "outputId": "15cdd4a4-c952-42b8-f3a7-3f93075f5a4d"
      },
      "outputs": [
        {
          "name": "stdout",
          "output_type": "stream",
          "text": [
            "[[23, 40, 25, 55, 33, 11, 73, 83, 629]]\n",
            "[[0.01954217507134257, 0.09059795026403861, 0.010760639760326896, 0.520857627729268, 0.0800601078908198, 0.009490220616816937, 0.09391383903599837, 0.08281189264010164, 0.1836134891966969], [0.03256577415306455, 0.10244290510219367, 0.01582280472745628, 0.5118268227380124, 0.053500465117450026, 0.0025540549556092914, 0.29586882555011623, 0.1761542654228289, 0.10719100529566743]]\n",
            "[[0.053409575098390706, 0.09828481240844811, 0.011799320782688279, 0.5086944354100642, 0.05225989768879544, 0.0016362733307616864, 0.23194993860823482, 0.1716221292731568, 0.10253559335708325], [0.01176289670785109, 0.10656438206977571, 0.019809867623294872, 0.5147968971767535, 0.05473805748340564, 0.0034562647634941803, 0.35965321387245347, 0.1808526461475631, 0.1118458369782515]]\n"
          ]
        },
        {
          "data": {
            "image/png": "[encoded data removed]",
            "text/plain": [
              "<Figure size 1800x576 with 3 Axes>"
            ]
          },
          "metadata": {
            "needs_background": "light"
          },
          "output_type": "display_data"
        }
      ],
      "source": [
        "fig, axs = plt.subplots(1, 3, figsize=(25, 8), gridspec_kw={'width_ratios': [1, 1, 1]})\n",
        "plt.subplots_adjust(wspace = 0.1)\n",
        "\n",
        "hatches=[[''], ['', '/'], ['', '/']]\n",
        "titles = ['(a)', '(b)', '(c)']\n",
        "xlabels = ['Number of Subreddits', 'Percentage of Submissions', 'Percentage of Submissions']\n",
        "alphas = [0.3, 0.6, 0.8]\n",
        "\n",
        "for ind in range(3):\n",
        "  barwidth = 0.8 / len(types[ind])\n",
        "  pos_delta = -0.4 + barwidth / 2.\n",
        "  for tind, t in enumerate(types[ind]):\n",
        "    axs[ind].barh(y_pos[ind] + pos_delta, height[ind][tind], barwidth, color=colors[ind],\n",
        "           align='center', alpha=alphas[tind], ecolor='black', hatch=hatches[ind][tind])\n",
        "    pos_delta += barwidth\n",
        "  axs[ind].invert_yaxis()  # labels read top-to-bottom\n",
        "  print(height[ind])\n",
        "\n",
        "  vals = axs[ind].get_xticks()\n",
        "  if use_percentage[ind]:\n",
        "    axs[ind].set_xticks(vals)\n",
        "    axs[ind].set_xticklabels(['${:d}\\%$'.format(int(x * 100)) for x in vals], fontsize=25)\n",
        "  axs[ind].tick_params(axis='x', labelsize=25)\n",
        "\n",
        "  axs[ind].set_xlabel(xlabels[ind], fontsize=25)\n",
        "  if len(labels[ind]) > 1:\n",
        "    axs[ind].legend(labels=labels[ind], loc='upper right', fontsize=25)\n",
        "  axs[ind].set_title(titles[ind])\n",
        "  if ind:\n",
        "    axs[ind].set_yticklabels([], fontsize=20)\n",
        "\n",
        "\n",
        "axs[0].set_yticks(y_pos[ind])\n",
        "axs[0].set_yticklabels(bar_names[ind], fontsize=25)\n",
        "\n",
        "for ax in axs:\n",
        "  ax.xaxis.grid(color=\"#d3d3d3\", ls=\":\")\n",
        "  ax.yaxis.grid(color=\"#d3d3d3\", ls=\":\")\n",
        "\n",
        "plt.savefig(outputPath + 'figs/subreddit_topic.pdf', bbox_inches = 'tight')\n",
        "# plt.savefig('figs/subreddit_topic.pdf', bbox_inches = 'tight')\n",
        "plt.show()"
      ]
    },
    {
      "cell_type": "markdown",
      "metadata": {
        "id": "3vPlLG0gXGqy"
      },
      "source": [
        "### Fig. 3 Subreddits with different relation labels"
      ]
    },
    {
      "cell_type": "code",
      "execution_count": null,
      "metadata": {
        "colab": {
          "base_uri": "https://localhost:8080/"
        },
        "id": "-gBfwEFo9kJP",
        "outputId": "ceee5a5f-86dc-4c1c-dfc5-5e2fcc30912d"
      },
      "outputs": [
        {
          "data": {
            "text/plain": [
              "1444019.0"
            ]
          },
          "execution_count": 103,
          "metadata": {},
          "output_type": "execute_result"
        }
      ],
      "source": [
        "8245.0+270756.0+18394.0+ 55285.0+8544.0+ 77468.0 + 25871 + 605456+155783+118463+14599+ 85155"
      ]
    },
    {
      "cell_type": "code",
      "execution_count": null,
      "metadata": {
        "colab": {
          "base_uri": "https://localhost:8080/"
        },
        "id": "F2NvtMAc-bTw",
        "outputId": "42cb18df-2141-4d49-9997-ad3dc67c0765"
      },
      "outputs": [
        {
          "data": {
            "text/plain": [
              "1003887.0"
            ]
          },
          "execution_count": 104,
          "metadata": {},
          "output_type": "execute_result"
        }
      ],
      "source": [
        "21184.0+ 298771.0+ 57723.0+ 56395.0+ 5329.0+ 40669.0+4666.0+ 305823.0+ 97838.0+ 61894.0+ 9229.0+ 44366.0"
      ]
    },
    {
      "cell_type": "code",
      "execution_count": null,
      "metadata": {
        "colab": {
          "base_uri": "https://localhost:8080/"
        },
        "id": "3FVXT-dA4MrH",
        "outputId": "dbe0ef14-e009-4d1d-cdfa-c925c8ac25c8"
      },
      "outputs": [
        {
          "name": "stdout",
          "output_type": "stream",
          "text": [
            "[[23, 145, 56, 69, 36, 629]]\n",
            "(0.0, 1.0, 0, array([[ 23., 145.,  56.,  69.,  36., 629.]]))\n",
            "[[8245.0, 270756.0, 18394.0, 55285.0, 8544.0, 77468.0], [25871, 605456, 155783, 118463, 14599, 85155]]\n",
            "(56617.7481864486, 0.0, 5, array([[ 10364.41783107, 266192.61568165,  52914.85533362,\n",
            "         52784.52542245,   7030.82781875,  49404.75791247],\n",
            "       [ 23751.58216893, 610019.38431835, 121262.14466638,\n",
            "        120963.47457755,  16112.17218125, 113218.24208753]]))\n",
            "[[21184.0, 298771.0, 57723.0, 56395.0, 5329.0, 40669.0], [4666.0, 305823.0, 97838.0, 61894.0, 9229.0, 44366.0]]\n",
            "(20575.749914161355, 0.0, 5, array([[ 12361.78509135, 289124.22032958,  74391.16636733,\n",
            "         56567.2416507 ,   6961.81305067,  40664.77351037],\n",
            "       [ 13488.21490865, 315469.77967042,  81169.83363267,\n",
            "         61721.7583493 ,   7596.18694933,  44370.22648963]]))\n"
          ]
        }
      ],
      "source": [
        "y_pos = [[], [], []]\n",
        "bar_names = [[], [], []]\n",
        "height = [[], [], []]\n",
        "types = [[], [], []]\n",
        "use_percentage = [False, True, True]\n",
        "tmp_subreddit_data = {k: v for k, v in subreddit_data.items() if k in labeled_sub_relation}\n",
        "labels = [['participation'], ['QAnon-interested users', 'QAnon-enthusiastic users'], ['Pre-ban', 'Post-ban']]\n",
        "\n",
        "y_pos[0], bar_names[0], height[0], types[0] = plot_rq2(labeled_relation_new, ['participation'], subreddit_data,\n",
        "         ['participation'], 'Number of Subreddits',\n",
        "         'subscriber_numbers', use_percentage=False)\n",
        "\n",
        "y_pos[1], bar_names[1], height[1], types[1] = plot_rq2(labeled_relation_new,['qauth_total_submissions', 'uq_total_submissions'],\n",
        "                                                       tmp_subreddit_data,\n",
        "         ['Q-enthusiastic', 'Q-interested'], 'Number of Mods',\n",
        "         'tmp', use_percentage=True)\n",
        "\n",
        "y_pos[2], bar_names[2], height[2], types[2] = plot_rq2(labeled_relation_new, ['uq_pre_ban_submissions', 'uq_post_ban_submissions'],\n",
        "                                                       tmp_subreddit_data,\n",
        "         ['pre ban', 'post ban'], 'Average Number of Subscribers',\n",
        "         'tmp', use_percentage=True)"
      ]
    },
    {
      "cell_type": "code",
      "execution_count": null,
      "metadata": {
        "colab": {
          "base_uri": "https://localhost:8080/",
          "height": 384
        },
        "id": "VG4ueDYg4MrH",
        "outputId": "8466a5d1-6ac6-42a8-8418-d7017b2ce310"
      },
      "outputs": [
        {
          "name": "stdout",
          "output_type": "stream",
          "text": [
            "[[23, 145, 56, 69, 36, 629]]\n",
            "[[0.01954217507134257, 0.6417418015301914, 0.04359718232410857, 0.13103567602415692, 0.020250860377143833, 0.1836134891966969], [0.03256577415306455, 0.762133019814381, 0.1960957827253239, 0.14911829088533438, 0.01837685968306557, 0.10719100529566743]]\n",
            "[[0.053409575098390706, 0.7532681345223418, 0.1455325199869905, 0.14218433665378322, 0.013435594113449965, 0.10253559335708325], [0.01176289670785109, 0.7709739305368933, 0.24664772569711424, 0.15603358954902175, 0.02326613238678905, 0.1118458369782515]]\n"
          ]
        },
        {
          "data": {
            "image/png": "[encoded data removed]",
            "text/plain": [
              "<Figure size 1800x432 with 3 Axes>"
            ]
          },
          "metadata": {
            "needs_background": "light"
          },
          "output_type": "display_data"
        }
      ],
      "source": [
        "fig, axs = plt.subplots(1, 3, figsize=(25, 6), gridspec_kw={'width_ratios': [1, 1.1, 1]})\n",
        "plt.subplots_adjust(wspace = 0.1)\n",
        "\n",
        "hatches=[[''], ['', '/'], ['', '/']]\n",
        "titles = ['(a)', '(b)', '(c)']\n",
        "xlabels = ['Number of Subreddits', 'Percentage of Submissions', 'Percentage of Submissions']\n",
        "alphas = [0.3, 0.6, 0.8]\n",
        "\n",
        "for ind in range(3):\n",
        "  barwidth = 0.8 / len(types[ind])\n",
        "  pos_delta = -0.4 + barwidth / 2.\n",
        "  for tind, t in enumerate(types[ind]):\n",
        "    axs[ind].barh(y_pos[ind] + pos_delta, height[ind][tind], barwidth, color=colors[ind],\n",
        "           align='center', alpha=alphas[tind], ecolor='black', hatch=hatches[ind][tind])\n",
        "    pos_delta += barwidth\n",
        "  axs[ind].invert_yaxis()  # labels read top-to-bottom\n",
        "\n",
        "  vals = axs[ind].get_xticks()\n",
        "  if use_percentage[ind]:\n",
        "    axs[ind].set_xticks(vals)\n",
        "\n",
        "    axs[ind].set_xticklabels(['${:d}\\%$'.format(int(x * 100)) for x in vals], fontsize=25)\n",
        "  axs[ind].tick_params(axis='x', labelsize=25)\n",
        "\n",
        "  axs[ind].set_xlabel(xlabels[ind], fontsize=25)\n",
        "  if len(labels[ind]) > 1:\n",
        "    axs[ind].legend(labels=labels[ind], loc='lower right', fontsize=25)\n",
        "  axs[ind].set_title(titles[ind])\n",
        "  print(height[ind])\n",
        "  if ind:\n",
        "    axs[ind].set_yticklabels([], fontsize=25)\n",
        "\n",
        "\n",
        "\n",
        "axs[0].set_yticks(y_pos[ind])\n",
        "axs[0].set_yticklabels(bar_names[ind], fontsize=25)\n",
        "\n",
        "for ax in axs:\n",
        "  ax.xaxis.grid(color=\"#d3d3d3\", ls=\":\")\n",
        "  ax.yaxis.grid(color=\"#d3d3d3\", ls=\":\")\n",
        "\n",
        "plt.savefig(outputPath + 'figs/subreddit_relation.pdf', bbox_inches = 'tight')\n",
        "# plt.savefig('figs/subreddit_relation.pdf', bbox_inches = 'tight')\n",
        "plt.show()"
      ]
    },
    {
      "cell_type": "markdown",
      "metadata": {
        "id": "BULyC3U64MrH"
      },
      "source": [
        "## QANON-ENTHUSIASTIC USERS’ ACTIVITIES IN OTHER COMMUNITIES"
      ]
    },
    {
      "cell_type": "markdown",
      "metadata": {
        "id": "QUAwOaMYXXAZ"
      },
      "source": [
        "### Fig. 5 Types of submissions in subreddits"
      ]
    },
    {
      "cell_type": "code",
      "execution_count": null,
      "metadata": {
        "id": "d05k1Sht4MrI"
      },
      "outputs": [],
      "source": [
        "submission_df= []\n",
        "# datadir = \"/data/yiqing/QReddit/RQ3_Labelling Results\"\n",
        "datadir = inputPath + \"RQ3_LabellingResults\"\n",
        "for filename in os.listdir(datadir):\n",
        "    with open(os.path.join(datadir, filename), \"r\") as r:\n",
        "        tmp = pd.read_csv(r)\n",
        "    submission_df.append(tmp)"
      ]
    },
    {
      "cell_type": "code",
      "execution_count": null,
      "metadata": {
        "id": "vCbZAoP_4MrI"
      },
      "outputs": [],
      "source": [
        "submission_df = pd.concat(submission_df)"
      ]
    },
    {
      "cell_type": "code",
      "execution_count": null,
      "metadata": {
        "colab": {
          "base_uri": "https://localhost:8080/"
        },
        "id": "FpH_1L4y4MrI",
        "outputId": "c00ec0a0-d48e-4a84-c362-6da8dcd9d13b"
      },
      "outputs": [
        {
          "data": {
            "text/plain": [
              "1571"
            ]
          },
          "execution_count": 109,
          "metadata": {},
          "output_type": "execute_result"
        }
      ],
      "source": [
        "len(submission_df)"
      ]
    },
    {
      "cell_type": "code",
      "execution_count": null,
      "metadata": {
        "colab": {
          "base_uri": "https://localhost:8080/"
        },
        "id": "NCEZ74De4MrL",
        "outputId": "9d07a9ca-2310-4ade-edac-314d98b63388"
      },
      "outputs": [
        {
          "data": {
            "text/plain": [
              "233"
            ]
          },
          "execution_count": 110,
          "metadata": {},
          "output_type": "execute_result"
        }
      ],
      "source": [
        "submission_df.subreddit.nunique()"
      ]
    },
    {
      "cell_type": "code",
      "execution_count": null,
      "metadata": {
        "id": "HZH0l_IR4MrN"
      },
      "outputs": [],
      "source": [
        "def plot_rq3(labeled, types, subreddit_data, totalcnt, use_percentage=True):\n",
        "  bar_names = list(labeled.keys())\n",
        "  height = [[] for t in types]\n",
        "  yerr = [[] for t in types]\n",
        "  total = {}\n",
        "  \n",
        "  for bind, b in enumerate(bar_names):\n",
        "    total[bind] = 0\n",
        "    for subreddit in labeled[b]:\n",
        "      if subreddit not in totalcnt:\n",
        "        continue\n",
        "      total[bind] += totalcnt[subreddit] \n",
        "    #print(b, total[bind])\n",
        "    for tind, t in enumerate(types):\n",
        "      tmp = 0\n",
        "      for subreddit in labeled[b]:\n",
        "          if subreddit not in subreddit_data:\n",
        "            continue\n",
        "          tmp = tmp + subreddit_data[subreddit][t]\n",
        "      height[tind].append(tmp)\n",
        "  #print(height)\n",
        "  print(chi2_contingency(height))\n",
        "  for tind, t in enumerate(types):\n",
        "    if use_percentage:\n",
        "      height[tind] = [h / total[bind] for bind, h in enumerate(height[tind])]\n",
        "  y_pos = np.arange(len(bar_names))\n",
        "  return y_pos, bar_names, height, types"
      ]
    },
    {
      "cell_type": "code",
      "execution_count": null,
      "metadata": {
        "id": "oAwtbFR54MrO"
      },
      "outputs": [],
      "source": [
        "submission_data = {}\n",
        "total = defaultdict(int)\n",
        "labels = set()\n",
        "for _, row in submission_df.iterrows():\n",
        "    if row['subreddit'] not in submission_data:\n",
        "        submission_data[row['subreddit']] = defaultdict(int)\n",
        "    for entryind in range(1, 5):\n",
        "        entry = 'Reconcile Code{}'.format(entryind)\n",
        "        if type(row[entry]) is str:\n",
        "          submission_data[row['subreddit']][row[entry]] += 1\n",
        "          labels.add(row[entry])\n",
        "    total[row['subreddit']] += 1"
      ]
    },
    {
      "cell_type": "code",
      "execution_count": null,
      "metadata": {
        "colab": {
          "base_uri": "https://localhost:8080/"
        },
        "id": "tDcciPTR4MrO",
        "outputId": "feaed5ff-eb69-4bd5-acf2-918601edb92b"
      },
      "outputs": [
        {
          "data": {
            "text/plain": [
              "{'Conspiracy-Other',\n",
              " 'Conspiracy-Politics',\n",
              " 'Hate Speech',\n",
              " 'Low-quality Source',\n",
              " 'Negative Interaction',\n",
              " 'QAnon',\n",
              " 'Unrelated'}"
            ]
          },
          "execution_count": 114,
          "metadata": {},
          "output_type": "execute_result"
        }
      ],
      "source": [
        "labels"
      ]
    },
    {
      "cell_type": "code",
      "execution_count": null,
      "metadata": {
        "colab": {
          "base_uri": "https://localhost:8080/"
        },
        "id": "2Ug6fclK4MrP",
        "outputId": "35029d83-7abd-4f22-8a6f-ced1e4efa494"
      },
      "outputs": [
        {
          "data": {
            "text/plain": [
              "dict_keys(['Conspiracy-Politics', 'Unrelated', 'Conspiracy-Other', 'QAnon', 'Low-quality Source', 'Negative Interaction'])"
            ]
          },
          "execution_count": 115,
          "metadata": {},
          "output_type": "execute_result"
        }
      ],
      "source": [
        "submission_data['CoincidenceTheorist'].keys()"
      ]
    },
    {
      "cell_type": "code",
      "execution_count": null,
      "metadata": {
        "colab": {
          "base_uri": "https://localhost:8080/"
        },
        "id": "Pq8wmRQs4MrP",
        "outputId": "e813d94b-c469-4fe6-b09c-b25e8d354f1a"
      },
      "outputs": [
        {
          "name": "stdout",
          "output_type": "stream",
          "text": [
            "(897.2245330737379, 2.3425718910858582e-169, 30, array([[  9.44173192,  22.83740212,  11.69138646,  12.64578535,\n",
            "          8.82818977,   8.55550438],\n",
            "       [ 14.67296177,  35.49055735,  18.16904652,  19.65223399,\n",
            "         13.71948411,  13.29571626],\n",
            "       [ 17.35237218,  41.97144173,  21.48687241,  23.24090281,\n",
            "         16.22478121,  15.72362966],\n",
            "       [  1.65868263,   4.01197605,   2.05389222,   2.22155689,\n",
            "          1.5508982 ,   1.50299401],\n",
            "       [103.60386918, 250.59419622, 128.28926762, 138.76186089,\n",
            "         96.87148779,  93.87931829],\n",
            "       [ 18.75587287,  45.3661907 ,  23.22478121,  25.12068171,\n",
            "         17.53707969,  16.99539383],\n",
            "       [111.51450944, 269.72823584, 138.08475357, 149.35697835,\n",
            "        104.26807923, 101.04744357]]))\n",
            "(1086.0509606131359, 4.722364781425742e-196, 48, array([[  8.87978629,   8.81567231,   6.15494212,  13.11130899,\n",
            "          4.77649154,   2.14781834,  15.80409617,   4.2635797 ,\n",
            "          8.04630454],\n",
            "       [ 14.67631345,  14.57034728,  10.17275156,  21.67008014,\n",
            "          7.89447907,   3.54986643,  26.12065895,   7.04674978,\n",
            "         13.29875334],\n",
            "       [ 17.63624221,  17.50890472,  12.22439893,  26.04051647,\n",
            "          9.48664292,   4.26580588,  31.38869101,   8.46794301,\n",
            "         15.98085485],\n",
            "       [  1.60329475,   1.59171861,   1.11130899,   2.36731968,\n",
            "          0.86242208,   0.38780053,   2.85351736,   0.769813  ,\n",
            "          1.45280499],\n",
            "       [102.36420303, 101.62511131,  70.95280499, 151.14425646,\n",
            "         55.06233304,  24.75957257, 182.18610864,  49.14959929,\n",
            "         92.75601069],\n",
            "       [ 18.25289403,  18.12110419,  12.65182547,  26.95102404,\n",
            "          9.81834372,   4.41495993,  32.48619768,   8.76402493,\n",
            "         16.539626  ],\n",
            "       [113.58726625, 112.76714159,  78.73196794, 167.71549421,\n",
            "         61.09928762,  27.47417631, 202.16073019,  54.53829029,\n",
            "        102.92564559]]))\n"
          ]
        }
      ],
      "source": [
        "y_pos = [[], [], [], []]\n",
        "bar_names = [[], [], [], []]\n",
        "height = [[], [], [], []]\n",
        "types = [[], [], [], []]\n",
        "use_percentage = [True, True, True, True]\n",
        "labels = [['Conspiracy-Other',\n",
        " 'Conspiracy-Politics',\n",
        " 'Negative Interaction','Hate Speech', 'Low-quality Source', \n",
        " 'QAnon', 'Unrelated'], ['Conspiracy-Other',\n",
        " 'QAnon'], ['Conspiracy-Other',\n",
        " 'Conspiracy-Politics',\n",
        " 'Negative Interaction','Hate Speech','Low-quality Source',\n",
        " 'QAnon']]\n",
        "\n",
        "y_pos[0], bar_names[0], height[0], types[0] = plot_rq3(labeled_relation_new, labels[0], submission_data,\n",
        "                                                       total, use_percentage=True)\n",
        "\n",
        "y_pos[1], bar_names[1], height[1], types[1] = plot_rq3(labeled_topic_new, labels[0], submission_data,\n",
        "                                                       total, use_percentage=True)"
      ]
    },
    {
      "cell_type": "code",
      "execution_count": null,
      "metadata": {
        "colab": {
          "base_uri": "https://localhost:8080/"
        },
        "id": "rd6c3Wnn4MrP",
        "outputId": "1d33e87d-7555-4d4e-8c90-6a1123944af1"
      },
      "outputs": [
        {
          "data": {
            "text/plain": [
              "[[0.11952191235059761,\n",
              "  0.02821316614420063,\n",
              "  0.0425531914893617,\n",
              "  0.01662049861495845,\n",
              "  0.01968503937007874,\n",
              "  0.004],\n",
              " [0.12350597609561753,\n",
              "  0.050156739811912224,\n",
              "  0.04559270516717325,\n",
              "  0.038781163434903045,\n",
              "  0.08661417322834646,\n",
              "  0.004],\n",
              " [0.08764940239043825,\n",
              "  0.08150470219435736,\n",
              "  0.0547112462006079,\n",
              "  0.055401662049861494,\n",
              "  0.07874015748031496,\n",
              "  0.016],\n",
              " [0.01593625498007968,\n",
              "  0.007836990595611285,\n",
              "  0.0060790273556231,\n",
              "  0.002770083102493075,\n",
              "  0.003937007874015748,\n",
              "  0.0],\n",
              " [0.13147410358565736,\n",
              "  0.5532915360501567,\n",
              "  0.6474164133738601,\n",
              "  0.42382271468144045,\n",
              "  0.1732283464566929,\n",
              "  0.064],\n",
              " [0.3426294820717131,\n",
              "  0.047021943573667714,\n",
              "  0.030395136778115502,\n",
              "  0.0332409972299169,\n",
              "  0.015748031496062992,\n",
              "  0.02],\n",
              " [0.28286852589641437,\n",
              "  0.28213166144200624,\n",
              "  0.21580547112462006,\n",
              "  0.45706371191135736,\n",
              "  0.6417322834645669,\n",
              "  0.896]]"
            ]
          },
          "execution_count": 117,
          "metadata": {},
          "output_type": "execute_result"
        }
      ],
      "source": [
        "height[0]"
      ]
    },
    {
      "cell_type": "code",
      "execution_count": null,
      "metadata": {
        "id": "jIt0y7_74MrP"
      },
      "outputs": [],
      "source": [
        "bar_names_new = [['QAnon',\n",
        " 'Sympathetic',      \n",
        " 'Related\\n(aligned)',\n",
        " 'Related\\n(neutral)',\n",
        " 'Related\\n(misaligned)',\n",
        " 'Unrelated'],\n",
        " ['QAnon',\n",
        " 'Current\\nevents',\n",
        " 'Anti-\\nTrump',\n",
        " 'Pro-\\nTrump',\n",
        " 'Trump\\nunknown',\n",
        " 'Constricted\\nbehavior',\n",
        " 'Unconstricted\\nbehavior',\n",
        " 'Unseen\\n/unknown',\n",
        " 'Unrelated']]"
      ]
    },
    {
      "cell_type": "code",
      "execution_count": null,
      "metadata": {
        "colab": {
          "base_uri": "https://localhost:8080/",
          "height": 376
        },
        "id": "SsnA-O4O4MrP",
        "outputId": "2adb1b26-56a7-4c13-a659-82d0a7fb4df3"
      },
      "outputs": [
        {
          "name": "stdout",
          "output_type": "stream",
          "text": [
            "[[0.11952191235059761, 0.02821316614420063, 0.0425531914893617, 0.01662049861495845, 0.01968503937007874, 0.004], [0.12350597609561753, 0.050156739811912224, 0.04559270516717325, 0.038781163434903045, 0.08661417322834646, 0.004], [0.08764940239043825, 0.08150470219435736, 0.0547112462006079, 0.055401662049861494, 0.07874015748031496, 0.016], [0.01593625498007968, 0.007836990595611285, 0.0060790273556231, 0.002770083102493075, 0.003937007874015748, 0.0], [0.13147410358565736, 0.5532915360501567, 0.6474164133738601, 0.42382271468144045, 0.1732283464566929, 0.064], [0.3426294820717131, 0.047021943573667714, 0.030395136778115502, 0.0332409972299169, 0.015748031496062992, 0.02], [0.28286852589641437, 0.28213166144200624, 0.21580547112462006, 0.45706371191135736, 0.6417322834645669, 0.896]]\n",
            "[[0.11952191235059761, 0.014814814814814815, 0.0213903743315508, 0.012919896640826873, 0.013888888888888888, 0.014925373134328358, 0.02127659574468085, 0.11627906976744186, 0.004], [0.12350597609561753, 0.037037037037037035, 0.11229946524064172, 0.04392764857881137, 0.027777777777777776, 0.014925373134328358, 0.03829787234042553, 0.12403100775193798, 0.004], [0.08764940239043825, 0.03333333333333333, 0.0855614973262032, 0.10335917312661498, 0.09722222222222222, 0.05970149253731343, 0.06382978723404255, 0.031007751937984496, 0.016], [0.01593625498007968, 0.0, 0.0, 0.007751937984496124, 0.006944444444444444, 0.014925373134328358, 0.006382978723404255, 0.007751937984496124, 0.0], [0.13147410358565736, 0.45925925925925926, 0.12834224598930483, 0.6124031007751938, 0.2777777777777778, 0.29850746268656714, 0.6680851063829787, 0.17054263565891473, 0.064], [0.3426294820717131, 0.014814814814814815, 0.016042780748663103, 0.020671834625323, 0.05555555555555555, 0.014925373134328358, 0.03829787234042553, 0.11627906976744186, 0.02], [0.28286852589641437, 0.45925925925925926, 0.6631016042780749, 0.2558139534883721, 0.5555555555555556, 0.582089552238806, 0.2127659574468085, 0.46511627906976744, 0.896]]\n"
          ]
        },
        {
          "data": {
            "image/png": "[encoded data removed]",
            "text/plain": [
              "<Figure size 1800x360 with 2 Axes>"
            ]
          },
          "metadata": {
            "needs_background": "light"
          },
          "output_type": "display_data"
        }
      ],
      "source": [
        "fig, axs = plt.subplots(1, 2, figsize=(25, 5), gridspec_kw={'width_ratios': [1,1.7]}, sharey=True)\n",
        "plt.subplots_adjust(wspace = 0.1)\n",
        "\n",
        "#hatches=[['', '-', '/', '+'], ['', '-', '/', '+']]\n",
        "titles = ['(a)', '(b)', '(c)']\n",
        "xlabels = ['Number of Subreddits', 'Percentage of Submissions', 'Percentage of Submissions']\n",
        "alphas = [0.1, 0.25, 0.4, 0.55, 0.7, 0.9, 1]\n",
        "\n",
        "for ind in range(2):\n",
        "  barwidth = 0.8 / len(types[ind])\n",
        "  pos_delta = -0.4 + barwidth / 2.\n",
        "  for tind, t in enumerate(types[ind]):\n",
        "    axs[ind].bar(y_pos[ind] + pos_delta, height[ind][tind], barwidth, color=colors[3],\n",
        "           align='center', alpha=alphas[tind], ecolor='black')#, hatch=hatches[ind][tind])\n",
        "    pos_delta += barwidth\n",
        "  #axs[ind].invert_yaxis()  # labels read top-to-bottom\n",
        "\n",
        "  vals = axs[ind].get_yticks()\n",
        "  if use_percentage[ind]:\n",
        "    axs[ind].set_yticks(vals)\n",
        "\n",
        "    axs[ind].set_yticklabels(['${:d}\\%$'.format(int(x * 100)) for x in vals], fontsize=25)\n",
        "  axs[ind].tick_params(axis='y', labelsize=25)\n",
        "\n",
        "  #if len(labels[ind]) > 1:\n",
        "  #  axs[ind].legend(labels=labels[ind], loc='upper right', fontsize=25)\n",
        "  axs[ind].set_title(titles[ind])\n",
        "  print(height[ind])\n",
        "\n",
        "  axs[ind].set_xticks(y_pos[ind])\n",
        "  axs[ind].set_xticklabels(bar_names_new[ind], fontsize=15)\n",
        "axs[0].set_ylabel('Percentage of Submissions', fontsize=25)\n",
        "axs[1].legend(labels=['Conspiracy-other',\n",
        " 'Conspiracy-politics',\n",
        " 'Negative interaction', 'Hate speech', 'Low-quality source', \n",
        " 'QAnon conspiracy', 'Unrelated'], loc='upper right', fontsize=19, ncol=7, bbox_to_anchor=(1.03, -0.16))\n",
        "for ax in axs:\n",
        "  ax.xaxis.grid(color=\"#d3d3d3\", ls=\":\")\n",
        "  ax.yaxis.grid(color=\"#d3d3d3\", ls=\":\")\n",
        "plt.savefig(outputPath + 'figs/subreddit_submission.pdf', bbox_inches = 'tight')\n",
        "# plt.savefig('figs/subreddit_submission.pdf', bbox_inches = 'tight')\n",
        "plt.show()"
      ]
    },
    {
      "cell_type": "code",
      "execution_count": null,
      "metadata": {
        "id": "idDr-x48o0vN"
      },
      "outputs": [],
      "source": [
        "count = 0\n",
        "\n",
        "for subreddit, values in submission_data.items():\n",
        "    count += values[\"Hate Speech\"]\n",
        "    # for label in values.keys():\n",
        "    #     count += values[label]"
      ]
    },
    {
      "cell_type": "code",
      "execution_count": null,
      "metadata": {
        "colab": {
          "base_uri": "https://localhost:8080/"
        },
        "id": "FoIBFHrzWANG",
        "outputId": "c988eb04-c1a6-44db-89ee-4c320848294e"
      },
      "outputs": [
        {
          "data": {
            "text/plain": [
              "10"
            ]
          },
          "execution_count": 121,
          "metadata": {},
          "output_type": "execute_result"
        }
      ],
      "source": [
        "count"
      ]
    },
    {
      "cell_type": "code",
      "execution_count": null,
      "metadata": {
        "colab": {
          "base_uri": "https://localhost:8080/"
        },
        "id": "ymWPZKiA4DEO",
        "outputId": "91c9c874-ac93-46f8-8c82-1d22e7001b0c"
      },
      "outputs": [
        {
          "data": {
            "text/plain": [
              "0.006365372374283896"
            ]
          },
          "execution_count": 122,
          "metadata": {},
          "output_type": "execute_result"
        }
      ],
      "source": [
        "10/1571"
      ]
    }
  ],
  "metadata": {
    "colab": {
      "collapsed_sections": [
        "uBTerNpQ8i6o",
        "7uWFtQAQ8qIz",
        "HNRRGbFI9WJV",
        "_M8sc6xnE7Na",
        "UAfo7yLC4Mqr",
        "BULyC3U64MrH"
      ],
      "machine_shape": "hm",
      "name": "QReddit plots.ipynb",
      "provenance": []
    },
    "kernelspec": {
      "display_name": "Python 3",
      "language": "python",
      "name": "python3"
    },
    "language_info": {
      "codemirror_mode": {
        "name": "ipython",
        "version": 3
      },
      "file_extension": ".py",
      "mimetype": "text/x-python",
      "name": "python",
      "nbconvert_exporter": "python",
      "pygments_lexer": "ipython3",
      "version": "3.8.5"
    }
  },
  "nbformat": 4,
  "nbformat_minor": 0
}
